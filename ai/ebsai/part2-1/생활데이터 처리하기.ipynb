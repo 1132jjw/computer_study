{
 "cells": [
  {
   "cell_type": "code",
   "execution_count": 1,
   "metadata": {},
   "outputs": [],
   "source": [
    "import matplotlib.pyplot as plt"
   ]
  },
  {
   "cell_type": "code",
   "execution_count": 4,
   "metadata": {},
   "outputs": [
    {
     "data": {
      "text/plain": [
       "[<matplotlib.lines.Line2D at 0x7f8419c63fd0>]"
      ]
     },
     "execution_count": 4,
     "metadata": {},
     "output_type": "execute_result"
    },
    {
     "data": {
      "image/png": "[encoded data removed]",
      "text/plain": [
       "<Figure size 432x288 with 1 Axes>"
      ]
     },
     "metadata": {
      "needs_background": "light"
     },
     "output_type": "display_data"
    }
   ],
   "source": [
    "plt.plot([1, 3, 5, 7], [10, 20, 30, 40])"
   ]
  },
  {
   "cell_type": "code",
   "execution_count": 12,
   "metadata": {},
   "outputs": [],
   "source": [
    "a = [242, 256, 237, 223, 263, 81, 46]"
   ]
  },
  {
   "cell_type": "code",
   "execution_count": 6,
   "metadata": {},
   "outputs": [
    {
     "data": {
      "text/plain": [
       "[242, 256, 237, 223, 263, 81, 45]"
      ]
     },
     "execution_count": 6,
     "metadata": {},
     "output_type": "execute_result"
    }
   ],
   "source": [
    "a"
   ]
  },
  {
   "cell_type": "code",
   "execution_count": 8,
   "metadata": {},
   "outputs": [],
   "source": [
    "n = len(a)"
   ]
  },
  {
   "cell_type": "code",
   "execution_count": 9,
   "metadata": {},
   "outputs": [
    {
     "data": {
      "text/plain": [
       "7"
      ]
     },
     "execution_count": 9,
     "metadata": {},
     "output_type": "execute_result"
    }
   ],
   "source": [
    "n"
   ]
  },
  {
   "cell_type": "code",
   "execution_count": 13,
   "metadata": {},
   "outputs": [
    {
     "data": {
      "text/plain": [
       "192.57142857142858"
      ]
     },
     "execution_count": 13,
     "metadata": {},
     "output_type": "execute_result"
    }
   ],
   "source": [
    "sum = 0\n",
    "for i in range(7):\n",
    "    sum += a[i]\n",
    "avg = sum / 7\n",
    "avg"
   ]
  },
  {
   "cell_type": "code",
   "execution_count": 14,
   "metadata": {},
   "outputs": [],
   "source": [
    "x_data = ['MON', 'TUE', 'WED', 'THR', 'FRI', 'SAT', 'SUN']"
   ]
  },
  {
   "cell_type": "code",
   "execution_count": 25,
   "metadata": {},
   "outputs": [
    {
     "data": {
      "image/png": "[encoded data removed]",
      "text/plain": [
       "<Figure size 432x288 with 1 Axes>"
      ]
     },
     "metadata": {
      "needs_background": "light"
     },
     "output_type": "display_data"
    },
    {
     "name": "stdout",
     "output_type": "stream",
     "text": [
      "1221\n",
      "244.2\n"
     ]
    }
   ],
   "source": [
    "plt.title(\"pop\")\n",
    "plt.xlabel('day')\n",
    "plt.ylabel('pop')\n",
    "plt.scatter(x_data[:5], a[:5], c='red', s=50)\n",
    "plt.plot(x_data, a)\n",
    "plt.show()\n",
    "weekday_size = 5\n",
    "weekday_sum = 0\n",
    "weekday_avg = 0\n",
    "for i in range(weekday_size):\n",
    "    weekday_sum += a[i]\n",
    "weekday_avg = weekday_sum / weekday_size\n",
    "print(weekday_sum)\n",
    "print(weekday_avg)"
   ]
  },
  {
   "cell_type": "code",
   "execution_count": 44,
   "metadata": {},
   "outputs": [
    {
     "name": "stdout",
     "output_type": "stream",
     "text": [
      "MON [ 0 ] = {'num': '0', 'wnum': '0', 'ynum': '0'}\n",
      "MON [ 1 ] = {'num': '0', 'wnum': '0', 'ynum': '0'}\n",
      "MON [ 2 ] = {'num': '0', 'wnum': '0', 'ynum': '0'}\n",
      "MON [ 3 ] = {'num': '0', 'wnum': '0', 'ynum': '0'}\n",
      "MON [ 4 ] = {'num': '0', 'wnum': '0', 'ynum': '0'}\n",
      "MON [ 5 ] = {'num': '7', 'wnum': '5', 'ynum': '6'}\n",
      "MON [ 6 ] = {'num': '4', 'wnum': '1', 'ynum': '3'}\n",
      "MON [ 7 ] = {'num': '20', 'wnum': '1', 'ynum': '16'}\n",
      "MON [ 8 ] = {'num': '22', 'wnum': '0', 'ynum': '16'}\n",
      "MON [ 9 ] = {'num': '17', 'wnum': '4', 'ynum': '16'}\n",
      "MON [ 10 ] = {'num': '5', 'wnum': '1', 'ynum': '5'}\n",
      "MON [ 11 ] = {'num': '13', 'wnum': '5', 'ynum': '13'}\n",
      "MON [ 12 ] = {'num': '19', 'wnum': '11', 'ynum': '18'}\n",
      "MON [ 13 ] = {'num': '9', 'wnum': '5', 'ynum': '1'}\n",
      "MON [ 14 ] = {'num': '14', 'wnum': '10', 'ynum': '4'}\n",
      "MON [ 15 ] = {'num': '18', 'wnum': '16', 'ynum': '4'}\n",
      "MON [ 16 ] = {'num': '15', 'wnum': '13', 'ynum': '2'}\n",
      "MON [ 17 ] = {'num': '13', 'wnum': '5', 'ynum': '10'}\n",
      "MON [ 18 ] = {'num': '18', 'wnum': '13', 'ynum': '14'}\n",
      "MON [ 19 ] = {'num': '16', 'wnum': '16', 'ynum': '13'}\n",
      "MON [ 20 ] = {'num': '8', 'wnum': '5', 'ynum': '7'}\n",
      "MON [ 21 ] = {'num': '10', 'wnum': '8', 'ynum': '7'}\n",
      "MON [ 22 ] = {'num': '10', 'wnum': '8', 'ynum': '10'}\n",
      "MON [ 23 ] = {'num': '4', 'wnum': '0', 'ynum': '3'}\n",
      "TUE [ 0 ] = {'num': '0', 'wnum': '0', 'ynum': '0'}\n",
      "TUE [ 1 ] = {'num': '0', 'wnum': '0', 'ynum': '0'}\n",
      "TUE [ 2 ] = {'num': '0', 'wnum': '0', 'ynum': '0'}\n",
      "TUE [ 3 ] = {'num': '0', 'wnum': '0', 'ynum': '0'}\n",
      "TUE [ 4 ] = {'num': '0', 'wnum': '0', 'ynum': '0'}\n",
      "TUE [ 5 ] = {'num': '2', 'wnum': '1', 'ynum': '2'}\n",
      "TUE [ 6 ] = {'num': '3', 'wnum': '1', 'ynum': '3'}\n",
      "TUE [ 7 ] = {'num': '16', 'wnum': '4', 'ynum': '12'}\n",
      "TUE [ 8 ] = {'num': '22', 'wnum': '22', 'ynum': '18'}\n",
      "TUE [ 9 ] = {'num': '12', 'wnum': '4', 'ynum': '11'}\n",
      "TUE [ 10 ] = {'num': '4', 'wnum': '4', 'ynum': '3'}\n",
      "TUE [ 11 ] = {'num': '27', 'wnum': '19', 'ynum': '25'}\n",
      "TUE [ 12 ] = {'num': '22', 'wnum': '15', 'ynum': '20'}\n",
      "TUE [ 13 ] = {'num': '8', 'wnum': '5', 'ynum': '1'}\n",
      "TUE [ 14 ] = {'num': '14', 'wnum': '13', 'ynum': '0'}\n",
      "TUE [ 15 ] = {'num': '20', 'wnum': '14', 'ynum': '2'}\n",
      "TUE [ 16 ] = {'num': '17', 'wnum': '13', 'ynum': '2'}\n",
      "TUE [ 17 ] = {'num': '10', 'wnum': '8', 'ynum': '10'}\n",
      "TUE [ 18 ] = {'num': '16', 'wnum': '8', 'ynum': '16'}\n",
      "TUE [ 19 ] = {'num': '23', 'wnum': '3', 'ynum': '20'}\n",
      "TUE [ 20 ] = {'num': '18', 'wnum': '7', 'ynum': '17'}\n",
      "TUE [ 21 ] = {'num': '6', 'wnum': '6', 'ynum': '6'}\n",
      "TUE [ 22 ] = {'num': '12', 'wnum': '1', 'ynum': '11'}\n",
      "TUE [ 23 ] = {'num': '4', 'wnum': '1', 'ynum': '3'}\n",
      "WED [ 0 ] = {'num': '3', 'wnum': '0', 'ynum': '3'}\n",
      "WED [ 1 ] = {'num': '0', 'wnum': '0', 'ynum': '0'}\n",
      "WED [ 2 ] = {'num': '0', 'wnum': '0', 'ynum': '0'}\n",
      "WED [ 3 ] = {'num': '0', 'wnum': '0', 'ynum': '0'}\n",
      "WED [ 4 ] = {'num': '0', 'wnum': '0', 'ynum': '0'}\n",
      "WED [ 5 ] = {'num': '3', 'wnum': '2', 'ynum': '3'}\n",
      "WED [ 6 ] = {'num': '2', 'wnum': '0', 'ynum': '2'}\n",
      "WED [ 7 ] = {'num': '19', 'wnum': '3', 'ynum': '14'}\n",
      "WED [ 8 ] = {'num': '24', 'wnum': '7', 'ynum': '17'}\n",
      "WED [ 9 ] = {'num': '10', 'wnum': '7', 'ynum': '10'}\n",
      "WED [ 10 ] = {'num': '2', 'wnum': '2', 'ynum': '2'}\n",
      "WED [ 11 ] = {'num': '23', 'wnum': '3', 'ynum': '17'}\n",
      "WED [ 12 ] = {'num': '12', 'wnum': '0', 'ynum': '12'}\n",
      "WED [ 13 ] = {'num': '8', 'wnum': '1', 'ynum': '1'}\n",
      "WED [ 14 ] = {'num': '18', 'wnum': '16', 'ynum': '7'}\n",
      "WED [ 15 ] = {'num': '22', 'wnum': '21', 'ynum': '8'}\n",
      "WED [ 16 ] = {'num': '13', 'wnum': '13', 'ynum': '4'}\n",
      "WED [ 17 ] = {'num': '8', 'wnum': '1', 'ynum': '8'}\n",
      "WED [ 18 ] = {'num': '22', 'wnum': '6', 'ynum': '18'}\n",
      "WED [ 19 ] = {'num': '18', 'wnum': '10', 'ynum': '13'}\n",
      "WED [ 20 ] = {'num': '13', 'wnum': '11', 'ynum': '12'}\n",
      "WED [ 21 ] = {'num': '8', 'wnum': '3', 'ynum': '8'}\n",
      "WED [ 22 ] = {'num': '4', 'wnum': '1', 'ynum': '3'}\n",
      "WED [ 23 ] = {'num': '5', 'wnum': '5', 'ynum': '5'}\n",
      "THR [ 0 ] = {'num': '1', 'wnum': '1', 'ynum': '1'}\n",
      "THR [ 1 ] = {'num': '0', 'wnum': '0', 'ynum': '0'}\n",
      "THR [ 2 ] = {'num': '0', 'wnum': '0', 'ynum': '0'}\n",
      "THR [ 3 ] = {'num': '0', 'wnum': '0', 'ynum': '0'}\n",
      "THR [ 4 ] = {'num': '0', 'wnum': '0', 'ynum': '0'}\n",
      "THR [ 5 ] = {'num': '3', 'wnum': '0', 'ynum': '3'}\n",
      "THR [ 6 ] = {'num': '3', 'wnum': '3', 'ynum': '3'}\n",
      "THR [ 7 ] = {'num': '16', 'wnum': '4', 'ynum': '13'}\n",
      "THR [ 8 ] = {'num': '23', 'wnum': '17', 'ynum': '18'}\n",
      "THR [ 9 ] = {'num': '15', 'wnum': '7', 'ynum': '14'}\n",
      "THR [ 10 ] = {'num': '3', 'wnum': '1', 'ynum': '3'}\n",
      "THR [ 11 ] = {'num': '22', 'wnum': '2', 'ynum': '20'}\n",
      "THR [ 12 ] = {'num': '16', 'wnum': '10', 'ynum': '14'}\n",
      "THR [ 13 ] = {'num': '6', 'wnum': '1', 'ynum': '1'}\n",
      "THR [ 14 ] = {'num': '10', 'wnum': '8', 'ynum': '2'}\n",
      "THR [ 15 ] = {'num': '11', 'wnum': '8', 'ynum': '3'}\n",
      "THR [ 16 ] = {'num': '8', 'wnum': '8', 'ynum': '0'}\n",
      "THR [ 17 ] = {'num': '8', 'wnum': '3', 'ynum': '8'}\n",
      "THR [ 18 ] = {'num': '20', 'wnum': '8', 'ynum': '17'}\n",
      "THR [ 19 ] = {'num': '21', 'wnum': '4', 'ynum': '18'}\n",
      "THR [ 20 ] = {'num': '17', 'wnum': '3', 'ynum': '17'}\n",
      "THR [ 21 ] = {'num': '5', 'wnum': '2', 'ynum': '5'}\n",
      "THR [ 22 ] = {'num': '8', 'wnum': '8', 'ynum': '7'}\n",
      "THR [ 23 ] = {'num': '7', 'wnum': '6', 'ynum': '5'}\n",
      "FRI [ 0 ] = {'num': '3', 'wnum': '0', 'ynum': '3'}\n",
      "FRI [ 1 ] = {'num': '0', 'wnum': '0', 'ynum': '0'}\n",
      "FRI [ 2 ] = {'num': '0', 'wnum': '0', 'ynum': '0'}\n",
      "FRI [ 3 ] = {'num': '0', 'wnum': '0', 'ynum': '0'}\n",
      "FRI [ 4 ] = {'num': '0', 'wnum': '0', 'ynum': '0'}\n",
      "FRI [ 5 ] = {'num': '3', 'wnum': '2', 'ynum': '3'}\n",
      "FRI [ 6 ] = {'num': '3', 'wnum': '2', 'ynum': '3'}\n",
      "FRI [ 7 ] = {'num': '17', 'wnum': '7', 'ynum': '16'}\n",
      "FRI [ 8 ] = {'num': '24', 'wnum': '8', 'ynum': '18'}\n",
      "FRI [ 9 ] = {'num': '12', 'wnum': '5', 'ynum': '11'}\n",
      "FRI [ 10 ] = {'num': '5', 'wnum': '1', 'ynum': '4'}\n",
      "FRI [ 11 ] = {'num': '25', 'wnum': '21', 'ynum': '18'}\n",
      "FRI [ 12 ] = {'num': '21', 'wnum': '18', 'ynum': '15'}\n",
      "FRI [ 13 ] = {'num': '12', 'wnum': '1', 'ynum': '2'}\n",
      "FRI [ 14 ] = {'num': '9', 'wnum': '9', 'ynum': '2'}\n",
      "FRI [ 15 ] = {'num': '16', 'wnum': '15', 'ynum': '5'}\n",
      "FRI [ 16 ] = {'num': '12', 'wnum': '9', 'ynum': '0'}\n",
      "FRI [ 17 ] = {'num': '9', 'wnum': '8', 'ynum': '8'}\n",
      "FRI [ 18 ] = {'num': '23', 'wnum': '6', 'ynum': '22'}\n",
      "FRI [ 19 ] = {'num': '20', 'wnum': '16', 'ynum': '18'}\n",
      "FRI [ 20 ] = {'num': '21', 'wnum': '8', 'ynum': '20'}\n",
      "FRI [ 21 ] = {'num': '8', 'wnum': '0', 'ynum': '6'}\n",
      "FRI [ 22 ] = {'num': '12', 'wnum': '4', 'ynum': '11'}\n",
      "FRI [ 23 ] = {'num': '8', 'wnum': '5', 'ynum': '8'}\n",
      "SAT [ 0 ] = {'num': '2', 'wnum': '1', 'ynum': '2'}\n",
      "SAT [ 1 ] = {'num': '0', 'wnum': '0', 'ynum': '0'}\n",
      "SAT [ 2 ] = {'num': '0', 'wnum': '0', 'ynum': '0'}\n",
      "SAT [ 3 ] = {'num': '0', 'wnum': '0', 'ynum': '0'}\n",
      "SAT [ 4 ] = {'num': '0', 'wnum': '0', 'ynum': '0'}\n",
      "SAT [ 5 ] = {'num': '0', 'wnum': '0', 'ynum': '0'}\n",
      "SAT [ 6 ] = {'num': '0', 'wnum': '0', 'ynum': '0'}\n",
      "SAT [ 7 ] = {'num': '0', 'wnum': '0', 'ynum': '0'}\n",
      "SAT [ 8 ] = {'num': '0', 'wnum': '0', 'ynum': '0'}\n",
      "SAT [ 9 ] = {'num': '5', 'wnum': '4', 'ynum': '4'}\n",
      "SAT [ 10 ] = {'num': '6', 'wnum': '3', 'ynum': '5'}\n",
      "SAT [ 11 ] = {'num': '17', 'wnum': '6', 'ynum': '15'}\n",
      "SAT [ 12 ] = {'num': '15', 'wnum': '8', 'ynum': '11'}\n",
      "SAT [ 13 ] = {'num': '0', 'wnum': '0', 'ynum': '0'}\n",
      "SAT [ 14 ] = {'num': '0', 'wnum': '0', 'ynum': '0'}\n",
      "SAT [ 15 ] = {'num': '0', 'wnum': '0', 'ynum': '0'}\n",
      "SAT [ 16 ] = {'num': '0', 'wnum': '0', 'ynum': '0'}\n",
      "SAT [ 17 ] = {'num': '12', 'wnum': '1', 'ynum': '9'}\n",
      "SAT [ 18 ] = {'num': '16', 'wnum': '11', 'ynum': '16'}\n",
      "SAT [ 19 ] = {'num': '8', 'wnum': '3', 'ynum': '6'}\n",
      "SAT [ 20 ] = {'num': '0', 'wnum': '0', 'ynum': '0'}\n",
      "SAT [ 21 ] = {'num': '0', 'wnum': '0', 'ynum': '0'}\n",
      "SAT [ 22 ] = {'num': '0', 'wnum': '0', 'ynum': '0'}\n",
      "SAT [ 23 ] = {'num': '0', 'wnum': '0', 'ynum': '0'}\n",
      "SUN [ 0 ] = {'num': '0', 'wnum': '0', 'ynum': '0'}\n",
      "SUN [ 1 ] = {'num': '0', 'wnum': '0', 'ynum': '0'}\n",
      "SUN [ 2 ] = {'num': '0', 'wnum': '0', 'ynum': '0'}\n",
      "SUN [ 3 ] = {'num': '0', 'wnum': '0', 'ynum': '0'}\n",
      "SUN [ 4 ] = {'num': '0', 'wnum': '0', 'ynum': '0'}\n",
      "SUN [ 5 ] = {'num': '0', 'wnum': '0', 'ynum': '0'}\n",
      "SUN [ 6 ] = {'num': '0', 'wnum': '0', 'ynum': '0'}\n",
      "SUN [ 7 ] = {'num': '0', 'wnum': '0', 'ynum': '0'}\n",
      "SUN [ 8 ] = {'num': '0', 'wnum': '0', 'ynum': '0'}\n",
      "SUN [ 9 ] = {'num': '0', 'wnum': '0', 'ynum': '0'}\n",
      "SUN [ 10 ] = {'num': '0', 'wnum': '0', 'ynum': '0'}\n",
      "SUN [ 11 ] = {'num': '12', 'wnum': '12', 'ynum': '12'}\n",
      "SUN [ 12 ] = {'num': '16', 'wnum': '5', 'ynum': '13'}\n",
      "SUN [ 13 ] = {'num': '11', 'wnum': '1', 'ynum': '0'}\n",
      "SUN [ 14 ] = {'num': '0', 'wnum': '0', 'ynum': '0'}\n",
      "SUN [ 15 ] = {'num': '0', 'wnum': '0', 'ynum': '0'}\n",
      "SUN [ 16 ] = {'num': '0', 'wnum': '0', 'ynum': '0'}\n",
      "SUN [ 17 ] = {'num': '0', 'wnum': '0', 'ynum': '0'}\n",
      "SUN [ 18 ] = {'num': '7', 'wnum': '4', 'ynum': '5'}\n",
      "SUN [ 19 ] = {'num': '0', 'wnum': '0', 'ynum': '0'}\n",
      "SUN [ 20 ] = {'num': '0', 'wnum': '0', 'ynum': '0'}\n",
      "SUN [ 21 ] = {'num': '0', 'wnum': '0', 'ynum': '0'}\n",
      "SUN [ 22 ] = {'num': '0', 'wnum': '0', 'ynum': '0'}\n",
      "SUN [ 23 ] = {'num': '0', 'wnum': '0', 'ynum': '0'}\n"
     ]
    }
   ],
   "source": [
    "import csv\n",
    "a = [[], [], [], [], [], [], []]\n",
    "x_data = ['MON', 'TUE', 'WED', 'THR', 'FRI', 'SAT', 'SUN']\n",
    "with open('passby_data.CSV', 'r') as f:\n",
    "    reader = csv.DictReader(f)\n",
    "    i = j = 0\n",
    "    for row in reader:\n",
    "        a[i].append(row)\n",
    "        j += 1\n",
    "        if (j % 24 == 0):\n",
    "            j = 0\n",
    "            i += 1\n",
    "for i in range(7):\n",
    "    for j in range(len(a[i])):\n",
    "        print(x_data[i],'[', j, ']', '=', a[i][j])"
   ]
  },
  {
   "cell_type": "code",
   "execution_count": 56,
   "metadata": {},
   "outputs": [
    {
     "name": "stdout",
     "output_type": "stream",
     "text": [
      "01 1\n",
      "02 0\n",
      "03 0\n",
      "04 0\n",
      "05 0\n",
      "06 2\n",
      "07 2\n",
      "08 12\n",
      "09 16\n",
      "10 10\n",
      "11 3\n",
      "12 19\n",
      "13 17\n",
      "14 7\n",
      "15 9\n",
      "16 12\n",
      "17 9\n",
      "18 8\n",
      "19 17\n",
      "20 15\n",
      "21 11\n",
      "22 5\n",
      "23 6\n",
      "24 4\n"
     ]
    }
   ],
   "source": [
    "hour_data = ['01', '02', '03', '04', '05', '06', '07', '08', '09', '10',\\\n",
    "            '11', '12', '13', '14', '15', '16', '17', '18', '19', '20',\\\n",
    "            '21', '22', '23', '24']\n",
    "avgh = []\n",
    "for j in range(24):\n",
    "    sum = 0\n",
    "    for i in range(7):\n",
    "        sum += int(a[i][j]['num'])\n",
    "    avgh.append(sum / 7)\n",
    "for j in range(24):\n",
    "    print(hour_data[j],int(avgh[j]))"
   ]
  },
  {
   "cell_type": "code",
   "execution_count": 62,
   "metadata": {},
   "outputs": [
    {
     "data": {
      "text/plain": [
       "<matplotlib.legend.Legend at 0x7f841b7f3cd0>"
      ]
     },
     "execution_count": 62,
     "metadata": {},
     "output_type": "execute_result"
    },
    {
     "data": {
      "image/png": "[encoded data removed]",
      "text/plain": [
       "<Figure size 432x288 with 1 Axes>"
      ]
     },
     "metadata": {
      "needs_background": "light"
     },
     "output_type": "display_data"
    }
   ],
   "source": [
    "plt.title('pop')\n",
    "plt.xlabel('hour')\n",
    "plt.ylabel('pop')\n",
    "\n",
    "plt.scatter(hour_data, avgh, c='orange')\n",
    "plt.plot(hour_data, avgh, label='num')\n",
    "plt.legend()"
   ]
  },
  {
   "cell_type": "code",
   "execution_count": null,
   "metadata": {},
   "outputs": [],
   "source": []
  }
 ],
 "metadata": {
  "kernelspec": {
   "display_name": "Python 3",
   "language": "python",
   "name": "python3"
  },
  "language_info": {
   "codemirror_mode": {
    "name": "ipython",
    "version": 3
   },
   "file_extension": ".py",
   "mimetype": "text/x-python",
   "name": "python",
   "nbconvert_exporter": "python",
   "pygments_lexer": "ipython3",
   "version": "3.8.5"
  }
 },
 "nbformat": 4,
 "nbformat_minor": 4
}
