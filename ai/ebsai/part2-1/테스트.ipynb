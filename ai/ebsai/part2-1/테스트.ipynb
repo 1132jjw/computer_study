{
 "cells": [
  {
   "cell_type": "code",
   "execution_count": 13,
   "metadata": {},
   "outputs": [
    {
     "name": "stdout",
     "output_type": "stream",
     "text": [
      "1\n",
      "0\n",
      "0\n",
      "0\n",
      "0\n",
      "2\n",
      "2\n",
      "12\n",
      "16\n",
      "10\n",
      "3\n",
      "19\n",
      "17\n",
      "7\n",
      "9\n",
      "12\n",
      "9\n",
      "8\n",
      "17\n",
      "15\n",
      "11\n",
      "5\n",
      "6\n",
      "4\n"
     ]
    }
   ],
   "source": [
    "import csv\n",
    "a = [[], [], [], [], [], [], []]\n",
    "with open('passby_data.CSV', 'r') as f:\n",
    "    reader = csv.DictReader(f)\n",
    "    i = j = 0\n",
    "    for row in reader:\n",
    "        a[i].append(row)\n",
    "        j += 1\n",
    "        if (j % 24 == 0):\n",
    "            i += 1\n",
    "avgh = []\n",
    "for j in range(24):\n",
    "    sum = 0\n",
    "    for i in range(7):\n",
    "        sum += int(a[i][j]['num'])\n",
    "    avgh.append(sum / 7)\n",
    "for j in range(24):\n",
    "    print(int(avgh[j]))"
   ]
  },
  {
   "cell_type": "code",
   "execution_count": null,
   "metadata": {},
   "outputs": [],
   "source": []
  }
 ],
 "metadata": {
  "kernelspec": {
   "display_name": "Python 3",
   "language": "python",
   "name": "python3"
  },
  "language_info": {
   "codemirror_mode": {
    "name": "ipython",
    "version": 3
   },
   "file_extension": ".py",
   "mimetype": "text/x-python",
   "name": "python",
   "nbconvert_exporter": "python",
   "pygments_lexer": "ipython3",
   "version": "3.8.5"
  }
 },
 "nbformat": 4,
 "nbformat_minor": 4
}
