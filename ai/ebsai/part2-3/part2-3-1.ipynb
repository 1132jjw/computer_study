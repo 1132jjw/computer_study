{
 "cells": [
  {
   "cell_type": "code",
   "execution_count": 1,
   "metadata": {},
   "outputs": [],
   "source": [
    "import numpy as np\n",
    "import matplotlib.pyplot as plt\n",
    "import scipy.io.wavfile\n",
    "import sounddevice as sd"
   ]
  },
  {
   "cell_type": "code",
   "execution_count": 12,
   "metadata": {},
   "outputs": [],
   "source": [
    "v_samplerate, v_data = scipy.io.wavfile.read('thank_you.wav')\n",
    "times = np.arange(len(v_data))/float(v_samplerate)"
   ]
  },
  {
   "cell_type": "code",
   "execution_count": 13,
   "metadata": {},
   "outputs": [
    {
     "data": {
      "text/plain": [
       "array([0.00000000e+00, 4.53514739e-05, 9.07029478e-05, ...,\n",
       "       7.81269841e-01, 7.81315193e-01, 7.81360544e-01])"
      ]
     },
     "execution_count": 13,
     "metadata": {},
     "output_type": "execute_result"
    }
   ],
   "source": [
    "times"
   ]
  },
  {
   "cell_type": "code",
   "execution_count": 4,
   "metadata": {},
   "outputs": [
    {
     "name": "stdout",
     "output_type": "stream",
     "text": [
      "[0 0 0 ... 0 0 0]\n"
     ]
    }
   ],
   "source": [
    "print(v_data)"
   ]
  },
  {
   "cell_type": "code",
   "execution_count": 5,
   "metadata": {},
   "outputs": [
    {
     "name": "stdout",
     "output_type": "stream",
     "text": [
      "22050\n"
     ]
    }
   ],
   "source": [
    "print(v_samplerate)"
   ]
  },
  {
   "cell_type": "code",
   "execution_count": 14,
   "metadata": {},
   "outputs": [
    {
     "data": {
      "text/plain": [
       "0.7813605442176871"
      ]
     },
     "execution_count": 14,
     "metadata": {},
     "output_type": "execute_result"
    }
   ],
   "source": [
    "times[-1]"
   ]
  },
  {
   "cell_type": "code",
   "execution_count": 7,
   "metadata": {},
   "outputs": [
    {
     "data": {
      "text/plain": [
       "array([  2899,   3912,   4583,   4520,   3852,   2744,   1496,    725,\n",
       "          890,   1968,   3470,   4616,   4867,   4266,   3267,   2566,\n",
       "         2671,   3451,   4471,   5311,   5480,   4789,   3642,   2628,\n",
       "         2172,   2296,   2552,   2587,   2365,   1788,    812,   -417,\n",
       "        -1848,  -3250,  -4074,  -4209,  -4236,  -4794,  -6158,  -8135,\n",
       "       -10150, -11595, -12089, -11715, -11148, -11117, -11836, -13066,\n",
       "       -14205, -14524, -13937, -13173, -12830, -12816, -12661, -11620,\n",
       "        -8703,  -3632,   2073,   5600,   5077,   1793,   -231,   2004,\n",
       "         7297,  11561,  11937,   9086,   5769,   3724,   2460,   1004,\n",
       "         -461,  -1253,  -1480,  -2055,  -3581,  -5579,  -7018,  -7343,\n",
       "        -6614,  -4950,  -2371,    628,   2774,   2899,   1316,     -9,\n",
       "          945,   4290,   8101,  10304,  10278,   8894,   7496,   6716,\n",
       "         6502,   6936,   7903,   8664], dtype=int16)"
      ]
     },
     "execution_count": 7,
     "metadata": {},
     "output_type": "execute_result"
    }
   ],
   "source": [
    "v_data[5000:5100]"
   ]
  },
  {
   "cell_type": "code",
   "execution_count": 15,
   "metadata": {},
   "outputs": [],
   "source": [
    "sd.play(v_data, v_samplerate)"
   ]
  },
  {
   "cell_type": "code",
   "execution_count": 16,
   "metadata": {},
   "outputs": [
    {
     "data": {
      "image/png": "[encoded data removed]",
      "text/plain": [
       "<Figure size 432x288 with 1 Axes>"
      ]
     },
     "metadata": {
      "needs_background": "light"
     },
     "output_type": "display_data"
    }
   ],
   "source": [
    "plt.plot(times, v_data)\n",
    "plt.xlim(times[0], times[-1])\n",
    "plt.show()"
   ]
  },
  {
   "cell_type": "code",
   "execution_count": null,
   "metadata": {},
   "outputs": [],
   "source": []
  }
 ],
 "metadata": {
  "kernelspec": {
   "display_name": "Python 3",
   "language": "python",
   "name": "python3"
  },
  "language_info": {
   "codemirror_mode": {
    "name": "ipython",
    "version": 3
   },
   "file_extension": ".py",
   "mimetype": "text/x-python",
   "name": "python",
   "nbconvert_exporter": "python",
   "pygments_lexer": "ipython3",
   "version": "3.8.5"
  }
 },
 "nbformat": 4,
 "nbformat_minor": 4
}
