{
 "cells": [
  {
   "cell_type": "code",
   "execution_count": 3,
   "metadata": {},
   "outputs": [],
   "source": [
    "import numpy as np\n",
    "import scipy.io as sio\n",
    "from scipy.io.wavfile import write\n",
    "import os\n",
    "v_samplerate, v_data = sio.wavfile.read('thank_you.wav')\n",
    "b_samplerate, b_data = sio.wavfile.read('invisible_Beauty.wav')\n",
    "\n",
    "v_times = np.arange(len(v_data)) / float(v_samplerate)\n",
    "b_times = np.arange(len(b_data)) / float(b_samplerate)\n",
    "\n",
    "if(len(v_data.shape) > 1):\n",
    "    v_data = np.array(v_data[:, 0])\n",
    "if(len(b_data.shape) > 1):\n",
    "    b_data = np.array(b_data[:, 0])\n",
    "    \n",
    "if (v_samplerate > b_samplerate):\n",
    "    diffRate = int(v_samplerate / b_samplerate)\n",
    "    v_data = npp.array(v_data[0:len(v_data):diffRate])\n",
    "    sr = b_samplerate\n",
    "elif (v_samplerate < b_samplerate):\n",
    "    diffRate = int(b_samplerate / v_samplerate)\n",
    "    b_data = np.array(b_data[0:len(b_data):diffRate])\n",
    "    sr = v_samplerate\n",
    "else:\n",
    "    sr = b_samplerate"
   ]
  },
  {
   "cell_type": "code",
   "execution_count": 4,
   "metadata": {},
   "outputs": [],
   "source": [
    "mix_data = v_data + b_data[sr * 10:len(v_data) + sr * 10]\n",
    "\n",
    "b_data[sr*10:len(v_data)+sr*10] = mix_data\n",
    "\n",
    "scaled = np.int16(b_data/np.max(np.abs(b_data)) * 32767)\n",
    "write('music_card.wav', sr, scaled)"
   ]
  },
  {
   "cell_type": "code",
   "execution_count": null,
   "metadata": {},
   "outputs": [],
   "source": []
  }
 ],
 "metadata": {
  "kernelspec": {
   "display_name": "Python 3",
   "language": "python",
   "name": "python3"
  },
  "language_info": {
   "codemirror_mode": {
    "name": "ipython",
    "version": 3
   },
   "file_extension": ".py",
   "mimetype": "text/x-python",
   "name": "python",
   "nbconvert_exporter": "python",
   "pygments_lexer": "ipython3",
   "version": "3.8.5"
  }
 },
 "nbformat": 4,
 "nbformat_minor": 4
}
