{
 "cells": [
  {
   "cell_type": "markdown",
   "metadata": {
    "colab_type": "text",
    "id": "WjEtz6fzvz6v"
   },
   "source": [
    "# 내가 만약 축구팀 감독이라면 "
   ]
  },
  {
   "cell_type": "markdown",
   "metadata": {
    "colab_type": "text",
    "id": "khY_qz_Uv8k9"
   },
   "source": [
    "## 01. 데이터 수집하기 \n",
    "- kaggle에서 fifa2019 데이터 파일 찾기 : fifa2019.csv 로 변경\n",
    "> https://www.kaggle.com/karangadiya/fifa19\n",
    "\n",
    "## 02. 데이터 불러오기 \n",
    "- fifa2019.csv 파일 업로드하기"
   ]
  },
  {
   "cell_type": "code",
   "execution_count": 5,
   "metadata": {
    "colab": {},
    "colab_type": "code",
    "id": "qN7sWCIJPvnb"
   },
   "outputs": [],
   "source": [
    "import pandas as pd\n",
    "uploaded = pd.read_csv('./fifa2019.csv')"
   ]
  },
  {
   "cell_type": "markdown",
   "metadata": {
    "colab_type": "text",
    "id": "tbpH3Co9wm7n"
   },
   "source": [
    "### [Step 1] 파일에 저장된 데이터를 불러와 출력하기"
   ]
  },
  {
   "cell_type": "code",
   "execution_count": 8,
   "metadata": {
    "colab": {},
    "colab_type": "code",
    "id": "pkNkuhL7v8Lz"
   },
   "outputs": [
    {
     "name": "stdout",
     "output_type": "stream",
     "text": [
      "(18207, 89)\n"
     ]
    }
   ],
   "source": [
    "# (실습) pandas 라이브러리 불러오기 \n",
    "\n",
    "\n",
    "# (실습)fifa2019.csv 파일의 데이터 불러오기 \n",
    "fifa2019 = pd.read_csv('./fifa2019.csv')\n",
    "\n",
    "## (실습) fifa2019 데이터프레임의 행, 열 갯수 출력하기\n",
    "print(fifa2019.shape)"
   ]
  },
  {
   "cell_type": "markdown",
   "metadata": {
    "colab_type": "text",
    "id": "nGDtQVRRxpja"
   },
   "source": [
    "### [Step 2] fifa2019에 저장된 개별값들을 열별로 확인하기"
   ]
  },
  {
   "cell_type": "code",
   "execution_count": 9,
   "metadata": {
    "colab": {},
    "colab_type": "code",
    "id": "2VZro_nNvzKe"
   },
   "outputs": [
    {
     "name": "stdout",
     "output_type": "stream",
     "text": [
      "<class 'pandas.core.frame.DataFrame'>\n",
      "RangeIndex: 18207 entries, 0 to 18206\n",
      "Data columns (total 89 columns):\n",
      " #   Column                    Non-Null Count  Dtype  \n",
      "---  ------                    --------------  -----  \n",
      " 0   Unnamed: 0                18207 non-null  int64  \n",
      " 1   ID                        18207 non-null  int64  \n",
      " 2   Name                      18207 non-null  object \n",
      " 3   Age                       18207 non-null  int64  \n",
      " 4   Photo                     18207 non-null  object \n",
      " 5   Nationality               18207 non-null  object \n",
      " 6   Flag                      18207 non-null  object \n",
      " 7   Overall                   18207 non-null  int64  \n",
      " 8   Potential                 18207 non-null  int64  \n",
      " 9   Club                      17966 non-null  object \n",
      " 10  Club Logo                 18207 non-null  object \n",
      " 11  Value                     18207 non-null  object \n",
      " 12  Wage                      18207 non-null  object \n",
      " 13  Special                   18207 non-null  int64  \n",
      " 14  Preferred Foot            18159 non-null  object \n",
      " 15  International Reputation  18159 non-null  float64\n",
      " 16  Weak Foot                 18159 non-null  float64\n",
      " 17  Skill Moves               18159 non-null  float64\n",
      " 18  Work Rate                 18159 non-null  object \n",
      " 19  Body Type                 18159 non-null  object \n",
      " 20  Real Face                 18159 non-null  object \n",
      " 21  Position                  18147 non-null  object \n",
      " 22  Jersey Number             18147 non-null  float64\n",
      " 23  Joined                    16654 non-null  object \n",
      " 24  Loaned From               1264 non-null   object \n",
      " 25  Contract Valid Until      17918 non-null  object \n",
      " 26  Height                    18159 non-null  object \n",
      " 27  Weight                    18159 non-null  object \n",
      " 28  LS                        16122 non-null  object \n",
      " 29  ST                        16122 non-null  object \n",
      " 30  RS                        16122 non-null  object \n",
      " 31  LW                        16122 non-null  object \n",
      " 32  LF                        16122 non-null  object \n",
      " 33  CF                        16122 non-null  object \n",
      " 34  RF                        16122 non-null  object \n",
      " 35  RW                        16122 non-null  object \n",
      " 36  LAM                       16122 non-null  object \n",
      " 37  CAM                       16122 non-null  object \n",
      " 38  RAM                       16122 non-null  object \n",
      " 39  LM                        16122 non-null  object \n",
      " 40  LCM                       16122 non-null  object \n",
      " 41  CM                        16122 non-null  object \n",
      " 42  RCM                       16122 non-null  object \n",
      " 43  RM                        16122 non-null  object \n",
      " 44  LWB                       16122 non-null  object \n",
      " 45  LDM                       16122 non-null  object \n",
      " 46  CDM                       16122 non-null  object \n",
      " 47  RDM                       16122 non-null  object \n",
      " 48  RWB                       16122 non-null  object \n",
      " 49  LB                        16122 non-null  object \n",
      " 50  LCB                       16122 non-null  object \n",
      " 51  CB                        16122 non-null  object \n",
      " 52  RCB                       16122 non-null  object \n",
      " 53  RB                        16122 non-null  object \n",
      " 54  Crossing                  18159 non-null  float64\n",
      " 55  Finishing                 18159 non-null  float64\n",
      " 56  HeadingAccuracy           18159 non-null  float64\n",
      " 57  ShortPassing              18159 non-null  float64\n",
      " 58  Volleys                   18159 non-null  float64\n",
      " 59  Dribbling                 18159 non-null  float64\n",
      " 60  Curve                     18159 non-null  float64\n",
      " 61  FKAccuracy                18159 non-null  float64\n",
      " 62  LongPassing               18159 non-null  float64\n",
      " 63  BallControl               18159 non-null  float64\n",
      " 64  Acceleration              18159 non-null  float64\n",
      " 65  SprintSpeed               18159 non-null  float64\n",
      " 66  Agility                   18159 non-null  float64\n",
      " 67  Reactions                 18159 non-null  float64\n",
      " 68  Balance                   18159 non-null  float64\n",
      " 69  ShotPower                 18159 non-null  float64\n",
      " 70  Jumping                   18159 non-null  float64\n",
      " 71  Stamina                   18159 non-null  float64\n",
      " 72  Strength                  18159 non-null  float64\n",
      " 73  LongShots                 18159 non-null  float64\n",
      " 74  Aggression                18159 non-null  float64\n",
      " 75  Interceptions             18159 non-null  float64\n",
      " 76  Positioning               18159 non-null  float64\n",
      " 77  Vision                    18159 non-null  float64\n",
      " 78  Penalties                 18159 non-null  float64\n",
      " 79  Composure                 18159 non-null  float64\n",
      " 80  Marking                   18159 non-null  float64\n",
      " 81  StandingTackle            18159 non-null  float64\n",
      " 82  SlidingTackle             18159 non-null  float64\n",
      " 83  GKDiving                  18159 non-null  float64\n",
      " 84  GKHandling                18159 non-null  float64\n",
      " 85  GKKicking                 18159 non-null  float64\n",
      " 86  GKPositioning             18159 non-null  float64\n",
      " 87  GKReflexes                18159 non-null  float64\n",
      " 88  Release Clause            16643 non-null  object \n",
      "dtypes: float64(38), int64(6), object(45)\n",
      "memory usage: 12.4+ MB\n",
      "None\n"
     ]
    }
   ],
   "source": [
    "## (실습) 데이터의 요약 정보 출력하기 \n",
    "print( fifa2019.info()   )"
   ]
  },
  {
   "cell_type": "markdown",
   "metadata": {
    "colab_type": "text",
    "id": "nNQWAMFVyNqI"
   },
   "source": [
    "## 03. 데이터 다루기 "
   ]
  },
  {
   "cell_type": "markdown",
   "metadata": {
    "colab_type": "text",
    "id": "WiQvVRUcyTSk"
   },
   "source": [
    "### [Step 1] 궁금한 선수의 데이터 검색하기 \n"
   ]
  },
  {
   "cell_type": "code",
   "execution_count": 11,
   "metadata": {
    "colab": {},
    "colab_type": "code",
    "id": "UnfimVXTyWeK"
   },
   "outputs": [
    {
     "name": "stdout",
     "output_type": "stream",
     "text": [
      "Unnamed: 0                                                    14\n",
      "ID                                                        215914\n",
      "Name                                                    N. Kanté\n",
      "Age                                                           27\n",
      "Photo             https://cdn.sofifa.org/players/4/19/215914.png\n",
      "                                       ...                      \n",
      "GKHandling                                                    12\n",
      "GKKicking                                                     10\n",
      "GKPositioning                                                  7\n",
      "GKReflexes                                                    10\n",
      "Release Clause                                           €121.3M\n",
      "Name: 14, Length: 89, dtype: object\n"
     ]
    }
   ],
   "source": [
    "#(실습) fifa2019 인덱스 레이블 14인 행값을 sub1에 저장하기\n",
    "sub1 = fifa2019.loc[14]\n",
    "print(sub1)"
   ]
  },
  {
   "cell_type": "markdown",
   "metadata": {
    "colab_type": "text",
    "id": "UyivAnIzyk9p"
   },
   "source": [
    "### [Step 2] 원하는 범위의 데이터 검색하기\n"
   ]
  },
  {
   "cell_type": "code",
   "execution_count": 13,
   "metadata": {
    "colab": {},
    "colab_type": "code",
    "id": "ZE2x2VSXynKz"
   },
   "outputs": [
    {
     "name": "stdout",
     "output_type": "stream",
     "text": [
      "    Unnamed: 0      ID            Name  Age  \\\n",
      "2            2  190871       Neymar Jr   26   \n",
      "3            3  193080          De Gea   27   \n",
      "4            4  192985    K. De Bruyne   27   \n",
      "5            5  183277       E. Hazard   27   \n",
      "6            6  177003       L. Modrić   32   \n",
      "7            7  176580       L. Suárez   31   \n",
      "8            8  155862    Sergio Ramos   32   \n",
      "9            9  200389        J. Oblak   25   \n",
      "10          10  188545  R. Lewandowski   29   \n",
      "11          11  182521        T. Kroos   28   \n",
      "12          12  182493        D. Godín   32   \n",
      "13          13  168542     David Silva   32   \n",
      "14          14  215914        N. Kanté   27   \n",
      "15          15  211110       P. Dybala   24   \n",
      "16          16  202126         H. Kane   24   \n",
      "\n",
      "                                             Photo Nationality  \\\n",
      "2   https://cdn.sofifa.org/players/4/19/190871.png      Brazil   \n",
      "3   https://cdn.sofifa.org/players/4/19/193080.png       Spain   \n",
      "4   https://cdn.sofifa.org/players/4/19/192985.png     Belgium   \n",
      "5   https://cdn.sofifa.org/players/4/19/183277.png     Belgium   \n",
      "6   https://cdn.sofifa.org/players/4/19/177003.png     Croatia   \n",
      "7   https://cdn.sofifa.org/players/4/19/176580.png     Uruguay   \n",
      "8   https://cdn.sofifa.org/players/4/19/155862.png       Spain   \n",
      "9   https://cdn.sofifa.org/players/4/19/200389.png    Slovenia   \n",
      "10  https://cdn.sofifa.org/players/4/19/188545.png      Poland   \n",
      "11  https://cdn.sofifa.org/players/4/19/182521.png     Germany   \n",
      "12  https://cdn.sofifa.org/players/4/19/182493.png     Uruguay   \n",
      "13  https://cdn.sofifa.org/players/4/19/168542.png       Spain   \n",
      "14  https://cdn.sofifa.org/players/4/19/215914.png      France   \n",
      "15  https://cdn.sofifa.org/players/4/19/211110.png   Argentina   \n",
      "16  https://cdn.sofifa.org/players/4/19/202126.png     England   \n",
      "\n",
      "                                   Flag  Overall  Potential  \\\n",
      "2   https://cdn.sofifa.org/flags/54.png       92         93   \n",
      "3   https://cdn.sofifa.org/flags/45.png       91         93   \n",
      "4    https://cdn.sofifa.org/flags/7.png       91         92   \n",
      "5    https://cdn.sofifa.org/flags/7.png       91         91   \n",
      "6   https://cdn.sofifa.org/flags/10.png       91         91   \n",
      "7   https://cdn.sofifa.org/flags/60.png       91         91   \n",
      "8   https://cdn.sofifa.org/flags/45.png       91         91   \n",
      "9   https://cdn.sofifa.org/flags/44.png       90         93   \n",
      "10  https://cdn.sofifa.org/flags/37.png       90         90   \n",
      "11  https://cdn.sofifa.org/flags/21.png       90         90   \n",
      "12  https://cdn.sofifa.org/flags/60.png       90         90   \n",
      "13  https://cdn.sofifa.org/flags/45.png       90         90   \n",
      "14  https://cdn.sofifa.org/flags/18.png       89         90   \n",
      "15  https://cdn.sofifa.org/flags/52.png       89         94   \n",
      "16  https://cdn.sofifa.org/flags/14.png       89         91   \n",
      "\n",
      "                   Club  ... Composure Marking StandingTackle  SlidingTackle  \\\n",
      "2   Paris Saint-Germain  ...      94.0    27.0           24.0           33.0   \n",
      "3     Manchester United  ...      68.0    15.0           21.0           13.0   \n",
      "4       Manchester City  ...      88.0    68.0           58.0           51.0   \n",
      "5               Chelsea  ...      91.0    34.0           27.0           22.0   \n",
      "6           Real Madrid  ...      84.0    60.0           76.0           73.0   \n",
      "7          FC Barcelona  ...      85.0    62.0           45.0           38.0   \n",
      "8           Real Madrid  ...      82.0    87.0           92.0           91.0   \n",
      "9       Atlético Madrid  ...      70.0    27.0           12.0           18.0   \n",
      "10    FC Bayern München  ...      86.0    34.0           42.0           19.0   \n",
      "11          Real Madrid  ...      85.0    72.0           79.0           69.0   \n",
      "12      Atlético Madrid  ...      82.0    90.0           89.0           89.0   \n",
      "13      Manchester City  ...      93.0    59.0           53.0           29.0   \n",
      "14              Chelsea  ...      85.0    90.0           91.0           85.0   \n",
      "15             Juventus  ...      84.0    23.0           20.0           20.0   \n",
      "16    Tottenham Hotspur  ...      89.0    56.0           36.0           38.0   \n",
      "\n",
      "   GKDiving  GKHandling  GKKicking  GKPositioning GKReflexes Release Clause  \n",
      "2       9.0         9.0       15.0           15.0       11.0        €228.1M  \n",
      "3      90.0        85.0       87.0           88.0       94.0        €138.6M  \n",
      "4      15.0        13.0        5.0           10.0       13.0        €196.4M  \n",
      "5      11.0        12.0        6.0            8.0        8.0        €172.1M  \n",
      "6      13.0         9.0        7.0           14.0        9.0        €137.4M  \n",
      "7      27.0        25.0       31.0           33.0       37.0          €164M  \n",
      "8      11.0         8.0        9.0            7.0       11.0        €104.6M  \n",
      "9      86.0        92.0       78.0           88.0       89.0        €144.5M  \n",
      "10     15.0         6.0       12.0            8.0       10.0        €127.1M  \n",
      "11     10.0        11.0       13.0            7.0       10.0        €156.8M  \n",
      "12      6.0         8.0       15.0            5.0       15.0         €90.2M  \n",
      "13      6.0        15.0        7.0            6.0       12.0          €111M  \n",
      "14     15.0        12.0       10.0            7.0       10.0        €121.3M  \n",
      "15      5.0         4.0        4.0            5.0        8.0        €153.5M  \n",
      "16      8.0        10.0       11.0           14.0       11.0        €160.7M  \n",
      "\n",
      "[15 rows x 89 columns]\n"
     ]
    }
   ],
   "source": [
    "# (실습) 인덱스 레이블 2~16까지 모든 데이터를 sub2에 저장하기 \n",
    "sub2 = fifa2019.loc[2:16]\n",
    "print(sub2)"
   ]
  },
  {
   "cell_type": "markdown",
   "metadata": {
    "colab_type": "text",
    "id": "8ucAMeBmyyL_"
   },
   "source": [
    "### [Step 3] 전체 선수들의 이름과 선호하는 발 정보 출력하기\n"
   ]
  },
  {
   "cell_type": "code",
   "execution_count": 14,
   "metadata": {
    "colab": {},
    "colab_type": "code",
    "id": "Xtt7ctoGy0IL"
   },
   "outputs": [
    {
     "name": "stdout",
     "output_type": "stream",
     "text": [
      "                     Name Preferred Foot\n",
      "0                L. Messi           Left\n",
      "1       Cristiano Ronaldo          Right\n",
      "2               Neymar Jr          Right\n",
      "3                  De Gea          Right\n",
      "4            K. De Bruyne          Right\n",
      "...                   ...            ...\n",
      "18202        J. Lundstram          Right\n",
      "18203  N. Christoffersson          Right\n",
      "18204           B. Worman          Right\n",
      "18205      D. Walker-Rice          Right\n",
      "18206           G. Nugent          Right\n",
      "\n",
      "[18207 rows x 2 columns]\n"
     ]
    }
   ],
   "source": [
    "# (실습)'Name', 'Preferred Foot' 열의 모든 선수 정보를 다 출력하기 \n",
    "sub3 = fifa2019.loc[:, ['Name', 'Preferred Foot']]\n",
    "print(sub3)"
   ]
  },
  {
   "cell_type": "markdown",
   "metadata": {
    "colab_type": "text",
    "id": "HZ0ESPMazLBG"
   },
   "source": [
    "### [Step 4] 여러 행의 데이터 중 원하는 열 값만 골라 출력하기\n"
   ]
  },
  {
   "cell_type": "code",
   "execution_count": 15,
   "metadata": {
    "colab": {},
    "colab_type": "code",
    "id": "J07kSYSpzQfM"
   },
   "outputs": [
    {
     "name": "stdout",
     "output_type": "stream",
     "text": [
      "   Unnamed: 0      ID               Name  Age  \\\n",
      "0           0  158023           L. Messi   31   \n",
      "1           1   20801  Cristiano Ronaldo   33   \n",
      "2           2  190871          Neymar Jr   26   \n",
      "3           3  193080             De Gea   27   \n",
      "4           4  192985       K. De Bruyne   27   \n",
      "5           5  183277          E. Hazard   27   \n",
      "6           6  177003          L. Modrić   32   \n",
      "7           7  176580          L. Suárez   31   \n",
      "8           8  155862       Sergio Ramos   32   \n",
      "9           9  200389           J. Oblak   25   \n",
      "\n",
      "                                            Photo Nationality  \\\n",
      "0  https://cdn.sofifa.org/players/4/19/158023.png   Argentina   \n",
      "1   https://cdn.sofifa.org/players/4/19/20801.png    Portugal   \n",
      "2  https://cdn.sofifa.org/players/4/19/190871.png      Brazil   \n",
      "3  https://cdn.sofifa.org/players/4/19/193080.png       Spain   \n",
      "4  https://cdn.sofifa.org/players/4/19/192985.png     Belgium   \n",
      "5  https://cdn.sofifa.org/players/4/19/183277.png     Belgium   \n",
      "6  https://cdn.sofifa.org/players/4/19/177003.png     Croatia   \n",
      "7  https://cdn.sofifa.org/players/4/19/176580.png     Uruguay   \n",
      "8  https://cdn.sofifa.org/players/4/19/155862.png       Spain   \n",
      "9  https://cdn.sofifa.org/players/4/19/200389.png    Slovenia   \n",
      "\n",
      "                                  Flag  Overall  Potential  \\\n",
      "0  https://cdn.sofifa.org/flags/52.png       94         94   \n",
      "1  https://cdn.sofifa.org/flags/38.png       94         94   \n",
      "2  https://cdn.sofifa.org/flags/54.png       92         93   \n",
      "3  https://cdn.sofifa.org/flags/45.png       91         93   \n",
      "4   https://cdn.sofifa.org/flags/7.png       91         92   \n",
      "5   https://cdn.sofifa.org/flags/7.png       91         91   \n",
      "6  https://cdn.sofifa.org/flags/10.png       91         91   \n",
      "7  https://cdn.sofifa.org/flags/60.png       91         91   \n",
      "8  https://cdn.sofifa.org/flags/45.png       91         91   \n",
      "9  https://cdn.sofifa.org/flags/44.png       90         93   \n",
      "\n",
      "                  Club  ... Composure Marking StandingTackle  SlidingTackle  \\\n",
      "0         FC Barcelona  ...      96.0    33.0           28.0           26.0   \n",
      "1             Juventus  ...      95.0    28.0           31.0           23.0   \n",
      "2  Paris Saint-Germain  ...      94.0    27.0           24.0           33.0   \n",
      "3    Manchester United  ...      68.0    15.0           21.0           13.0   \n",
      "4      Manchester City  ...      88.0    68.0           58.0           51.0   \n",
      "5              Chelsea  ...      91.0    34.0           27.0           22.0   \n",
      "6          Real Madrid  ...      84.0    60.0           76.0           73.0   \n",
      "7         FC Barcelona  ...      85.0    62.0           45.0           38.0   \n",
      "8          Real Madrid  ...      82.0    87.0           92.0           91.0   \n",
      "9      Atlético Madrid  ...      70.0    27.0           12.0           18.0   \n",
      "\n",
      "  GKDiving  GKHandling  GKKicking  GKPositioning GKReflexes Release Clause  \n",
      "0      6.0        11.0       15.0           14.0        8.0        €226.5M  \n",
      "1      7.0        11.0       15.0           14.0       11.0        €127.1M  \n",
      "2      9.0         9.0       15.0           15.0       11.0        €228.1M  \n",
      "3     90.0        85.0       87.0           88.0       94.0        €138.6M  \n",
      "4     15.0        13.0        5.0           10.0       13.0        €196.4M  \n",
      "5     11.0        12.0        6.0            8.0        8.0        €172.1M  \n",
      "6     13.0         9.0        7.0           14.0        9.0        €137.4M  \n",
      "7     27.0        25.0       31.0           33.0       37.0          €164M  \n",
      "8     11.0         8.0        9.0            7.0       11.0        €104.6M  \n",
      "9     86.0        92.0       78.0           88.0       89.0        €144.5M  \n",
      "\n",
      "[10 rows x 89 columns]\n"
     ]
    }
   ],
   "source": [
    "# (실습)0~9행, 1,2열 값을 sub4에 저장하기 \n",
    "sub4 = fifa2019.iloc[0:10]\n",
    "print(sub4)"
   ]
  },
  {
   "cell_type": "markdown",
   "metadata": {
    "colab_type": "text",
    "id": "1z7oCTGizc7-"
   },
   "source": [
    "### [Step 5] 우리나라 선수들 출력하기\n"
   ]
  },
  {
   "cell_type": "code",
   "execution_count": 17,
   "metadata": {
    "colab": {},
    "colab_type": "code",
    "id": "fIIj3qgNzg-u"
   },
   "outputs": [
    {
     "name": "stdout",
     "output_type": "stream",
     "text": [
      "0        False\n",
      "1        False\n",
      "2        False\n",
      "3        False\n",
      "4        False\n",
      "         ...  \n",
      "18202    False\n",
      "18203    False\n",
      "18204    False\n",
      "18205    False\n",
      "18206    False\n",
      "Name: Nationality, Length: 18207, dtype: bool\n",
      "<class 'pandas.core.series.Series'>\n",
      "       Unnamed: 0      ID             Name  Age  \\\n",
      "125           125  200104           H. Son   25   \n",
      "1295         1295  180283    Ki Sung Yueng   29   \n",
      "1407         1407  182152     Koo Ja Cheol   29   \n",
      "2002         2002  211927  Kwon Chang Hoon   24   \n",
      "2021         2021  221671     Lee Jae Sung   25   \n",
      "...           ...     ...              ...  ...   \n",
      "17955       17955  240272   Min Gyeong Min   22   \n",
      "17959       17959  245401     Lee Dong Hee   21   \n",
      "17965       17965  243359     Kim Jong Jin   19   \n",
      "18058       18058  244108  Hong Hyeon Seok   19   \n",
      "18084       18084  244411      Kwon Ki Pyo   21   \n",
      "\n",
      "                                                Photo     Nationality  \\\n",
      "125    https://cdn.sofifa.org/players/4/19/200104.png  Korea Republic   \n",
      "1295   https://cdn.sofifa.org/players/4/19/180283.png  Korea Republic   \n",
      "1407   https://cdn.sofifa.org/players/4/19/182152.png  Korea Republic   \n",
      "2002   https://cdn.sofifa.org/players/4/19/211927.png  Korea Republic   \n",
      "2021   https://cdn.sofifa.org/players/4/19/221671.png  Korea Republic   \n",
      "...                                               ...             ...   \n",
      "17955  https://cdn.sofifa.org/players/4/19/240272.png  Korea Republic   \n",
      "17959  https://cdn.sofifa.org/players/4/19/245401.png  Korea Republic   \n",
      "17965  https://cdn.sofifa.org/players/4/19/243359.png  Korea Republic   \n",
      "18058  https://cdn.sofifa.org/players/4/19/244108.png  Korea Republic   \n",
      "18084  https://cdn.sofifa.org/players/4/19/244411.png  Korea Republic   \n",
      "\n",
      "                                       Flag  Overall  Potential  \\\n",
      "125    https://cdn.sofifa.org/flags/167.png       84         85   \n",
      "1295   https://cdn.sofifa.org/flags/167.png       76         76   \n",
      "1407   https://cdn.sofifa.org/flags/167.png       76         76   \n",
      "2002   https://cdn.sofifa.org/flags/167.png       75         79   \n",
      "2021   https://cdn.sofifa.org/flags/167.png       75         78   \n",
      "...                                     ...      ...        ...   \n",
      "17955  https://cdn.sofifa.org/flags/167.png       51         59   \n",
      "17959  https://cdn.sofifa.org/flags/167.png       51         57   \n",
      "17965  https://cdn.sofifa.org/flags/167.png       51         64   \n",
      "18058  https://cdn.sofifa.org/flags/167.png       50         63   \n",
      "18084  https://cdn.sofifa.org/flags/167.png       50         59   \n",
      "\n",
      "                     Club  ... Composure Marking StandingTackle  \\\n",
      "125     Tottenham Hotspur  ...      82.0    48.0           34.0   \n",
      "1295     Newcastle United  ...      81.0    60.0           70.0   \n",
      "1407          FC Augsburg  ...      69.0    57.0           61.0   \n",
      "2002            Dijon FCO  ...      76.0    41.0           54.0   \n",
      "2021        Holstein Kiel  ...      79.0    49.0           54.0   \n",
      "...                   ...  ...       ...     ...            ...   \n",
      "17955            Daegu FC  ...      43.0    41.0           36.0   \n",
      "17959      Jeju United FC  ...      55.0    35.0           45.0   \n",
      "17965        Gyeongnam FC  ...      62.0    27.0           45.0   \n",
      "18058  SpVgg Unterhaching  ...      38.0    47.0           36.0   \n",
      "18084     Pohang Steelers  ...      47.0    46.0           17.0   \n",
      "\n",
      "       SlidingTackle GKDiving  GKHandling  GKKicking  GKPositioning  \\\n",
      "125             33.0     11.0        13.0       13.0            6.0   \n",
      "1295            71.0     14.0         9.0        7.0            9.0   \n",
      "1407            48.0     11.0        14.0       10.0           15.0   \n",
      "2002            53.0      7.0        16.0        9.0            8.0   \n",
      "2021            50.0     14.0         7.0       15.0            6.0   \n",
      "...              ...      ...         ...        ...            ...   \n",
      "17955           49.0     15.0         6.0        9.0            8.0   \n",
      "17959           45.0      9.0        12.0        7.0            5.0   \n",
      "17965           38.0     15.0        10.0       14.0           14.0   \n",
      "18058           39.0     13.0         9.0        7.0           13.0   \n",
      "18084           14.0     13.0         7.0       14.0           12.0   \n",
      "\n",
      "      GKReflexes Release Clause  \n",
      "125         10.0         €71.2M  \n",
      "1295        10.0         €14.3M  \n",
      "1407         9.0         €12.8M  \n",
      "2002         8.0         €17.6M  \n",
      "2021         8.0         €13.8M  \n",
      "...          ...            ...  \n",
      "17955       12.0           €73K  \n",
      "17959       12.0           €73K  \n",
      "17965       11.0          €131K  \n",
      "18058       10.0          €104K  \n",
      "18084        5.0           €73K  \n",
      "\n",
      "[335 rows x 89 columns]\n"
     ]
    }
   ],
   "source": [
    "# 국적이 한국(Korea Republic)이면 True, 그렇지 않으면 False를 korea_player(시리즈)에 저장함.\n",
    "korea_player = fifa2019['Nationality'] == 'Korea Republic'\n",
    "print(korea_player)\n",
    "print(type(korea_player))\n",
    "\n",
    "# (실습)korea_player가 True 인 한국 국적의 선수 데이터수 출력 \n",
    "sub5 = fifa2019.loc[korea_player]\n",
    "print(sub5)"
   ]
  },
  {
   "cell_type": "markdown",
   "metadata": {
    "colab_type": "text",
    "id": "2_NAJRWl5f_O"
   },
   "source": [
    "### [Step 6] 우리나라 선수들의 이름 출력하기\n"
   ]
  },
  {
   "cell_type": "code",
   "execution_count": 18,
   "metadata": {
    "colab": {},
    "colab_type": "code",
    "id": "YdPCmsSc5h8M"
   },
   "outputs": [
    {
     "name": "stdout",
     "output_type": "stream",
     "text": [
      "125               H. Son\n",
      "1295       Ki Sung Yueng\n",
      "1407        Koo Ja Cheol\n",
      "2002     Kwon Chang Hoon\n",
      "2021        Lee Jae Sung\n",
      "              ...       \n",
      "17955     Min Gyeong Min\n",
      "17959       Lee Dong Hee\n",
      "17965       Kim Jong Jin\n",
      "18058    Hong Hyeon Seok\n",
      "18084        Kwon Ki Pyo\n",
      "Name: Name, Length: 335, dtype: object\n"
     ]
    }
   ],
   "source": [
    "# 국적이 한국인 선수들의 이름값을 sub6에 저장하기 \n",
    "sub6 = sub5[\"Name\"]\n",
    "print(sub6)"
   ]
  },
  {
   "cell_type": "markdown",
   "metadata": {
    "colab_type": "text",
    "id": "Z_rs7M505ybE"
   },
   "source": [
    "## 04. 데이터 시각화하기 "
   ]
  },
  {
   "cell_type": "markdown",
   "metadata": {
    "colab_type": "text",
    "id": "XCRWEmKI6Ag9"
   },
   "source": [
    "### [Step 1] 선수들이 선호하는 발의 종류 데이터를 막대그래프로 나타내기\n"
   ]
  },
  {
   "cell_type": "code",
   "execution_count": 21,
   "metadata": {
    "colab": {},
    "colab_type": "code",
    "id": "01tjsaCw6DOO"
   },
   "outputs": [
    {
     "name": "stdout",
     "output_type": "stream",
     "text": [
      "Right    13948\n",
      "Left      4211\n",
      "Name: Preferred Foot, dtype: int64\n"
     ]
    },
    {
     "data": {
      "image/png": "[encoded data removed]",
      "text/plain": [
       "<Figure size 432x288 with 1 Axes>"
      ]
     },
     "metadata": {
      "needs_background": "light"
     },
     "output_type": "display_data"
    }
   ],
   "source": [
    "# matplotlib.pyplot 불러오기\n",
    "import matplotlib.pyplot as plt\n",
    "\n",
    "#(실습) 선호하는 발의 종류 세기\n",
    "res = fifa2019['Preferred Foot'].value_counts()\n",
    "print(res)\n",
    "\n",
    "res.plot(kind='bar')\n",
    "\n",
    "# 범례 표시하기\n",
    "plt.legend()\n",
    "\n",
    "# 그래프 출력하기 \n",
    "plt.show()"
   ]
  },
  {
   "cell_type": "markdown",
   "metadata": {
    "colab_type": "text",
    "id": "5r_Yh25E7eXN"
   },
   "source": [
    "### [Step 2] 선수들이 선호하는 발의 종류를 원 그래프로 나타내기\n"
   ]
  },
  {
   "cell_type": "code",
   "execution_count": 29,
   "metadata": {
    "colab": {},
    "colab_type": "code",
    "id": "M6srRbpR7hDe"
   },
   "outputs": [
    {
     "name": "stdout",
     "output_type": "stream",
     "text": [
      "Right    13948\n",
      "Left      4211\n",
      "Name: Preferred Foot, dtype: int64\n"
     ]
    },
    {
     "data": {
      "image/png": "[encoded data removed]",
      "text/plain": [
       "<Figure size 432x288 with 1 Axes>"
      ]
     },
     "metadata": {},
     "output_type": "display_data"
    }
   ],
   "source": [
    "\n",
    "## 선호하는 발의 종류 세기\n",
    "res = fifa2019['Preferred Foot'].value_counts()\n",
    "print(res)\n",
    "\n",
    "# (실습) 판다스의 원 그래프(pie) 그리기\n",
    "res.plot(kind = 'pie', autopct=\"%1.1f%%\")\n",
    "\n",
    "# 범례 표시하기\n",
    "plt.legend()\n",
    "\n",
    "# 그래프 출력하기 \n",
    "plt.show()"
   ]
  },
  {
   "cell_type": "code",
   "execution_count": null,
   "metadata": {},
   "outputs": [],
   "source": []
  }
 ],
 "metadata": {
  "colab": {
   "authorship_tag": "ABX9TyMahYC1w2hnTt7G3WZ+BTBr",
   "collapsed_sections": [],
   "name": "[실습]15-내가 만약 축구팀 감독이라면 .ipynb",
   "provenance": []
  },
  "kernelspec": {
   "display_name": "Python 3",
   "language": "python",
   "name": "python3"
  },
  "language_info": {
   "codemirror_mode": {
    "name": "ipython",
    "version": 3
   },
   "file_extension": ".py",
   "mimetype": "text/x-python",
   "name": "python",
   "nbconvert_exporter": "python",
   "pygments_lexer": "ipython3",
   "version": "3.8.5"
  }
 },
 "nbformat": 4,
 "nbformat_minor": 1
}
