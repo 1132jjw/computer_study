{
 "cells": [
  {
   "cell_type": "markdown",
   "metadata": {
    "colab_type": "text",
    "id": "WjEtz6fzvz6v"
   },
   "source": [
    "# 내가 만약 축구팀 감독이라면 "
   ]
  },
  {
   "cell_type": "markdown",
   "metadata": {
    "colab_type": "text",
    "id": "yFYSNNteMsko"
   },
   "source": [
    "## 05. 학습하기\n",
    "### 5-1. 비슷한 특성의 데이터끼리 묶기"
   ]
  },
  {
   "cell_type": "markdown",
   "metadata": {
    "colab_type": "text",
    "id": "xTC4yeV2M2sz"
   },
   "source": [
    "### 5-2. K-평균(K-Means) 군집화 알고리즘의 동작 과정 알아보기"
   ]
  },
  {
   "cell_type": "markdown",
   "metadata": {
    "colab_type": "text",
    "id": "EtUU5ATBM8tj"
   },
   "source": [
    "#### [Step 1] 표본공간에 K개의 중심을 무작위로 생성하기 "
   ]
  },
  {
   "cell_type": "markdown",
   "metadata": {
    "colab_type": "text",
    "id": "ZMa6UrocNCCy"
   },
   "source": [
    "#### [Step 2] 각 표본을 가장 가까운 중심(centroid)에 할당하기 "
   ]
  },
  {
   "cell_type": "markdown",
   "metadata": {
    "colab_type": "text",
    "id": "ox0Ky1_HNHKJ"
   },
   "source": [
    "####[Step 3] 각 군집의 중심을 새롭게 계산하기"
   ]
  },
  {
   "cell_type": "markdown",
   "metadata": {
    "colab_type": "text",
    "id": "VtSEG5I7N1K6"
   },
   "source": [
    "### 5.3  프로그램 작성하기\n",
    "- K-평균 군집화 알고리즘을 이용해 여러 선수들의 체력과 드리블 능력 데이터를 상, 중, 하 3개 팀으로 나눠보기"
   ]
  },
  {
   "cell_type": "markdown",
   "metadata": {
    "colab_type": "text",
    "id": "sCF6jOL1N3-5"
   },
   "source": [
    "#### **[Step 1] 데이터 불러오기**"
   ]
  },
  {
   "cell_type": "code",
   "execution_count": null,
   "metadata": {
    "colab": {},
    "colab_type": "code",
    "id": "qN7sWCIJPvnb"
   },
   "outputs": [],
   "source": [
    "# fifa 2019.csv 파일 업로드하기 \n",
    "from google.colab import files\n",
    "\n",
    "uploaded = files.upload()"
   ]
  },
  {
   "cell_type": "markdown",
   "metadata": {
    "colab_type": "text",
    "id": "Dy1D06_GeWIh"
   },
   "source": [
    "- Overall(전반적인 능력치) 기준으로 내림차순 200개 추출해서 (데이터프레임 : df)\n",
    "- column이 'Name', 'Stemina', 'Dribblinig', 'ShortPassing', 'Penalties' 인 데이터프레임(test_df) 만들기\n",
    "\n",
    "**1. 판다스 불러오기** <br>\n",
    "\n",
    "**2. 판다스를 이용해 fifa2019 데이터프레임(fifa2019) 생성하기** <br>\n",
    "\n",
    "**3. fifa2019 데이터 프레임에서 Overall 내림차순으로 선수 200명을 복사해 df 데이터프레임 생성하기** <br>\n",
    "  - Overall(전반적인 능력치) 기준으로 내림차순하기 (ascending=False)"
   ]
  },
  {
   "cell_type": "code",
   "execution_count": 4,
   "metadata": {
    "colab": {},
    "colab_type": "code",
    "id": "to1_vt_jM8KS"
   },
   "outputs": [
    {
     "name": "stdout",
     "output_type": "stream",
     "text": [
      "     Unnamed: 0      ID               Name  Age  \\\n",
      "0             0  158023           L. Messi   31   \n",
      "1             1   20801  Cristiano Ronaldo   33   \n",
      "2             2  190871          Neymar Jr   26   \n",
      "3             3  193080             De Gea   27   \n",
      "4             4  192985       K. De Bruyne   27   \n",
      "..          ...     ...                ...  ...   \n",
      "166         166  212523   Anderson Talisca   24   \n",
      "165         165  213331             J. Tah   22   \n",
      "164         164  213345           K. Coman   22   \n",
      "163         163  213565           T. Lemar   22   \n",
      "162         162  219683         C. Tolisso   23   \n",
      "\n",
      "                                              Photo Nationality  \\\n",
      "0    https://cdn.sofifa.org/players/4/19/158023.png   Argentina   \n",
      "1     https://cdn.sofifa.org/players/4/19/20801.png    Portugal   \n",
      "2    https://cdn.sofifa.org/players/4/19/190871.png      Brazil   \n",
      "3    https://cdn.sofifa.org/players/4/19/193080.png       Spain   \n",
      "4    https://cdn.sofifa.org/players/4/19/192985.png     Belgium   \n",
      "..                                              ...         ...   \n",
      "166  https://cdn.sofifa.org/players/4/19/212523.png      Brazil   \n",
      "165  https://cdn.sofifa.org/players/4/19/213331.png     Germany   \n",
      "164  https://cdn.sofifa.org/players/4/19/213345.png      France   \n",
      "163  https://cdn.sofifa.org/players/4/19/213565.png      France   \n",
      "162  https://cdn.sofifa.org/players/4/19/219683.png      France   \n",
      "\n",
      "                                    Flag  Overall  Potential  \\\n",
      "0    https://cdn.sofifa.org/flags/52.png       94         94   \n",
      "1    https://cdn.sofifa.org/flags/38.png       94         94   \n",
      "2    https://cdn.sofifa.org/flags/54.png       92         93   \n",
      "3    https://cdn.sofifa.org/flags/45.png       91         93   \n",
      "4     https://cdn.sofifa.org/flags/7.png       91         92   \n",
      "..                                   ...      ...        ...   \n",
      "166  https://cdn.sofifa.org/flags/54.png       83         90   \n",
      "165  https://cdn.sofifa.org/flags/21.png       83         88   \n",
      "164  https://cdn.sofifa.org/flags/18.png       83         87   \n",
      "163  https://cdn.sofifa.org/flags/18.png       83         89   \n",
      "162  https://cdn.sofifa.org/flags/18.png       83         88   \n",
      "\n",
      "                               Club  ... Composure Marking StandingTackle  \\\n",
      "0                      FC Barcelona  ...      96.0    33.0           28.0   \n",
      "1                          Juventus  ...      95.0    28.0           31.0   \n",
      "2               Paris Saint-Germain  ...      94.0    27.0           24.0   \n",
      "3                 Manchester United  ...      68.0    15.0           21.0   \n",
      "4                   Manchester City  ...      88.0    68.0           58.0   \n",
      "..                              ...  ...       ...     ...            ...   \n",
      "166  Guangzhou Evergrande Taobao FC  ...      74.0    55.0           62.0   \n",
      "165             Bayer 04 Leverkusen  ...      75.0    80.0           88.0   \n",
      "164               FC Bayern München  ...      75.0    29.0           17.0   \n",
      "163                 Atlético Madrid  ...      80.0    55.0           59.0   \n",
      "162               FC Bayern München  ...      74.0    75.0           78.0   \n",
      "\n",
      "     SlidingTackle GKDiving  GKHandling  GKKicking  GKPositioning GKReflexes  \\\n",
      "0             26.0      6.0        11.0       15.0           14.0        8.0   \n",
      "1             23.0      7.0        11.0       15.0           14.0       11.0   \n",
      "2             33.0      9.0         9.0       15.0           15.0       11.0   \n",
      "3             13.0     90.0        85.0       87.0           88.0       94.0   \n",
      "4             51.0     15.0        13.0        5.0           10.0       13.0   \n",
      "..             ...      ...         ...        ...            ...        ...   \n",
      "166           42.0     13.0        11.0       13.0           12.0       10.0   \n",
      "165           84.0     11.0         8.0        7.0            9.0       14.0   \n",
      "164           15.0      5.0         3.0        5.0            3.0        5.0   \n",
      "163           63.0     11.0        15.0       13.0            7.0       14.0   \n",
      "162           71.0      7.0        10.0       14.0            9.0       14.0   \n",
      "\n",
      "    Release Clause  \n",
      "0          €226.5M  \n",
      "1          €127.1M  \n",
      "2          €228.1M  \n",
      "3          €138.6M  \n",
      "4          €196.4M  \n",
      "..             ...  \n",
      "166            NaN  \n",
      "165         €52.4M  \n",
      "164         €58.7M  \n",
      "163         €79.9M  \n",
      "162         €58.7M  \n",
      "\n",
      "[200 rows x 89 columns]\n"
     ]
    }
   ],
   "source": [
    "# 1. (실습) 판다스 불러오기 \n",
    "import pandas as pd\n",
    "\n",
    "# 2. (실습)fifa2019 데이터프레임 생성하기 \n",
    "fifa2019 = pd.read_csv('fifa2019.csv')\n",
    "\n",
    "# 3. (실습) df데이터프레임 : fifa2019 훈련에 참여한 선수 200명을 복사(pd.DataFrame.copy)해 df 데이터프레임 생성하기 \n",
    "# fifa2019.sort_values - 'Overall'(전반적인 능력치) 기준으로 내림차순 (ascending=False) 하기 \n",
    "df = pd.DataFrame.copy(   fifa2019.sort_values(by='Overall', ascending=False).head(200))\n",
    "print(df)"
   ]
  },
  {
   "cell_type": "markdown",
   "metadata": {
    "colab_type": "text",
    "id": "EnTLFPX87orI"
   },
   "source": [
    "- Overall(전반적인 능력치) 기준으로 내림차순 200개 추출해서 (데이터프레임 : df)\n",
    "- column이 'Name', 'Stemina', 'Dribblinig', 'ShortPassing', 'Penalties' 인 데이터프레임(test_df) 만들기<br>\n",
    "\n",
    "**4. test_feature : 특성 이름 리스트 만들기**<br> \n",
    "  - 이름('Name'), 체력('Stamina'), 드리블('Dribbling'), 짧은 패스('ShortPassing'), 패널티킥('Panalties')<br>\n",
    "\n",
    "**5.  df, test_feature 이용해서 test_df 데이터프레임 생성하기**<br>\n",
    "  - pd.DataFrame() : 데이터프레임 생성하기 <br>\n",
    "\n",
    "**6. test_df 데이터프레임 5개만 출력하기**"
   ]
  },
  {
   "cell_type": "code",
   "execution_count": 5,
   "metadata": {
    "colab": {},
    "colab_type": "code",
    "id": "S_nAl2Wr7orO"
   },
   "outputs": [
    {
     "name": "stdout",
     "output_type": "stream",
     "text": [
      "                Name  Stamina  Dribbling  ShortPassing  Penalties\n",
      "0           L. Messi     72.0       97.0          90.0       75.0\n",
      "1  Cristiano Ronaldo     88.0       88.0          81.0       85.0\n",
      "2          Neymar Jr     81.0       96.0          84.0       81.0\n",
      "3             De Gea     43.0       18.0          50.0       40.0\n",
      "4       K. De Bruyne     90.0       86.0          92.0       79.0\n"
     ]
    }
   ],
   "source": [
    "# 4. test_feature : 특성 이름 리스트 만들기 \n",
    "# 이름('Name'), 체력('Stamina'), 드리블('Dribbling'), 짧은 패스('ShortPassing'), 패널티킥('Panalties')\n",
    "# 'Name', 'Stemina', 'Dribblinig', 'ShortPassing', 'Penalties'\n",
    "test_features = ['Name', 'Stamina', 'Dribbling', 'ShortPassing', 'Penalties']\n",
    "\n",
    "# 5. df, test_feature 이용해서 test_df 데이터프레임 생성하기\n",
    "test_df = pd.DataFrame(df, columns=test_features)\n",
    "\n",
    "# 6. test_df 데이터 프레임 5개만 출력하기 \n",
    "print(test_df.head(5))"
   ]
  },
  {
   "cell_type": "markdown",
   "metadata": {
    "colab_type": "text",
    "id": "24-MSsAGODFz"
   },
   "source": [
    "####**[Step 2] 학습 데이터 준비하기** \n",
    "\n",
    "1. XY 넘파이 배열 만들기 : test_df 데이터프레임 이용하기 \n",
    "2. 학습 데이터 만들기(X 넘파이 배열) : 체력('Stamina', 1번 열), 드리블('Dribbling', 2번 열)만 들어간 학습 데이터\n",
    "\n",
    "- numpy : 행렬연산을 위한 라이브러리, 배열 생성 \n",
    "\n",
    "```python\n",
    "import numpy as np          # 넘파이 불러오기\n",
    "배열명 = np.array(리스트)   # 리스트를 넘파이 배열로 생성하기\n",
    "```"
   ]
  },
  {
   "cell_type": "code",
   "execution_count": 9,
   "metadata": {
    "colab": {},
    "colab_type": "code",
    "id": "1JT_HD-dM8PA"
   },
   "outputs": [
    {
     "name": "stdout",
     "output_type": "stream",
     "text": [
      "[[72.0 97.0]\n",
      " [88.0 88.0]\n",
      " [81.0 96.0]\n",
      " [43.0 18.0]\n",
      " [90.0 86.0]\n",
      " [83.0 95.0]\n",
      " [89.0 90.0]\n",
      " [90.0 87.0]\n",
      " [84.0 63.0]\n",
      " [66.0 53.0]\n",
      " [78.0 89.0]\n",
      " [41.0 12.0]\n",
      " [75.0 81.0]\n",
      " [78.0 85.0]\n",
      " [86.0 80.0]\n",
      " [65.0 58.0]\n",
      " [76.0 89.0]\n",
      " [43.0 30.0]\n",
      " [92.0 80.0]\n",
      " [89.0 80.0]\n",
      " [38.0 13.0]\n",
      " [35.0 17.0]\n",
      " [83.0 88.0]\n",
      " [80.0 92.0]\n",
      " [96.0 79.0]\n",
      " [66.0 68.0]\n",
      " [39.0 26.0]\n",
      " [41.0 12.0]\n",
      " [74.0 62.0]\n",
      " [70.0 84.0]\n",
      " [41.0 10.0]\n",
      " [75.0 87.0]\n",
      " [91.0 90.0]\n",
      " [79.0 91.0]\n",
      " [76.0 79.0]\n",
      " [92.0 84.0]\n",
      " [70.0 94.0]\n",
      " [75.0 90.0]\n",
      " [70.0 85.0]\n",
      " [87.0 69.0]\n",
      " [84.0 89.0]\n",
      " [83.0 90.0]\n",
      " [80.0 83.0]\n",
      " [65.0 59.0]\n",
      " [84.0 84.0]\n",
      " [84.0 86.0]\n",
      " [75.0 71.0]\n",
      " [75.0 91.0]\n",
      " [91.0 80.0]\n",
      " [84.0 80.0]\n",
      " [39.0 16.0]\n",
      " [88.0 87.0]\n",
      " [71.0 66.0]\n",
      " [72.0 77.0]\n",
      " [78.0 69.0]\n",
      " [75.0 90.0]\n",
      " [55.0 90.0]\n",
      " [79.0 77.0]\n",
      " [69.0 84.0]\n",
      " [69.0 64.0]\n",
      " [78.0 86.0]\n",
      " [74.0 62.0]\n",
      " [71.0 69.0]\n",
      " [87.0 69.0]\n",
      " [73.0 87.0]\n",
      " [87.0 75.0]\n",
      " [41.0 23.0]\n",
      " [92.0 80.0]\n",
      " [77.0 90.0]\n",
      " [73.0 57.0]\n",
      " [90.0 87.0]\n",
      " [78.0 88.0]\n",
      " [71.0 70.0]\n",
      " [84.0 87.0]\n",
      " [78.0 92.0]\n",
      " [79.0 88.0]\n",
      " [78.0 92.0]\n",
      " [76.0 76.0]\n",
      " [76.0 77.0]\n",
      " [78.0 81.0]\n",
      " [89.0 84.0]\n",
      " [83.0 76.0]\n",
      " [61.0 60.0]\n",
      " [93.0 80.0]\n",
      " [60.0 58.0]\n",
      " [94.0 78.0]\n",
      " [65.0 67.0]\n",
      " [75.0 83.0]\n",
      " [89.0 77.0]\n",
      " [66.0 63.0]\n",
      " [85.0 93.0]\n",
      " [61.0 79.0]\n",
      " [69.0 64.0]\n",
      " [83.0 87.0]\n",
      " [80.0 90.0]\n",
      " [76.0 91.0]\n",
      " [77.0 59.0]\n",
      " [85.0 86.0]\n",
      " [76.0 86.0]\n",
      " [45.0 11.0]\n",
      " [32.0 27.0]\n",
      " [85.0 80.0]\n",
      " [86.0 83.0]\n",
      " [87.0 79.0]\n",
      " [90.0 82.0]\n",
      " [79.0 85.0]\n",
      " [76.0 54.0]\n",
      " [67.0 51.0]\n",
      " [78.0 78.0]\n",
      " [92.0 82.0]\n",
      " [83.0 76.0]\n",
      " [74.0 84.0]\n",
      " [41.0 15.0]\n",
      " [85.0 88.0]\n",
      " [73.0 86.0]\n",
      " [73.0 86.0]\n",
      " [91.0 82.0]\n",
      " [89.0 79.0]\n",
      " [77.0 78.0]\n",
      " [86.0 78.0]\n",
      " [84.0 80.0]\n",
      " [66.0 84.0]\n",
      " [69.0 58.0]\n",
      " [37.0 12.0]\n",
      " [68.0 75.0]\n",
      " [34.0 12.0]\n",
      " [55.0 59.0]\n",
      " [75.0 89.0]\n",
      " [53.0 64.0]\n",
      " [65.0 89.0]\n",
      " [64.0 89.0]\n",
      " [34.0 10.0]\n",
      " [69.0 85.0]\n",
      " [43.0 16.0]\n",
      " [84.0 80.0]\n",
      " [75.0 86.0]\n",
      " [67.0 47.0]\n",
      " [92.0 82.0]\n",
      " [89.0 83.0]\n",
      " [65.0 42.0]\n",
      " [75.0 87.0]\n",
      " [90.0 83.0]\n",
      " [92.0 76.0]\n",
      " [75.0 59.0]\n",
      " [67.0 59.0]\n",
      " [79.0 82.0]\n",
      " [66.0 63.0]\n",
      " [78.0 90.0]\n",
      " [83.0 85.0]\n",
      " [76.0 63.0]\n",
      " [30.0 19.0]\n",
      " [36.0 15.0]\n",
      " [85.0 88.0]\n",
      " [79.0 85.0]\n",
      " [84.0 76.0]\n",
      " [66.0 81.0]\n",
      " [83.0 84.0]\n",
      " [76.0 78.0]\n",
      " [82.0 68.0]\n",
      " [79.0 75.0]\n",
      " [32.0 11.0]\n",
      " [90.0 79.0]\n",
      " [88.0 86.0]\n",
      " [89.0 75.0]\n",
      " [39.0 19.0]\n",
      " [39.0 19.0]\n",
      " [86.0 80.0]\n",
      " [78.0 82.0]\n",
      " [85.0 78.0]\n",
      " [82.0 84.0]\n",
      " [85.0 68.0]\n",
      " [31.0 15.0]\n",
      " [66.0 66.0]\n",
      " [95.0 82.0]\n",
      " [34.0 10.0]\n",
      " [74.0 64.0]\n",
      " [31.0 11.0]\n",
      " [58.0 84.0]\n",
      " [70.0 89.0]\n",
      " [56.0 79.0]\n",
      " [80.0 77.0]\n",
      " [32.0 15.0]\n",
      " [86.0 72.0]\n",
      " [74.0 60.0]\n",
      " [45.0 15.0]\n",
      " [45.0 20.0]\n",
      " [32.0 12.0]\n",
      " [71.0 82.0]\n",
      " [81.0 65.0]\n",
      " [67.0 51.0]\n",
      " [31.0 20.0]\n",
      " [86.0 83.0]\n",
      " [86.0 81.0]\n",
      " [82.0 79.0]\n",
      " [83.0 83.0]\n",
      " [76.0 82.0]\n",
      " [63.0 55.0]\n",
      " [76.0 88.0]\n",
      " [79.0 85.0]\n",
      " [87.0 77.0]]\n",
      "200\n"
     ]
    }
   ],
   "source": [
    "# 체력('Stamina'), 드리블('Dribbling')\n",
    "# 1. (실습) numpy 불러오기 \n",
    "import numpy as np\n",
    "\n",
    "# 2. (실습) test_df 데이터프레임 이용해 XY 배열 만들기 \n",
    "XY = np.array(test_df)\n",
    "\n",
    "# XY 배열 출력하기 \n",
    "#print(XY)\n",
    "\n",
    "# 3. (실습) 학습 데이터 만들기(X 배열) \n",
    "# X(선수정보) - XY 배열에 속한 축구선수들[:]의 체력(1번 열), 드리블(2번 열) 값[1:3] 저장한 배열 생성 \n",
    "X = XY[:, 1:3]\n",
    "print(X)\n",
    "print(len(X))"
   ]
  },
  {
   "cell_type": "markdown",
   "metadata": {
    "colab_type": "text",
    "id": "JxnLucwgS2I9"
   },
   "source": [
    "####**[Step 3] K-평균 군집화 알고리즘 적용하기**"
   ]
  },
  {
   "cell_type": "markdown",
   "metadata": {
    "colab_type": "text",
    "id": "uj_NP1HUS5f-"
   },
   "source": [
    "##### **[1단계] 표본공간에 k개의 중심을 무작위로 생성하기** \n",
    "**1. 표본공간에서 사용할 중심을 생성해보자.**\n",
    "- 데이터셋($X$ 배열)에서 체력 데이터, 드리블 데이터를 무작위로 3개 뽑아서 2차원 배열 $C$를 생성하기 \n",
    "<br><br>\n",
    "  - $X$ 배열 : 체력(0번) -  드리블(1번)<br><br>\n",
    "  - $C_x$ 배열 만들기(x-체력) \n",
    "    - $X$배열에서 체력 데이터(0번 열)에서 무작위로 3개 뽑아 1차원 넘파이 배열 만들기 <br><br>\n",
    "  - $C_y$ 배열 만들기(y-드리블) \n",
    "    - $X$배열에서 드리블 데이터(1번 열)에서 무작위로 3개 뽑아 1차원 넘파이 배열 만들기<br><br> \n",
    "  - $C$ \n",
    "    - $C_x$(체력 배열), $C_y$(드리블 배열)을 묶어서 리스트로 만들어 넘파이 배열로 만들기 "
   ]
  },
  {
   "cell_type": "code",
   "execution_count": 11,
   "metadata": {
    "colab": {},
    "colab_type": "code",
    "id": "1k47aIf0TBxf"
   },
   "outputs": [
    {
     "name": "stdout",
     "output_type": "stream",
     "text": [
      "C_x array :  [72.0 75.0 78.0]\n",
      "C_y array :  [89.0 90.0 63.0]\n",
      "[[72. 89.]\n",
      " [75. 90.]\n",
      " [78. 63.]]\n"
     ]
    }
   ],
   "source": [
    "# 분류하려는 군집의 갯수(k) : 3\n",
    "k = 3\n",
    "\n",
    "# (실습) C_x : X배열에서 체력 데이터(0번 열)를 무작위로 3개 뽑아 1차원 넘파이 배열 만들기 \n",
    "# np.random.choice(X[:, 0], 3)\n",
    "C_x = np.random.choice(X[:, 0], 3) \n",
    "print(\"C_x array : \" ,C_x)\n",
    "\n",
    "# (실습) C_y : X배열에서 드리블 데이터(1번 열)를 무작위로 3개 뽑아 1차원 넘파이 배열 만들기 \n",
    "C_y = np.random.choice(X[:, 1], 3)\n",
    "print(\"C_y array : \", C_y)\n",
    "\n",
    "# A : C_x(체력 배열), C_y(드리블 배열)을 묶어서 리스트 만들기 \n",
    "# list(zip())\n",
    "A = list(zip(C_x, C_y))\n",
    "\n",
    "# C : 중심점 배열 만들기\n",
    "C = np.array(list(zip(C_x, C_y)))\n",
    "print(C)"
   ]
  },
  {
   "cell_type": "markdown",
   "metadata": {
    "colab_type": "text",
    "id": "kwSwdIpgbyzE"
   },
   "source": [
    "**2. 생성 결과를 시각적으로 확인해보자.**\n",
    "- $test_{df} : Name,  Stamina,  Dribbling,  ShortPassing,  Penalties$\n"
   ]
  },
  {
   "cell_type": "code",
   "execution_count": 12,
   "metadata": {
    "colab": {},
    "colab_type": "code",
    "id": "-HZAuuzUb49X"
   },
   "outputs": [
    {
     "data": {
      "image/png": "[encoded data removed]",
      "text/plain": [
       "<Figure size 432x288 with 1 Axes>"
      ]
     },
     "metadata": {
      "needs_background": "light"
     },
     "output_type": "display_data"
    }
   ],
   "source": [
    "# matplotlib.pyplot 불러오기 \n",
    "import matplotlib.pyplot as plt\n",
    "\n",
    "# test_df에서 Stamina(체력), Dribbling(드리블) 만 들어간 시리즈 만들기 \n",
    "Stamina = test_df['Stamina']\n",
    "Dribbling = test_df['Dribbling']\n",
    "\n",
    "# 그래프 그리기 \n",
    "plt.title('Stamina & Dribbling')\n",
    "plt.xlabel('Stamina')\n",
    "plt.ylabel('Dribbling')\n",
    "\n",
    "# (실습) x: Stamina, y : Dribbling 값을 산점도로 표현하기 \n",
    "# 삼각형^, 파란색, 크기 30, 레이블 players\n",
    "plt.scatter(Stamina, Dribbling, c='blue', s=30, marker='^', label='players')\n",
    "\n",
    "# (실습) x : C_x, y : C_y 값을 산점도로 표현하기 \n",
    "# s : size, c : color,별, 검은색,  크기 200, 레이블 centroids\n",
    "plt.scatter(C_x, C_y, s=200, c='black', marker='*', label='centroids')\n",
    "\n",
    "# 범례 표시하기 (loc : 위치, 'lower right' : 오른쪽 아래, 'best' : 최적 )\n",
    "plt.legend()\n",
    "plt.grid()\n",
    "plt.show()"
   ]
  },
  {
   "cell_type": "markdown",
   "metadata": {
    "colab_type": "text",
    "id": "kTQXPkIboiuu"
   },
   "source": [
    "##### **[2단계] 각 표본에 가까운 중심에 할당하기** \n",
    "**1. 거리를 추측하는 함수 만들기**\n",
    "- 유클리디안 거리 계산함수 만들기 \n",
    "\n",
    "   $ Distance(A, B) = \\sqrt{(A - B)^2} $\n",
    "   ```python\n",
    "   Distance(A, B) : np.sqrt(np.sum(np.power((A-B), 2)))\n",
    "   ```"
   ]
  },
  {
   "cell_type": "code",
   "execution_count": 13,
   "metadata": {
    "colab": {},
    "colab_type": "code",
    "id": "o7h7_SFCXUne"
   },
   "outputs": [],
   "source": [
    "# (실습) 유클리디안 거리 계산 함수 만들기\n",
    "def Distance(A, B):\n",
    "  return np.sqrt(np.sum(np.power((A-B), 2)))"
   ]
  },
  {
   "cell_type": "markdown",
   "metadata": {
    "colab_type": "text",
    "id": "t7y4EiRXzZex"
   },
   "source": [
    "**2. 각 군집의 중심을 새롭게 계산하기**\n",
    "- $X$(선수정보) \n",
    "  - 축구선수들의 체력(1번 열), 드리블(2번 열) 값 저장한 배열 생성 <br><br>\n",
    "- $C$ 배열 : 현재 중심 위치값<br><br>\n",
    "- $temp = Distance(X[i], C[j])$\n",
    "  - 군집중심($C[j]$)과 선수 데이터($X[i]$)간의 거리계산 결과 저장 \n",
    "  - $distances.append(temp)$ : 각 거리계산한 값을 리스트에 추가 <br><br>\n",
    "- $clusters$ 배열\n",
    "  - 입력값과 각 중심값 사이의 거리 중 가장 짧은 거리의 인덱스 저장\n",
    "\n"
   ]
  },
  {
   "cell_type": "markdown",
   "metadata": {
    "colab_type": "text",
    "id": "vi0i7Zl42RLx"
   },
   "source": [
    "##### **[3 단계] 각 군집의 중심(C)을 새롭게 계산하기**\n",
    "- $points$ 리스트 \n",
    "  -  군집의 중심값별로 데이터를 모아서 $points$ 리스트에 저장함 <br><br>\n",
    "- $C$ 배열 : points 리스트 값의 평균을 구해서 업데이트한 중심 위치값<br><br>\n",
    "- $C_{old}$ 배열 : 이전 중심위치값 저장 배열<br><br>\n",
    "- $flag$\n",
    "  - $C$와 $C_{old}$ 유클리드 거리 구하기\n",
    "  - (추후) $C$와 $C_{old}$ 거리차이가 0이 될때까지 <br><br>\n"
   ]
  },
  {
   "cell_type": "code",
   "execution_count": 14,
   "metadata": {
    "colab": {},
    "colab_type": "code",
    "id": "9hJyFULWzdjw"
   },
   "outputs": [
    {
     "name": "stdout",
     "output_type": "stream",
     "text": [
      "C_old : \n",
      " [[0. 0.]\n",
      " [0. 0.]\n",
      " [0. 0.]]\n",
      "C : \n",
      " [[72. 89.]\n",
      " [75. 90.]\n",
      " [78. 63.]]\n",
      "flag :  192.04947279281973\n"
     ]
    }
   ],
   "source": [
    "# 현재중심위치값과 이전중심위치값의 거리 구하기 \n",
    "# C_old 배열 만들기(C 배열 모양만큼 0으로 초기화하기)\n",
    "C_old = np.zeros(C.shape)\n",
    "\n",
    "# clusters 배열 만들기 (입력값과 각 중심점 사이의 거리 중 가장 짧은 거리의 인덱스 저장)\n",
    "clusters = np.zeros(len(X))\n",
    "\n",
    "# C배열 (체력과 드리블 3*2로 만든 배열), C_old(3*2,0으로 초기화한 배열)\n",
    "# 유클리드 거리 구하기 \n",
    "flag = Distance(C, C_old)\n",
    "\n",
    "print(\"C_old : \\n\", C_old)\n",
    "print(\"C : \\n\", C)\n",
    "print(\"flag : \", flag)"
   ]
  },
  {
   "cell_type": "code",
   "execution_count": 15,
   "metadata": {
    "colab": {},
    "colab_type": "code",
    "id": "ZirA9WPMRuPQ"
   },
   "outputs": [
    {
     "name": "stdout",
     "output_type": "stream",
     "text": [
      "clusters :  [1. 1. 1. 2. 1. 1. 1. 1. 2. 2. 1. 2. 0. 1. 1. 2. 1. 2. 1. 1. 2. 2. 1. 1.\n",
      " 1. 2. 2. 2. 2. 0. 2. 1. 1. 1. 0. 1. 0. 1. 0. 2. 1. 1. 1. 2. 1. 1. 2. 1.\n",
      " 1. 1. 2. 1. 2. 0. 2. 1. 0. 1. 0. 2. 1. 2. 2. 2. 0. 2. 2. 1. 1. 2. 1. 1.\n",
      " 2. 1. 1. 1. 1. 2. 0. 1. 1. 2. 2. 1. 2. 2. 2. 0. 2. 2. 1. 0. 2. 1. 1. 1.\n",
      " 2. 1. 1. 2. 2. 1. 1. 1. 1. 1. 2. 2. 1. 1. 2. 0. 2. 1. 0. 0. 1. 1. 0. 1.\n",
      " 1. 0. 2. 2. 0. 2. 2. 1. 2. 0. 0. 2. 0. 2. 1. 1. 2. 1. 1. 2. 1. 1. 2. 2.\n",
      " 2. 1. 2. 1. 1. 2. 2. 2. 1. 1. 2. 0. 1. 0. 2. 2. 2. 1. 1. 2. 2. 2. 1. 1.\n",
      " 1. 1. 2. 2. 2. 1. 2. 2. 2. 0. 0. 0. 1. 2. 2. 2. 2. 2. 2. 0. 2. 2. 2. 1.\n",
      " 1. 1. 1. 0. 2. 1. 1. 2.]\n",
      " 2단계 끝 : 각 표본에 가까운 중심에 할당하기==================================\n",
      "i :  0  points :  [array([75.0, 81.0], dtype=object), array([70.0, 84.0], dtype=object), array([76.0, 79.0], dtype=object), array([70.0, 94.0], dtype=object), array([70.0, 85.0], dtype=object), array([72.0, 77.0], dtype=object), array([55.0, 90.0], dtype=object), array([69.0, 84.0], dtype=object), array([73.0, 87.0], dtype=object), array([76.0, 77.0], dtype=object), array([75.0, 83.0], dtype=object), array([61.0, 79.0], dtype=object), array([74.0, 84.0], dtype=object), array([73.0, 86.0], dtype=object), array([73.0, 86.0], dtype=object), array([77.0, 78.0], dtype=object), array([66.0, 84.0], dtype=object), array([68.0, 75.0], dtype=object), array([65.0, 89.0], dtype=object), array([64.0, 89.0], dtype=object), array([69.0, 85.0], dtype=object), array([66.0, 81.0], dtype=object), array([76.0, 78.0], dtype=object), array([58.0, 84.0], dtype=object), array([70.0, 89.0], dtype=object), array([56.0, 79.0], dtype=object), array([71.0, 82.0], dtype=object), array([76.0, 82.0], dtype=object)]\n",
      "i :  1  points :  [array([72.0, 97.0], dtype=object), array([88.0, 88.0], dtype=object), array([81.0, 96.0], dtype=object), array([90.0, 86.0], dtype=object), array([83.0, 95.0], dtype=object), array([89.0, 90.0], dtype=object), array([90.0, 87.0], dtype=object), array([78.0, 89.0], dtype=object), array([78.0, 85.0], dtype=object), array([86.0, 80.0], dtype=object), array([76.0, 89.0], dtype=object), array([92.0, 80.0], dtype=object), array([89.0, 80.0], dtype=object), array([83.0, 88.0], dtype=object), array([80.0, 92.0], dtype=object), array([96.0, 79.0], dtype=object), array([75.0, 87.0], dtype=object), array([91.0, 90.0], dtype=object), array([79.0, 91.0], dtype=object), array([92.0, 84.0], dtype=object), array([75.0, 90.0], dtype=object), array([84.0, 89.0], dtype=object), array([83.0, 90.0], dtype=object), array([80.0, 83.0], dtype=object), array([84.0, 84.0], dtype=object), array([84.0, 86.0], dtype=object), array([75.0, 91.0], dtype=object), array([91.0, 80.0], dtype=object), array([84.0, 80.0], dtype=object), array([88.0, 87.0], dtype=object), array([75.0, 90.0], dtype=object), array([79.0, 77.0], dtype=object), array([78.0, 86.0], dtype=object), array([92.0, 80.0], dtype=object), array([77.0, 90.0], dtype=object), array([90.0, 87.0], dtype=object), array([78.0, 88.0], dtype=object), array([84.0, 87.0], dtype=object), array([78.0, 92.0], dtype=object), array([79.0, 88.0], dtype=object), array([78.0, 92.0], dtype=object), array([78.0, 81.0], dtype=object), array([89.0, 84.0], dtype=object), array([93.0, 80.0], dtype=object), array([85.0, 93.0], dtype=object), array([83.0, 87.0], dtype=object), array([80.0, 90.0], dtype=object), array([76.0, 91.0], dtype=object), array([85.0, 86.0], dtype=object), array([76.0, 86.0], dtype=object), array([85.0, 80.0], dtype=object), array([86.0, 83.0], dtype=object), array([87.0, 79.0], dtype=object), array([90.0, 82.0], dtype=object), array([79.0, 85.0], dtype=object), array([78.0, 78.0], dtype=object), array([92.0, 82.0], dtype=object), array([85.0, 88.0], dtype=object), array([91.0, 82.0], dtype=object), array([89.0, 79.0], dtype=object), array([86.0, 78.0], dtype=object), array([84.0, 80.0], dtype=object), array([75.0, 89.0], dtype=object), array([84.0, 80.0], dtype=object), array([75.0, 86.0], dtype=object), array([92.0, 82.0], dtype=object), array([89.0, 83.0], dtype=object), array([75.0, 87.0], dtype=object), array([90.0, 83.0], dtype=object), array([79.0, 82.0], dtype=object), array([78.0, 90.0], dtype=object), array([83.0, 85.0], dtype=object), array([85.0, 88.0], dtype=object), array([79.0, 85.0], dtype=object), array([83.0, 84.0], dtype=object), array([90.0, 79.0], dtype=object), array([88.0, 86.0], dtype=object), array([86.0, 80.0], dtype=object), array([78.0, 82.0], dtype=object), array([85.0, 78.0], dtype=object), array([82.0, 84.0], dtype=object), array([95.0, 82.0], dtype=object), array([80.0, 77.0], dtype=object), array([86.0, 83.0], dtype=object), array([86.0, 81.0], dtype=object), array([82.0, 79.0], dtype=object), array([83.0, 83.0], dtype=object), array([76.0, 88.0], dtype=object), array([79.0, 85.0], dtype=object)]\n",
      "i :  2  points :  [array([43.0, 18.0], dtype=object), array([84.0, 63.0], dtype=object), array([66.0, 53.0], dtype=object), array([41.0, 12.0], dtype=object), array([65.0, 58.0], dtype=object), array([43.0, 30.0], dtype=object), array([38.0, 13.0], dtype=object), array([35.0, 17.0], dtype=object), array([66.0, 68.0], dtype=object), array([39.0, 26.0], dtype=object), array([41.0, 12.0], dtype=object), array([74.0, 62.0], dtype=object), array([41.0, 10.0], dtype=object), array([87.0, 69.0], dtype=object), array([65.0, 59.0], dtype=object), array([75.0, 71.0], dtype=object), array([39.0, 16.0], dtype=object), array([71.0, 66.0], dtype=object), array([78.0, 69.0], dtype=object), array([69.0, 64.0], dtype=object), array([74.0, 62.0], dtype=object), array([71.0, 69.0], dtype=object), array([87.0, 69.0], dtype=object), array([87.0, 75.0], dtype=object), array([41.0, 23.0], dtype=object), array([73.0, 57.0], dtype=object), array([71.0, 70.0], dtype=object), array([76.0, 76.0], dtype=object), array([83.0, 76.0], dtype=object), array([61.0, 60.0], dtype=object), array([60.0, 58.0], dtype=object), array([94.0, 78.0], dtype=object), array([65.0, 67.0], dtype=object), array([89.0, 77.0], dtype=object), array([66.0, 63.0], dtype=object), array([69.0, 64.0], dtype=object), array([77.0, 59.0], dtype=object), array([45.0, 11.0], dtype=object), array([32.0, 27.0], dtype=object), array([76.0, 54.0], dtype=object), array([67.0, 51.0], dtype=object), array([83.0, 76.0], dtype=object), array([41.0, 15.0], dtype=object), array([69.0, 58.0], dtype=object), array([37.0, 12.0], dtype=object), array([34.0, 12.0], dtype=object), array([55.0, 59.0], dtype=object), array([53.0, 64.0], dtype=object), array([34.0, 10.0], dtype=object), array([43.0, 16.0], dtype=object), array([67.0, 47.0], dtype=object), array([65.0, 42.0], dtype=object), array([92.0, 76.0], dtype=object), array([75.0, 59.0], dtype=object), array([67.0, 59.0], dtype=object), array([66.0, 63.0], dtype=object), array([76.0, 63.0], dtype=object), array([30.0, 19.0], dtype=object), array([36.0, 15.0], dtype=object), array([84.0, 76.0], dtype=object), array([82.0, 68.0], dtype=object), array([79.0, 75.0], dtype=object), array([32.0, 11.0], dtype=object), array([89.0, 75.0], dtype=object), array([39.0, 19.0], dtype=object), array([39.0, 19.0], dtype=object), array([85.0, 68.0], dtype=object), array([31.0, 15.0], dtype=object), array([66.0, 66.0], dtype=object), array([34.0, 10.0], dtype=object), array([74.0, 64.0], dtype=object), array([31.0, 11.0], dtype=object), array([32.0, 15.0], dtype=object), array([86.0, 72.0], dtype=object), array([74.0, 60.0], dtype=object), array([45.0, 15.0], dtype=object), array([45.0, 20.0], dtype=object), array([32.0, 12.0], dtype=object), array([81.0, 65.0], dtype=object), array([67.0, 51.0], dtype=object), array([31.0, 20.0], dtype=object), array([63.0, 55.0], dtype=object), array([87.0, 77.0], dtype=object)]\n",
      "3단계 끝 : 각 군집의 중심(C)을 새롭게 계산하기+++++++++++++++++++++++++++++++++++++++++++++++\n",
      "clusters :  [1. 1. 1. 2. 1. 1. 1. 1. 0. 2. 1. 2. 0. 1. 1. 2. 1. 2. 1. 1. 2. 2. 1. 1.\n",
      " 1. 0. 2. 2. 0. 0. 2. 1. 1. 1. 0. 1. 1. 1. 0. 0. 1. 1. 1. 2. 1. 1. 0. 1.\n",
      " 1. 1. 2. 1. 0. 0. 0. 1. 0. 0. 0. 0. 1. 0. 0. 0. 0. 1. 2. 1. 1. 2. 1. 1.\n",
      " 0. 1. 1. 1. 1. 0. 0. 0. 1. 0. 2. 1. 2. 1. 0. 0. 1. 2. 1. 0. 0. 1. 1. 1.\n",
      " 0. 1. 1. 2. 2. 1. 1. 1. 1. 1. 2. 2. 0. 1. 0. 0. 2. 1. 0. 0. 1. 1. 0. 1.\n",
      " 1. 0. 2. 2. 0. 2. 2. 1. 2. 0. 0. 2. 0. 2. 1. 1. 2. 1. 1. 2. 1. 1. 1. 0.\n",
      " 2. 1. 2. 1. 1. 0. 2. 2. 1. 1. 0. 0. 1. 0. 0. 0. 2. 1. 1. 1. 2. 2. 1. 0.\n",
      " 1. 1. 0. 2. 0. 1. 2. 0. 2. 0. 0. 0. 0. 2. 0. 0. 2. 2. 2. 0. 0. 2. 2. 1.\n",
      " 1. 1. 1. 0. 2. 1. 1. 1.]\n",
      " 2단계 끝 : 각 표본에 가까운 중심에 할당하기==================================\n",
      "i :  0  points :  [array([84.0, 63.0], dtype=object), array([75.0, 81.0], dtype=object), array([66.0, 68.0], dtype=object), array([74.0, 62.0], dtype=object), array([70.0, 84.0], dtype=object), array([76.0, 79.0], dtype=object), array([70.0, 85.0], dtype=object), array([87.0, 69.0], dtype=object), array([75.0, 71.0], dtype=object), array([71.0, 66.0], dtype=object), array([72.0, 77.0], dtype=object), array([78.0, 69.0], dtype=object), array([55.0, 90.0], dtype=object), array([79.0, 77.0], dtype=object), array([69.0, 84.0], dtype=object), array([69.0, 64.0], dtype=object), array([74.0, 62.0], dtype=object), array([71.0, 69.0], dtype=object), array([87.0, 69.0], dtype=object), array([73.0, 87.0], dtype=object), array([71.0, 70.0], dtype=object), array([76.0, 76.0], dtype=object), array([76.0, 77.0], dtype=object), array([78.0, 81.0], dtype=object), array([83.0, 76.0], dtype=object), array([65.0, 67.0], dtype=object), array([75.0, 83.0], dtype=object), array([61.0, 79.0], dtype=object), array([69.0, 64.0], dtype=object), array([77.0, 59.0], dtype=object), array([78.0, 78.0], dtype=object), array([83.0, 76.0], dtype=object), array([74.0, 84.0], dtype=object), array([73.0, 86.0], dtype=object), array([73.0, 86.0], dtype=object), array([77.0, 78.0], dtype=object), array([66.0, 84.0], dtype=object), array([68.0, 75.0], dtype=object), array([65.0, 89.0], dtype=object), array([64.0, 89.0], dtype=object), array([69.0, 85.0], dtype=object), array([75.0, 59.0], dtype=object), array([76.0, 63.0], dtype=object), array([84.0, 76.0], dtype=object), array([66.0, 81.0], dtype=object), array([76.0, 78.0], dtype=object), array([82.0, 68.0], dtype=object), array([79.0, 75.0], dtype=object), array([78.0, 82.0], dtype=object), array([85.0, 68.0], dtype=object), array([66.0, 66.0], dtype=object), array([74.0, 64.0], dtype=object), array([58.0, 84.0], dtype=object), array([70.0, 89.0], dtype=object), array([56.0, 79.0], dtype=object), array([80.0, 77.0], dtype=object), array([86.0, 72.0], dtype=object), array([74.0, 60.0], dtype=object), array([71.0, 82.0], dtype=object), array([81.0, 65.0], dtype=object), array([76.0, 82.0], dtype=object)]\n",
      "i :  1  points :  [array([72.0, 97.0], dtype=object), array([88.0, 88.0], dtype=object), array([81.0, 96.0], dtype=object), array([90.0, 86.0], dtype=object), array([83.0, 95.0], dtype=object), array([89.0, 90.0], dtype=object), array([90.0, 87.0], dtype=object), array([78.0, 89.0], dtype=object), array([78.0, 85.0], dtype=object), array([86.0, 80.0], dtype=object), array([76.0, 89.0], dtype=object), array([92.0, 80.0], dtype=object), array([89.0, 80.0], dtype=object), array([83.0, 88.0], dtype=object), array([80.0, 92.0], dtype=object), array([96.0, 79.0], dtype=object), array([75.0, 87.0], dtype=object), array([91.0, 90.0], dtype=object), array([79.0, 91.0], dtype=object), array([92.0, 84.0], dtype=object), array([70.0, 94.0], dtype=object), array([75.0, 90.0], dtype=object), array([84.0, 89.0], dtype=object), array([83.0, 90.0], dtype=object), array([80.0, 83.0], dtype=object), array([84.0, 84.0], dtype=object), array([84.0, 86.0], dtype=object), array([75.0, 91.0], dtype=object), array([91.0, 80.0], dtype=object), array([84.0, 80.0], dtype=object), array([88.0, 87.0], dtype=object), array([75.0, 90.0], dtype=object), array([78.0, 86.0], dtype=object), array([87.0, 75.0], dtype=object), array([92.0, 80.0], dtype=object), array([77.0, 90.0], dtype=object), array([90.0, 87.0], dtype=object), array([78.0, 88.0], dtype=object), array([84.0, 87.0], dtype=object), array([78.0, 92.0], dtype=object), array([79.0, 88.0], dtype=object), array([78.0, 92.0], dtype=object), array([89.0, 84.0], dtype=object), array([93.0, 80.0], dtype=object), array([94.0, 78.0], dtype=object), array([89.0, 77.0], dtype=object), array([85.0, 93.0], dtype=object), array([83.0, 87.0], dtype=object), array([80.0, 90.0], dtype=object), array([76.0, 91.0], dtype=object), array([85.0, 86.0], dtype=object), array([76.0, 86.0], dtype=object), array([85.0, 80.0], dtype=object), array([86.0, 83.0], dtype=object), array([87.0, 79.0], dtype=object), array([90.0, 82.0], dtype=object), array([79.0, 85.0], dtype=object), array([92.0, 82.0], dtype=object), array([85.0, 88.0], dtype=object), array([91.0, 82.0], dtype=object), array([89.0, 79.0], dtype=object), array([86.0, 78.0], dtype=object), array([84.0, 80.0], dtype=object), array([75.0, 89.0], dtype=object), array([84.0, 80.0], dtype=object), array([75.0, 86.0], dtype=object), array([92.0, 82.0], dtype=object), array([89.0, 83.0], dtype=object), array([75.0, 87.0], dtype=object), array([90.0, 83.0], dtype=object), array([92.0, 76.0], dtype=object), array([79.0, 82.0], dtype=object), array([78.0, 90.0], dtype=object), array([83.0, 85.0], dtype=object), array([85.0, 88.0], dtype=object), array([79.0, 85.0], dtype=object), array([83.0, 84.0], dtype=object), array([90.0, 79.0], dtype=object), array([88.0, 86.0], dtype=object), array([89.0, 75.0], dtype=object), array([86.0, 80.0], dtype=object), array([85.0, 78.0], dtype=object), array([82.0, 84.0], dtype=object), array([95.0, 82.0], dtype=object), array([86.0, 83.0], dtype=object), array([86.0, 81.0], dtype=object), array([82.0, 79.0], dtype=object), array([83.0, 83.0], dtype=object), array([76.0, 88.0], dtype=object), array([79.0, 85.0], dtype=object), array([87.0, 77.0], dtype=object)]\n",
      "i :  2  points :  [array([43.0, 18.0], dtype=object), array([66.0, 53.0], dtype=object), array([41.0, 12.0], dtype=object), array([65.0, 58.0], dtype=object), array([43.0, 30.0], dtype=object), array([38.0, 13.0], dtype=object), array([35.0, 17.0], dtype=object), array([39.0, 26.0], dtype=object), array([41.0, 12.0], dtype=object), array([41.0, 10.0], dtype=object), array([65.0, 59.0], dtype=object), array([39.0, 16.0], dtype=object), array([41.0, 23.0], dtype=object), array([73.0, 57.0], dtype=object), array([61.0, 60.0], dtype=object), array([60.0, 58.0], dtype=object), array([66.0, 63.0], dtype=object), array([45.0, 11.0], dtype=object), array([32.0, 27.0], dtype=object), array([76.0, 54.0], dtype=object), array([67.0, 51.0], dtype=object), array([41.0, 15.0], dtype=object), array([69.0, 58.0], dtype=object), array([37.0, 12.0], dtype=object), array([34.0, 12.0], dtype=object), array([55.0, 59.0], dtype=object), array([53.0, 64.0], dtype=object), array([34.0, 10.0], dtype=object), array([43.0, 16.0], dtype=object), array([67.0, 47.0], dtype=object), array([65.0, 42.0], dtype=object), array([67.0, 59.0], dtype=object), array([66.0, 63.0], dtype=object), array([30.0, 19.0], dtype=object), array([36.0, 15.0], dtype=object), array([32.0, 11.0], dtype=object), array([39.0, 19.0], dtype=object), array([39.0, 19.0], dtype=object), array([31.0, 15.0], dtype=object), array([34.0, 10.0], dtype=object), array([31.0, 11.0], dtype=object), array([32.0, 15.0], dtype=object), array([45.0, 15.0], dtype=object), array([45.0, 20.0], dtype=object), array([32.0, 12.0], dtype=object), array([67.0, 51.0], dtype=object), array([31.0, 20.0], dtype=object), array([63.0, 55.0], dtype=object)]\n",
      "3단계 끝 : 각 군집의 중심(C)을 새롭게 계산하기+++++++++++++++++++++++++++++++++++++++++++++++\n",
      "clusters :  [1. 1. 1. 2. 1. 1. 1. 1. 0. 0. 1. 2. 0. 1. 1. 0. 1. 2. 1. 1. 2. 2. 1. 1.\n",
      " 1. 0. 2. 2. 0. 0. 2. 1. 1. 1. 0. 1. 1. 1. 0. 0. 1. 1. 1. 0. 1. 1. 0. 1.\n",
      " 1. 1. 2. 1. 0. 0. 0. 1. 0. 0. 0. 0. 1. 0. 0. 0. 1. 1. 2. 1. 1. 0. 1. 1.\n",
      " 0. 1. 1. 1. 1. 0. 0. 1. 1. 1. 0. 1. 0. 1. 0. 0. 1. 0. 1. 0. 0. 1. 1. 1.\n",
      " 0. 1. 1. 2. 2. 1. 1. 1. 1. 1. 0. 0. 0. 1. 1. 0. 2. 1. 1. 1. 1. 1. 0. 1.\n",
      " 1. 0. 0. 2. 0. 2. 0. 1. 0. 0. 0. 2. 0. 2. 1. 1. 0. 1. 1. 2. 1. 1. 1. 0.\n",
      " 0. 1. 0. 1. 1. 0. 2. 2. 1. 1. 1. 0. 1. 0. 0. 0. 2. 1. 1. 1. 2. 2. 1. 1.\n",
      " 1. 1. 0. 2. 0. 1. 2. 0. 2. 0. 1. 0. 0. 2. 0. 0. 2. 2. 2. 0. 0. 0. 2. 1.\n",
      " 1. 1. 1. 0. 0. 1. 1. 1.]\n",
      " 2단계 끝 : 각 표본에 가까운 중심에 할당하기==================================\n",
      "i :  0  points :  [array([84.0, 63.0], dtype=object), array([66.0, 53.0], dtype=object), array([75.0, 81.0], dtype=object), array([65.0, 58.0], dtype=object), array([66.0, 68.0], dtype=object), array([74.0, 62.0], dtype=object), array([70.0, 84.0], dtype=object), array([76.0, 79.0], dtype=object), array([70.0, 85.0], dtype=object), array([87.0, 69.0], dtype=object), array([65.0, 59.0], dtype=object), array([75.0, 71.0], dtype=object), array([71.0, 66.0], dtype=object), array([72.0, 77.0], dtype=object), array([78.0, 69.0], dtype=object), array([55.0, 90.0], dtype=object), array([79.0, 77.0], dtype=object), array([69.0, 84.0], dtype=object), array([69.0, 64.0], dtype=object), array([74.0, 62.0], dtype=object), array([71.0, 69.0], dtype=object), array([87.0, 69.0], dtype=object), array([73.0, 57.0], dtype=object), array([71.0, 70.0], dtype=object), array([76.0, 76.0], dtype=object), array([76.0, 77.0], dtype=object), array([61.0, 60.0], dtype=object), array([60.0, 58.0], dtype=object), array([65.0, 67.0], dtype=object), array([75.0, 83.0], dtype=object), array([66.0, 63.0], dtype=object), array([61.0, 79.0], dtype=object), array([69.0, 64.0], dtype=object), array([77.0, 59.0], dtype=object), array([76.0, 54.0], dtype=object), array([67.0, 51.0], dtype=object), array([78.0, 78.0], dtype=object), array([74.0, 84.0], dtype=object), array([77.0, 78.0], dtype=object), array([66.0, 84.0], dtype=object), array([69.0, 58.0], dtype=object), array([68.0, 75.0], dtype=object), array([55.0, 59.0], dtype=object), array([53.0, 64.0], dtype=object), array([65.0, 89.0], dtype=object), array([64.0, 89.0], dtype=object), array([69.0, 85.0], dtype=object), array([67.0, 47.0], dtype=object), array([75.0, 59.0], dtype=object), array([67.0, 59.0], dtype=object), array([66.0, 63.0], dtype=object), array([76.0, 63.0], dtype=object), array([66.0, 81.0], dtype=object), array([76.0, 78.0], dtype=object), array([82.0, 68.0], dtype=object), array([79.0, 75.0], dtype=object), array([85.0, 68.0], dtype=object), array([66.0, 66.0], dtype=object), array([74.0, 64.0], dtype=object), array([58.0, 84.0], dtype=object), array([56.0, 79.0], dtype=object), array([80.0, 77.0], dtype=object), array([86.0, 72.0], dtype=object), array([74.0, 60.0], dtype=object), array([71.0, 82.0], dtype=object), array([81.0, 65.0], dtype=object), array([67.0, 51.0], dtype=object), array([76.0, 82.0], dtype=object), array([63.0, 55.0], dtype=object)]\n",
      "i :  1  points :  [array([72.0, 97.0], dtype=object), array([88.0, 88.0], dtype=object), array([81.0, 96.0], dtype=object), array([90.0, 86.0], dtype=object), array([83.0, 95.0], dtype=object), array([89.0, 90.0], dtype=object), array([90.0, 87.0], dtype=object), array([78.0, 89.0], dtype=object), array([78.0, 85.0], dtype=object), array([86.0, 80.0], dtype=object), array([76.0, 89.0], dtype=object), array([92.0, 80.0], dtype=object), array([89.0, 80.0], dtype=object), array([83.0, 88.0], dtype=object), array([80.0, 92.0], dtype=object), array([96.0, 79.0], dtype=object), array([75.0, 87.0], dtype=object), array([91.0, 90.0], dtype=object), array([79.0, 91.0], dtype=object), array([92.0, 84.0], dtype=object), array([70.0, 94.0], dtype=object), array([75.0, 90.0], dtype=object), array([84.0, 89.0], dtype=object), array([83.0, 90.0], dtype=object), array([80.0, 83.0], dtype=object), array([84.0, 84.0], dtype=object), array([84.0, 86.0], dtype=object), array([75.0, 91.0], dtype=object), array([91.0, 80.0], dtype=object), array([84.0, 80.0], dtype=object), array([88.0, 87.0], dtype=object), array([75.0, 90.0], dtype=object), array([78.0, 86.0], dtype=object), array([73.0, 87.0], dtype=object), array([87.0, 75.0], dtype=object), array([92.0, 80.0], dtype=object), array([77.0, 90.0], dtype=object), array([90.0, 87.0], dtype=object), array([78.0, 88.0], dtype=object), array([84.0, 87.0], dtype=object), array([78.0, 92.0], dtype=object), array([79.0, 88.0], dtype=object), array([78.0, 92.0], dtype=object), array([78.0, 81.0], dtype=object), array([89.0, 84.0], dtype=object), array([83.0, 76.0], dtype=object), array([93.0, 80.0], dtype=object), array([94.0, 78.0], dtype=object), array([89.0, 77.0], dtype=object), array([85.0, 93.0], dtype=object), array([83.0, 87.0], dtype=object), array([80.0, 90.0], dtype=object), array([76.0, 91.0], dtype=object), array([85.0, 86.0], dtype=object), array([76.0, 86.0], dtype=object), array([85.0, 80.0], dtype=object), array([86.0, 83.0], dtype=object), array([87.0, 79.0], dtype=object), array([90.0, 82.0], dtype=object), array([79.0, 85.0], dtype=object), array([92.0, 82.0], dtype=object), array([83.0, 76.0], dtype=object), array([85.0, 88.0], dtype=object), array([73.0, 86.0], dtype=object), array([73.0, 86.0], dtype=object), array([91.0, 82.0], dtype=object), array([89.0, 79.0], dtype=object), array([86.0, 78.0], dtype=object), array([84.0, 80.0], dtype=object), array([75.0, 89.0], dtype=object), array([84.0, 80.0], dtype=object), array([75.0, 86.0], dtype=object), array([92.0, 82.0], dtype=object), array([89.0, 83.0], dtype=object), array([75.0, 87.0], dtype=object), array([90.0, 83.0], dtype=object), array([92.0, 76.0], dtype=object), array([79.0, 82.0], dtype=object), array([78.0, 90.0], dtype=object), array([83.0, 85.0], dtype=object), array([85.0, 88.0], dtype=object), array([79.0, 85.0], dtype=object), array([84.0, 76.0], dtype=object), array([83.0, 84.0], dtype=object), array([90.0, 79.0], dtype=object), array([88.0, 86.0], dtype=object), array([89.0, 75.0], dtype=object), array([86.0, 80.0], dtype=object), array([78.0, 82.0], dtype=object), array([85.0, 78.0], dtype=object), array([82.0, 84.0], dtype=object), array([95.0, 82.0], dtype=object), array([70.0, 89.0], dtype=object), array([86.0, 83.0], dtype=object), array([86.0, 81.0], dtype=object), array([82.0, 79.0], dtype=object), array([83.0, 83.0], dtype=object), array([76.0, 88.0], dtype=object), array([79.0, 85.0], dtype=object), array([87.0, 77.0], dtype=object)]\n",
      "i :  2  points :  [array([43.0, 18.0], dtype=object), array([41.0, 12.0], dtype=object), array([43.0, 30.0], dtype=object), array([38.0, 13.0], dtype=object), array([35.0, 17.0], dtype=object), array([39.0, 26.0], dtype=object), array([41.0, 12.0], dtype=object), array([41.0, 10.0], dtype=object), array([39.0, 16.0], dtype=object), array([41.0, 23.0], dtype=object), array([45.0, 11.0], dtype=object), array([32.0, 27.0], dtype=object), array([41.0, 15.0], dtype=object), array([37.0, 12.0], dtype=object), array([34.0, 12.0], dtype=object), array([34.0, 10.0], dtype=object), array([43.0, 16.0], dtype=object), array([65.0, 42.0], dtype=object), array([30.0, 19.0], dtype=object), array([36.0, 15.0], dtype=object), array([32.0, 11.0], dtype=object), array([39.0, 19.0], dtype=object), array([39.0, 19.0], dtype=object), array([31.0, 15.0], dtype=object), array([34.0, 10.0], dtype=object), array([31.0, 11.0], dtype=object), array([32.0, 15.0], dtype=object), array([45.0, 15.0], dtype=object), array([45.0, 20.0], dtype=object), array([32.0, 12.0], dtype=object), array([31.0, 20.0], dtype=object)]\n",
      "3단계 끝 : 각 군집의 중심(C)을 새롭게 계산하기+++++++++++++++++++++++++++++++++++++++++++++++\n",
      "clusters :  [1. 1. 1. 2. 1. 1. 1. 1. 0. 0. 1. 2. 1. 1. 1. 0. 1. 2. 1. 1. 2. 2. 1. 1.\n",
      " 1. 0. 2. 2. 0. 0. 2. 1. 1. 1. 1. 1. 1. 1. 1. 1. 1. 1. 1. 0. 1. 1. 0. 1.\n",
      " 1. 1. 2. 1. 0. 0. 0. 1. 0. 1. 0. 0. 1. 0. 0. 1. 1. 1. 2. 1. 1. 0. 1. 1.\n",
      " 0. 1. 1. 1. 1. 0. 0. 1. 1. 1. 0. 1. 0. 1. 0. 1. 1. 0. 1. 0. 0. 1. 1. 1.\n",
      " 0. 1. 1. 2. 2. 1. 1. 1. 1. 1. 0. 0. 1. 1. 1. 1. 2. 1. 1. 1. 1. 1. 1. 1.\n",
      " 1. 0. 0. 2. 0. 2. 0. 1. 0. 0. 0. 2. 0. 2. 1. 1. 0. 1. 1. 0. 1. 1. 1. 0.\n",
      " 0. 1. 0. 1. 1. 0. 2. 2. 1. 1. 1. 0. 1. 0. 0. 0. 2. 1. 1. 1. 2. 2. 1. 1.\n",
      " 1. 1. 0. 2. 0. 1. 2. 0. 2. 0. 1. 0. 1. 2. 1. 0. 2. 2. 2. 0. 0. 0. 2. 1.\n",
      " 1. 1. 1. 1. 0. 1. 1. 1.]\n",
      " 2단계 끝 : 각 표본에 가까운 중심에 할당하기==================================\n",
      "i :  0  points :  [array([84.0, 63.0], dtype=object), array([66.0, 53.0], dtype=object), array([65.0, 58.0], dtype=object), array([66.0, 68.0], dtype=object), array([74.0, 62.0], dtype=object), array([70.0, 84.0], dtype=object), array([65.0, 59.0], dtype=object), array([75.0, 71.0], dtype=object), array([71.0, 66.0], dtype=object), array([72.0, 77.0], dtype=object), array([78.0, 69.0], dtype=object), array([55.0, 90.0], dtype=object), array([69.0, 84.0], dtype=object), array([69.0, 64.0], dtype=object), array([74.0, 62.0], dtype=object), array([71.0, 69.0], dtype=object), array([73.0, 57.0], dtype=object), array([71.0, 70.0], dtype=object), array([76.0, 76.0], dtype=object), array([76.0, 77.0], dtype=object), array([61.0, 60.0], dtype=object), array([60.0, 58.0], dtype=object), array([65.0, 67.0], dtype=object), array([66.0, 63.0], dtype=object), array([61.0, 79.0], dtype=object), array([69.0, 64.0], dtype=object), array([77.0, 59.0], dtype=object), array([76.0, 54.0], dtype=object), array([67.0, 51.0], dtype=object), array([66.0, 84.0], dtype=object), array([69.0, 58.0], dtype=object), array([68.0, 75.0], dtype=object), array([55.0, 59.0], dtype=object), array([53.0, 64.0], dtype=object), array([65.0, 89.0], dtype=object), array([64.0, 89.0], dtype=object), array([69.0, 85.0], dtype=object), array([67.0, 47.0], dtype=object), array([65.0, 42.0], dtype=object), array([75.0, 59.0], dtype=object), array([67.0, 59.0], dtype=object), array([66.0, 63.0], dtype=object), array([76.0, 63.0], dtype=object), array([66.0, 81.0], dtype=object), array([76.0, 78.0], dtype=object), array([82.0, 68.0], dtype=object), array([79.0, 75.0], dtype=object), array([85.0, 68.0], dtype=object), array([66.0, 66.0], dtype=object), array([74.0, 64.0], dtype=object), array([58.0, 84.0], dtype=object), array([56.0, 79.0], dtype=object), array([74.0, 60.0], dtype=object), array([71.0, 82.0], dtype=object), array([81.0, 65.0], dtype=object), array([67.0, 51.0], dtype=object), array([63.0, 55.0], dtype=object)]\n",
      "i :  1  points :  [array([72.0, 97.0], dtype=object), array([88.0, 88.0], dtype=object), array([81.0, 96.0], dtype=object), array([90.0, 86.0], dtype=object), array([83.0, 95.0], dtype=object), array([89.0, 90.0], dtype=object), array([90.0, 87.0], dtype=object), array([78.0, 89.0], dtype=object), array([75.0, 81.0], dtype=object), array([78.0, 85.0], dtype=object), array([86.0, 80.0], dtype=object), array([76.0, 89.0], dtype=object), array([92.0, 80.0], dtype=object), array([89.0, 80.0], dtype=object), array([83.0, 88.0], dtype=object), array([80.0, 92.0], dtype=object), array([96.0, 79.0], dtype=object), array([75.0, 87.0], dtype=object), array([91.0, 90.0], dtype=object), array([79.0, 91.0], dtype=object), array([76.0, 79.0], dtype=object), array([92.0, 84.0], dtype=object), array([70.0, 94.0], dtype=object), array([75.0, 90.0], dtype=object), array([70.0, 85.0], dtype=object), array([87.0, 69.0], dtype=object), array([84.0, 89.0], dtype=object), array([83.0, 90.0], dtype=object), array([80.0, 83.0], dtype=object), array([84.0, 84.0], dtype=object), array([84.0, 86.0], dtype=object), array([75.0, 91.0], dtype=object), array([91.0, 80.0], dtype=object), array([84.0, 80.0], dtype=object), array([88.0, 87.0], dtype=object), array([75.0, 90.0], dtype=object), array([79.0, 77.0], dtype=object), array([78.0, 86.0], dtype=object), array([87.0, 69.0], dtype=object), array([73.0, 87.0], dtype=object), array([87.0, 75.0], dtype=object), array([92.0, 80.0], dtype=object), array([77.0, 90.0], dtype=object), array([90.0, 87.0], dtype=object), array([78.0, 88.0], dtype=object), array([84.0, 87.0], dtype=object), array([78.0, 92.0], dtype=object), array([79.0, 88.0], dtype=object), array([78.0, 92.0], dtype=object), array([78.0, 81.0], dtype=object), array([89.0, 84.0], dtype=object), array([83.0, 76.0], dtype=object), array([93.0, 80.0], dtype=object), array([94.0, 78.0], dtype=object), array([75.0, 83.0], dtype=object), array([89.0, 77.0], dtype=object), array([85.0, 93.0], dtype=object), array([83.0, 87.0], dtype=object), array([80.0, 90.0], dtype=object), array([76.0, 91.0], dtype=object), array([85.0, 86.0], dtype=object), array([76.0, 86.0], dtype=object), array([85.0, 80.0], dtype=object), array([86.0, 83.0], dtype=object), array([87.0, 79.0], dtype=object), array([90.0, 82.0], dtype=object), array([79.0, 85.0], dtype=object), array([78.0, 78.0], dtype=object), array([92.0, 82.0], dtype=object), array([83.0, 76.0], dtype=object), array([74.0, 84.0], dtype=object), array([85.0, 88.0], dtype=object), array([73.0, 86.0], dtype=object), array([73.0, 86.0], dtype=object), array([91.0, 82.0], dtype=object), array([89.0, 79.0], dtype=object), array([77.0, 78.0], dtype=object), array([86.0, 78.0], dtype=object), array([84.0, 80.0], dtype=object), array([75.0, 89.0], dtype=object), array([84.0, 80.0], dtype=object), array([75.0, 86.0], dtype=object), array([92.0, 82.0], dtype=object), array([89.0, 83.0], dtype=object), array([75.0, 87.0], dtype=object), array([90.0, 83.0], dtype=object), array([92.0, 76.0], dtype=object), array([79.0, 82.0], dtype=object), array([78.0, 90.0], dtype=object), array([83.0, 85.0], dtype=object), array([85.0, 88.0], dtype=object), array([79.0, 85.0], dtype=object), array([84.0, 76.0], dtype=object), array([83.0, 84.0], dtype=object), array([90.0, 79.0], dtype=object), array([88.0, 86.0], dtype=object), array([89.0, 75.0], dtype=object), array([86.0, 80.0], dtype=object), array([78.0, 82.0], dtype=object), array([85.0, 78.0], dtype=object), array([82.0, 84.0], dtype=object), array([95.0, 82.0], dtype=object), array([70.0, 89.0], dtype=object), array([80.0, 77.0], dtype=object), array([86.0, 72.0], dtype=object), array([86.0, 83.0], dtype=object), array([86.0, 81.0], dtype=object), array([82.0, 79.0], dtype=object), array([83.0, 83.0], dtype=object), array([76.0, 82.0], dtype=object), array([76.0, 88.0], dtype=object), array([79.0, 85.0], dtype=object), array([87.0, 77.0], dtype=object)]\n",
      "i :  2  points :  [array([43.0, 18.0], dtype=object), array([41.0, 12.0], dtype=object), array([43.0, 30.0], dtype=object), array([38.0, 13.0], dtype=object), array([35.0, 17.0], dtype=object), array([39.0, 26.0], dtype=object), array([41.0, 12.0], dtype=object), array([41.0, 10.0], dtype=object), array([39.0, 16.0], dtype=object), array([41.0, 23.0], dtype=object), array([45.0, 11.0], dtype=object), array([32.0, 27.0], dtype=object), array([41.0, 15.0], dtype=object), array([37.0, 12.0], dtype=object), array([34.0, 12.0], dtype=object), array([34.0, 10.0], dtype=object), array([43.0, 16.0], dtype=object), array([30.0, 19.0], dtype=object), array([36.0, 15.0], dtype=object), array([32.0, 11.0], dtype=object), array([39.0, 19.0], dtype=object), array([39.0, 19.0], dtype=object), array([31.0, 15.0], dtype=object), array([34.0, 10.0], dtype=object), array([31.0, 11.0], dtype=object), array([32.0, 15.0], dtype=object), array([45.0, 15.0], dtype=object), array([45.0, 20.0], dtype=object), array([32.0, 12.0], dtype=object), array([31.0, 20.0], dtype=object)]\n",
      "3단계 끝 : 각 군집의 중심(C)을 새롭게 계산하기+++++++++++++++++++++++++++++++++++++++++++++++\n",
      "clusters :  [1. 1. 1. 2. 1. 1. 1. 1. 0. 0. 1. 2. 1. 1. 1. 0. 1. 2. 1. 1. 2. 2. 1. 1.\n",
      " 1. 0. 2. 2. 0. 1. 2. 1. 1. 1. 1. 1. 1. 1. 1. 1. 1. 1. 1. 0. 1. 1. 0. 1.\n",
      " 1. 1. 2. 1. 0. 0. 0. 1. 0. 1. 1. 0. 1. 0. 0. 1. 1. 1. 2. 1. 1. 0. 1. 1.\n",
      " 0. 1. 1. 1. 1. 1. 1. 1. 1. 1. 0. 1. 0. 1. 0. 1. 1. 0. 1. 0. 0. 1. 1. 1.\n",
      " 0. 1. 1. 2. 2. 1. 1. 1. 1. 1. 0. 0. 1. 1. 1. 1. 2. 1. 1. 1. 1. 1. 1. 1.\n",
      " 1. 0. 0. 2. 0. 2. 0. 1. 0. 1. 1. 2. 1. 2. 1. 1. 0. 1. 1. 0. 1. 1. 1. 0.\n",
      " 0. 1. 0. 1. 1. 0. 2. 2. 1. 1. 1. 0. 1. 1. 0. 1. 2. 1. 1. 1. 2. 2. 1. 1.\n",
      " 1. 1. 1. 2. 0. 1. 2. 0. 2. 0. 1. 0. 1. 2. 1. 0. 2. 2. 2. 1. 0. 0. 2. 1.\n",
      " 1. 1. 1. 1. 0. 1. 1. 1.]\n",
      " 2단계 끝 : 각 표본에 가까운 중심에 할당하기==================================\n",
      "i :  0  points :  [array([84.0, 63.0], dtype=object), array([66.0, 53.0], dtype=object), array([65.0, 58.0], dtype=object), array([66.0, 68.0], dtype=object), array([74.0, 62.0], dtype=object), array([65.0, 59.0], dtype=object), array([75.0, 71.0], dtype=object), array([71.0, 66.0], dtype=object), array([72.0, 77.0], dtype=object), array([78.0, 69.0], dtype=object), array([55.0, 90.0], dtype=object), array([69.0, 64.0], dtype=object), array([74.0, 62.0], dtype=object), array([71.0, 69.0], dtype=object), array([73.0, 57.0], dtype=object), array([71.0, 70.0], dtype=object), array([61.0, 60.0], dtype=object), array([60.0, 58.0], dtype=object), array([65.0, 67.0], dtype=object), array([66.0, 63.0], dtype=object), array([61.0, 79.0], dtype=object), array([69.0, 64.0], dtype=object), array([77.0, 59.0], dtype=object), array([76.0, 54.0], dtype=object), array([67.0, 51.0], dtype=object), array([66.0, 84.0], dtype=object), array([69.0, 58.0], dtype=object), array([68.0, 75.0], dtype=object), array([55.0, 59.0], dtype=object), array([53.0, 64.0], dtype=object), array([67.0, 47.0], dtype=object), array([65.0, 42.0], dtype=object), array([75.0, 59.0], dtype=object), array([67.0, 59.0], dtype=object), array([66.0, 63.0], dtype=object), array([76.0, 63.0], dtype=object), array([66.0, 81.0], dtype=object), array([82.0, 68.0], dtype=object), array([66.0, 66.0], dtype=object), array([74.0, 64.0], dtype=object), array([58.0, 84.0], dtype=object), array([56.0, 79.0], dtype=object), array([74.0, 60.0], dtype=object), array([81.0, 65.0], dtype=object), array([67.0, 51.0], dtype=object), array([63.0, 55.0], dtype=object)]\n",
      "i :  1  points :  [array([72.0, 97.0], dtype=object), array([88.0, 88.0], dtype=object), array([81.0, 96.0], dtype=object), array([90.0, 86.0], dtype=object), array([83.0, 95.0], dtype=object), array([89.0, 90.0], dtype=object), array([90.0, 87.0], dtype=object), array([78.0, 89.0], dtype=object), array([75.0, 81.0], dtype=object), array([78.0, 85.0], dtype=object), array([86.0, 80.0], dtype=object), array([76.0, 89.0], dtype=object), array([92.0, 80.0], dtype=object), array([89.0, 80.0], dtype=object), array([83.0, 88.0], dtype=object), array([80.0, 92.0], dtype=object), array([96.0, 79.0], dtype=object), array([70.0, 84.0], dtype=object), array([75.0, 87.0], dtype=object), array([91.0, 90.0], dtype=object), array([79.0, 91.0], dtype=object), array([76.0, 79.0], dtype=object), array([92.0, 84.0], dtype=object), array([70.0, 94.0], dtype=object), array([75.0, 90.0], dtype=object), array([70.0, 85.0], dtype=object), array([87.0, 69.0], dtype=object), array([84.0, 89.0], dtype=object), array([83.0, 90.0], dtype=object), array([80.0, 83.0], dtype=object), array([84.0, 84.0], dtype=object), array([84.0, 86.0], dtype=object), array([75.0, 91.0], dtype=object), array([91.0, 80.0], dtype=object), array([84.0, 80.0], dtype=object), array([88.0, 87.0], dtype=object), array([75.0, 90.0], dtype=object), array([79.0, 77.0], dtype=object), array([69.0, 84.0], dtype=object), array([78.0, 86.0], dtype=object), array([87.0, 69.0], dtype=object), array([73.0, 87.0], dtype=object), array([87.0, 75.0], dtype=object), array([92.0, 80.0], dtype=object), array([77.0, 90.0], dtype=object), array([90.0, 87.0], dtype=object), array([78.0, 88.0], dtype=object), array([84.0, 87.0], dtype=object), array([78.0, 92.0], dtype=object), array([79.0, 88.0], dtype=object), array([78.0, 92.0], dtype=object), array([76.0, 76.0], dtype=object), array([76.0, 77.0], dtype=object), array([78.0, 81.0], dtype=object), array([89.0, 84.0], dtype=object), array([83.0, 76.0], dtype=object), array([93.0, 80.0], dtype=object), array([94.0, 78.0], dtype=object), array([75.0, 83.0], dtype=object), array([89.0, 77.0], dtype=object), array([85.0, 93.0], dtype=object), array([83.0, 87.0], dtype=object), array([80.0, 90.0], dtype=object), array([76.0, 91.0], dtype=object), array([85.0, 86.0], dtype=object), array([76.0, 86.0], dtype=object), array([85.0, 80.0], dtype=object), array([86.0, 83.0], dtype=object), array([87.0, 79.0], dtype=object), array([90.0, 82.0], dtype=object), array([79.0, 85.0], dtype=object), array([78.0, 78.0], dtype=object), array([92.0, 82.0], dtype=object), array([83.0, 76.0], dtype=object), array([74.0, 84.0], dtype=object), array([85.0, 88.0], dtype=object), array([73.0, 86.0], dtype=object), array([73.0, 86.0], dtype=object), array([91.0, 82.0], dtype=object), array([89.0, 79.0], dtype=object), array([77.0, 78.0], dtype=object), array([86.0, 78.0], dtype=object), array([84.0, 80.0], dtype=object), array([75.0, 89.0], dtype=object), array([65.0, 89.0], dtype=object), array([64.0, 89.0], dtype=object), array([69.0, 85.0], dtype=object), array([84.0, 80.0], dtype=object), array([75.0, 86.0], dtype=object), array([92.0, 82.0], dtype=object), array([89.0, 83.0], dtype=object), array([75.0, 87.0], dtype=object), array([90.0, 83.0], dtype=object), array([92.0, 76.0], dtype=object), array([79.0, 82.0], dtype=object), array([78.0, 90.0], dtype=object), array([83.0, 85.0], dtype=object), array([85.0, 88.0], dtype=object), array([79.0, 85.0], dtype=object), array([84.0, 76.0], dtype=object), array([83.0, 84.0], dtype=object), array([76.0, 78.0], dtype=object), array([79.0, 75.0], dtype=object), array([90.0, 79.0], dtype=object), array([88.0, 86.0], dtype=object), array([89.0, 75.0], dtype=object), array([86.0, 80.0], dtype=object), array([78.0, 82.0], dtype=object), array([85.0, 78.0], dtype=object), array([82.0, 84.0], dtype=object), array([85.0, 68.0], dtype=object), array([95.0, 82.0], dtype=object), array([70.0, 89.0], dtype=object), array([80.0, 77.0], dtype=object), array([86.0, 72.0], dtype=object), array([71.0, 82.0], dtype=object), array([86.0, 83.0], dtype=object), array([86.0, 81.0], dtype=object), array([82.0, 79.0], dtype=object), array([83.0, 83.0], dtype=object), array([76.0, 82.0], dtype=object), array([76.0, 88.0], dtype=object), array([79.0, 85.0], dtype=object), array([87.0, 77.0], dtype=object)]\n",
      "i :  2  points :  [array([43.0, 18.0], dtype=object), array([41.0, 12.0], dtype=object), array([43.0, 30.0], dtype=object), array([38.0, 13.0], dtype=object), array([35.0, 17.0], dtype=object), array([39.0, 26.0], dtype=object), array([41.0, 12.0], dtype=object), array([41.0, 10.0], dtype=object), array([39.0, 16.0], dtype=object), array([41.0, 23.0], dtype=object), array([45.0, 11.0], dtype=object), array([32.0, 27.0], dtype=object), array([41.0, 15.0], dtype=object), array([37.0, 12.0], dtype=object), array([34.0, 12.0], dtype=object), array([34.0, 10.0], dtype=object), array([43.0, 16.0], dtype=object), array([30.0, 19.0], dtype=object), array([36.0, 15.0], dtype=object), array([32.0, 11.0], dtype=object), array([39.0, 19.0], dtype=object), array([39.0, 19.0], dtype=object), array([31.0, 15.0], dtype=object), array([34.0, 10.0], dtype=object), array([31.0, 11.0], dtype=object), array([32.0, 15.0], dtype=object), array([45.0, 15.0], dtype=object), array([45.0, 20.0], dtype=object), array([32.0, 12.0], dtype=object), array([31.0, 20.0], dtype=object)]\n",
      "3단계 끝 : 각 군집의 중심(C)을 새롭게 계산하기+++++++++++++++++++++++++++++++++++++++++++++++\n",
      "clusters :  [1. 1. 1. 2. 1. 1. 1. 1. 0. 0. 1. 2. 1. 1. 1. 0. 1. 2. 1. 1. 2. 2. 1. 1.\n",
      " 1. 0. 2. 2. 0. 1. 2. 1. 1. 1. 1. 1. 1. 1. 1. 1. 1. 1. 1. 0. 1. 1. 0. 1.\n",
      " 1. 1. 2. 1. 0. 0. 0. 1. 0. 1. 1. 0. 1. 0. 0. 1. 1. 1. 2. 1. 1. 0. 1. 1.\n",
      " 0. 1. 1. 1. 1. 1. 1. 1. 1. 1. 0. 1. 0. 1. 0. 1. 1. 0. 1. 0. 0. 1. 1. 1.\n",
      " 0. 1. 1. 2. 2. 1. 1. 1. 1. 1. 0. 0. 1. 1. 1. 1. 2. 1. 1. 1. 1. 1. 1. 1.\n",
      " 1. 1. 0. 2. 0. 2. 0. 1. 0. 1. 1. 2. 1. 2. 1. 1. 0. 1. 1. 0. 1. 1. 1. 0.\n",
      " 0. 1. 0. 1. 1. 0. 2. 2. 1. 1. 1. 0. 1. 1. 1. 1. 2. 1. 1. 1. 2. 2. 1. 1.\n",
      " 1. 1. 1. 2. 0. 1. 2. 0. 2. 0. 1. 0. 1. 2. 1. 0. 2. 2. 2. 1. 0. 0. 2. 1.\n",
      " 1. 1. 1. 1. 0. 1. 1. 1.]\n",
      " 2단계 끝 : 각 표본에 가까운 중심에 할당하기==================================\n",
      "i :  0  points :  [array([84.0, 63.0], dtype=object), array([66.0, 53.0], dtype=object), array([65.0, 58.0], dtype=object), array([66.0, 68.0], dtype=object), array([74.0, 62.0], dtype=object), array([65.0, 59.0], dtype=object), array([75.0, 71.0], dtype=object), array([71.0, 66.0], dtype=object), array([72.0, 77.0], dtype=object), array([78.0, 69.0], dtype=object), array([55.0, 90.0], dtype=object), array([69.0, 64.0], dtype=object), array([74.0, 62.0], dtype=object), array([71.0, 69.0], dtype=object), array([73.0, 57.0], dtype=object), array([71.0, 70.0], dtype=object), array([61.0, 60.0], dtype=object), array([60.0, 58.0], dtype=object), array([65.0, 67.0], dtype=object), array([66.0, 63.0], dtype=object), array([61.0, 79.0], dtype=object), array([69.0, 64.0], dtype=object), array([77.0, 59.0], dtype=object), array([76.0, 54.0], dtype=object), array([67.0, 51.0], dtype=object), array([69.0, 58.0], dtype=object), array([68.0, 75.0], dtype=object), array([55.0, 59.0], dtype=object), array([53.0, 64.0], dtype=object), array([67.0, 47.0], dtype=object), array([65.0, 42.0], dtype=object), array([75.0, 59.0], dtype=object), array([67.0, 59.0], dtype=object), array([66.0, 63.0], dtype=object), array([76.0, 63.0], dtype=object), array([66.0, 81.0], dtype=object), array([66.0, 66.0], dtype=object), array([74.0, 64.0], dtype=object), array([58.0, 84.0], dtype=object), array([56.0, 79.0], dtype=object), array([74.0, 60.0], dtype=object), array([81.0, 65.0], dtype=object), array([67.0, 51.0], dtype=object), array([63.0, 55.0], dtype=object)]\n",
      "i :  1  points :  [array([72.0, 97.0], dtype=object), array([88.0, 88.0], dtype=object), array([81.0, 96.0], dtype=object), array([90.0, 86.0], dtype=object), array([83.0, 95.0], dtype=object), array([89.0, 90.0], dtype=object), array([90.0, 87.0], dtype=object), array([78.0, 89.0], dtype=object), array([75.0, 81.0], dtype=object), array([78.0, 85.0], dtype=object), array([86.0, 80.0], dtype=object), array([76.0, 89.0], dtype=object), array([92.0, 80.0], dtype=object), array([89.0, 80.0], dtype=object), array([83.0, 88.0], dtype=object), array([80.0, 92.0], dtype=object), array([96.0, 79.0], dtype=object), array([70.0, 84.0], dtype=object), array([75.0, 87.0], dtype=object), array([91.0, 90.0], dtype=object), array([79.0, 91.0], dtype=object), array([76.0, 79.0], dtype=object), array([92.0, 84.0], dtype=object), array([70.0, 94.0], dtype=object), array([75.0, 90.0], dtype=object), array([70.0, 85.0], dtype=object), array([87.0, 69.0], dtype=object), array([84.0, 89.0], dtype=object), array([83.0, 90.0], dtype=object), array([80.0, 83.0], dtype=object), array([84.0, 84.0], dtype=object), array([84.0, 86.0], dtype=object), array([75.0, 91.0], dtype=object), array([91.0, 80.0], dtype=object), array([84.0, 80.0], dtype=object), array([88.0, 87.0], dtype=object), array([75.0, 90.0], dtype=object), array([79.0, 77.0], dtype=object), array([69.0, 84.0], dtype=object), array([78.0, 86.0], dtype=object), array([87.0, 69.0], dtype=object), array([73.0, 87.0], dtype=object), array([87.0, 75.0], dtype=object), array([92.0, 80.0], dtype=object), array([77.0, 90.0], dtype=object), array([90.0, 87.0], dtype=object), array([78.0, 88.0], dtype=object), array([84.0, 87.0], dtype=object), array([78.0, 92.0], dtype=object), array([79.0, 88.0], dtype=object), array([78.0, 92.0], dtype=object), array([76.0, 76.0], dtype=object), array([76.0, 77.0], dtype=object), array([78.0, 81.0], dtype=object), array([89.0, 84.0], dtype=object), array([83.0, 76.0], dtype=object), array([93.0, 80.0], dtype=object), array([94.0, 78.0], dtype=object), array([75.0, 83.0], dtype=object), array([89.0, 77.0], dtype=object), array([85.0, 93.0], dtype=object), array([83.0, 87.0], dtype=object), array([80.0, 90.0], dtype=object), array([76.0, 91.0], dtype=object), array([85.0, 86.0], dtype=object), array([76.0, 86.0], dtype=object), array([85.0, 80.0], dtype=object), array([86.0, 83.0], dtype=object), array([87.0, 79.0], dtype=object), array([90.0, 82.0], dtype=object), array([79.0, 85.0], dtype=object), array([78.0, 78.0], dtype=object), array([92.0, 82.0], dtype=object), array([83.0, 76.0], dtype=object), array([74.0, 84.0], dtype=object), array([85.0, 88.0], dtype=object), array([73.0, 86.0], dtype=object), array([73.0, 86.0], dtype=object), array([91.0, 82.0], dtype=object), array([89.0, 79.0], dtype=object), array([77.0, 78.0], dtype=object), array([86.0, 78.0], dtype=object), array([84.0, 80.0], dtype=object), array([66.0, 84.0], dtype=object), array([75.0, 89.0], dtype=object), array([65.0, 89.0], dtype=object), array([64.0, 89.0], dtype=object), array([69.0, 85.0], dtype=object), array([84.0, 80.0], dtype=object), array([75.0, 86.0], dtype=object), array([92.0, 82.0], dtype=object), array([89.0, 83.0], dtype=object), array([75.0, 87.0], dtype=object), array([90.0, 83.0], dtype=object), array([92.0, 76.0], dtype=object), array([79.0, 82.0], dtype=object), array([78.0, 90.0], dtype=object), array([83.0, 85.0], dtype=object), array([85.0, 88.0], dtype=object), array([79.0, 85.0], dtype=object), array([84.0, 76.0], dtype=object), array([83.0, 84.0], dtype=object), array([76.0, 78.0], dtype=object), array([82.0, 68.0], dtype=object), array([79.0, 75.0], dtype=object), array([90.0, 79.0], dtype=object), array([88.0, 86.0], dtype=object), array([89.0, 75.0], dtype=object), array([86.0, 80.0], dtype=object), array([78.0, 82.0], dtype=object), array([85.0, 78.0], dtype=object), array([82.0, 84.0], dtype=object), array([85.0, 68.0], dtype=object), array([95.0, 82.0], dtype=object), array([70.0, 89.0], dtype=object), array([80.0, 77.0], dtype=object), array([86.0, 72.0], dtype=object), array([71.0, 82.0], dtype=object), array([86.0, 83.0], dtype=object), array([86.0, 81.0], dtype=object), array([82.0, 79.0], dtype=object), array([83.0, 83.0], dtype=object), array([76.0, 82.0], dtype=object), array([76.0, 88.0], dtype=object), array([79.0, 85.0], dtype=object), array([87.0, 77.0], dtype=object)]\n",
      "i :  2  points :  [array([43.0, 18.0], dtype=object), array([41.0, 12.0], dtype=object), array([43.0, 30.0], dtype=object), array([38.0, 13.0], dtype=object), array([35.0, 17.0], dtype=object), array([39.0, 26.0], dtype=object), array([41.0, 12.0], dtype=object), array([41.0, 10.0], dtype=object), array([39.0, 16.0], dtype=object), array([41.0, 23.0], dtype=object), array([45.0, 11.0], dtype=object), array([32.0, 27.0], dtype=object), array([41.0, 15.0], dtype=object), array([37.0, 12.0], dtype=object), array([34.0, 12.0], dtype=object), array([34.0, 10.0], dtype=object), array([43.0, 16.0], dtype=object), array([30.0, 19.0], dtype=object), array([36.0, 15.0], dtype=object), array([32.0, 11.0], dtype=object), array([39.0, 19.0], dtype=object), array([39.0, 19.0], dtype=object), array([31.0, 15.0], dtype=object), array([34.0, 10.0], dtype=object), array([31.0, 11.0], dtype=object), array([32.0, 15.0], dtype=object), array([45.0, 15.0], dtype=object), array([45.0, 20.0], dtype=object), array([32.0, 12.0], dtype=object), array([31.0, 20.0], dtype=object)]\n",
      "3단계 끝 : 각 군집의 중심(C)을 새롭게 계산하기+++++++++++++++++++++++++++++++++++++++++++++++\n",
      "clusters :  [1. 1. 1. 2. 1. 1. 1. 1. 0. 0. 1. 2. 1. 1. 1. 0. 1. 2. 1. 1. 2. 2. 1. 1.\n",
      " 1. 0. 2. 2. 0. 1. 2. 1. 1. 1. 1. 1. 1. 1. 1. 1. 1. 1. 1. 0. 1. 1. 0. 1.\n",
      " 1. 1. 2. 1. 0. 1. 0. 1. 0. 1. 1. 0. 1. 0. 0. 1. 1. 1. 2. 1. 1. 0. 1. 1.\n",
      " 0. 1. 1. 1. 1. 1. 1. 1. 1. 1. 0. 1. 0. 1. 0. 1. 1. 0. 1. 0. 0. 1. 1. 1.\n",
      " 0. 1. 1. 2. 2. 1. 1. 1. 1. 1. 0. 0. 1. 1. 1. 1. 2. 1. 1. 1. 1. 1. 1. 1.\n",
      " 1. 1. 0. 2. 0. 2. 0. 1. 0. 1. 1. 2. 1. 2. 1. 1. 0. 1. 1. 0. 1. 1. 1. 0.\n",
      " 0. 1. 0. 1. 1. 0. 2. 2. 1. 1. 1. 0. 1. 1. 1. 1. 2. 1. 1. 1. 2. 2. 1. 1.\n",
      " 1. 1. 1. 2. 0. 1. 2. 0. 2. 0. 1. 0. 1. 2. 1. 0. 2. 2. 2. 1. 0. 0. 2. 1.\n",
      " 1. 1. 1. 1. 0. 1. 1. 1.]\n",
      " 2단계 끝 : 각 표본에 가까운 중심에 할당하기==================================\n",
      "i :  0  points :  [array([84.0, 63.0], dtype=object), array([66.0, 53.0], dtype=object), array([65.0, 58.0], dtype=object), array([66.0, 68.0], dtype=object), array([74.0, 62.0], dtype=object), array([65.0, 59.0], dtype=object), array([75.0, 71.0], dtype=object), array([71.0, 66.0], dtype=object), array([78.0, 69.0], dtype=object), array([55.0, 90.0], dtype=object), array([69.0, 64.0], dtype=object), array([74.0, 62.0], dtype=object), array([71.0, 69.0], dtype=object), array([73.0, 57.0], dtype=object), array([71.0, 70.0], dtype=object), array([61.0, 60.0], dtype=object), array([60.0, 58.0], dtype=object), array([65.0, 67.0], dtype=object), array([66.0, 63.0], dtype=object), array([61.0, 79.0], dtype=object), array([69.0, 64.0], dtype=object), array([77.0, 59.0], dtype=object), array([76.0, 54.0], dtype=object), array([67.0, 51.0], dtype=object), array([69.0, 58.0], dtype=object), array([68.0, 75.0], dtype=object), array([55.0, 59.0], dtype=object), array([53.0, 64.0], dtype=object), array([67.0, 47.0], dtype=object), array([65.0, 42.0], dtype=object), array([75.0, 59.0], dtype=object), array([67.0, 59.0], dtype=object), array([66.0, 63.0], dtype=object), array([76.0, 63.0], dtype=object), array([66.0, 81.0], dtype=object), array([66.0, 66.0], dtype=object), array([74.0, 64.0], dtype=object), array([58.0, 84.0], dtype=object), array([56.0, 79.0], dtype=object), array([74.0, 60.0], dtype=object), array([81.0, 65.0], dtype=object), array([67.0, 51.0], dtype=object), array([63.0, 55.0], dtype=object)]\n",
      "i :  1  points :  [array([72.0, 97.0], dtype=object), array([88.0, 88.0], dtype=object), array([81.0, 96.0], dtype=object), array([90.0, 86.0], dtype=object), array([83.0, 95.0], dtype=object), array([89.0, 90.0], dtype=object), array([90.0, 87.0], dtype=object), array([78.0, 89.0], dtype=object), array([75.0, 81.0], dtype=object), array([78.0, 85.0], dtype=object), array([86.0, 80.0], dtype=object), array([76.0, 89.0], dtype=object), array([92.0, 80.0], dtype=object), array([89.0, 80.0], dtype=object), array([83.0, 88.0], dtype=object), array([80.0, 92.0], dtype=object), array([96.0, 79.0], dtype=object), array([70.0, 84.0], dtype=object), array([75.0, 87.0], dtype=object), array([91.0, 90.0], dtype=object), array([79.0, 91.0], dtype=object), array([76.0, 79.0], dtype=object), array([92.0, 84.0], dtype=object), array([70.0, 94.0], dtype=object), array([75.0, 90.0], dtype=object), array([70.0, 85.0], dtype=object), array([87.0, 69.0], dtype=object), array([84.0, 89.0], dtype=object), array([83.0, 90.0], dtype=object), array([80.0, 83.0], dtype=object), array([84.0, 84.0], dtype=object), array([84.0, 86.0], dtype=object), array([75.0, 91.0], dtype=object), array([91.0, 80.0], dtype=object), array([84.0, 80.0], dtype=object), array([88.0, 87.0], dtype=object), array([72.0, 77.0], dtype=object), array([75.0, 90.0], dtype=object), array([79.0, 77.0], dtype=object), array([69.0, 84.0], dtype=object), array([78.0, 86.0], dtype=object), array([87.0, 69.0], dtype=object), array([73.0, 87.0], dtype=object), array([87.0, 75.0], dtype=object), array([92.0, 80.0], dtype=object), array([77.0, 90.0], dtype=object), array([90.0, 87.0], dtype=object), array([78.0, 88.0], dtype=object), array([84.0, 87.0], dtype=object), array([78.0, 92.0], dtype=object), array([79.0, 88.0], dtype=object), array([78.0, 92.0], dtype=object), array([76.0, 76.0], dtype=object), array([76.0, 77.0], dtype=object), array([78.0, 81.0], dtype=object), array([89.0, 84.0], dtype=object), array([83.0, 76.0], dtype=object), array([93.0, 80.0], dtype=object), array([94.0, 78.0], dtype=object), array([75.0, 83.0], dtype=object), array([89.0, 77.0], dtype=object), array([85.0, 93.0], dtype=object), array([83.0, 87.0], dtype=object), array([80.0, 90.0], dtype=object), array([76.0, 91.0], dtype=object), array([85.0, 86.0], dtype=object), array([76.0, 86.0], dtype=object), array([85.0, 80.0], dtype=object), array([86.0, 83.0], dtype=object), array([87.0, 79.0], dtype=object), array([90.0, 82.0], dtype=object), array([79.0, 85.0], dtype=object), array([78.0, 78.0], dtype=object), array([92.0, 82.0], dtype=object), array([83.0, 76.0], dtype=object), array([74.0, 84.0], dtype=object), array([85.0, 88.0], dtype=object), array([73.0, 86.0], dtype=object), array([73.0, 86.0], dtype=object), array([91.0, 82.0], dtype=object), array([89.0, 79.0], dtype=object), array([77.0, 78.0], dtype=object), array([86.0, 78.0], dtype=object), array([84.0, 80.0], dtype=object), array([66.0, 84.0], dtype=object), array([75.0, 89.0], dtype=object), array([65.0, 89.0], dtype=object), array([64.0, 89.0], dtype=object), array([69.0, 85.0], dtype=object), array([84.0, 80.0], dtype=object), array([75.0, 86.0], dtype=object), array([92.0, 82.0], dtype=object), array([89.0, 83.0], dtype=object), array([75.0, 87.0], dtype=object), array([90.0, 83.0], dtype=object), array([92.0, 76.0], dtype=object), array([79.0, 82.0], dtype=object), array([78.0, 90.0], dtype=object), array([83.0, 85.0], dtype=object), array([85.0, 88.0], dtype=object), array([79.0, 85.0], dtype=object), array([84.0, 76.0], dtype=object), array([83.0, 84.0], dtype=object), array([76.0, 78.0], dtype=object), array([82.0, 68.0], dtype=object), array([79.0, 75.0], dtype=object), array([90.0, 79.0], dtype=object), array([88.0, 86.0], dtype=object), array([89.0, 75.0], dtype=object), array([86.0, 80.0], dtype=object), array([78.0, 82.0], dtype=object), array([85.0, 78.0], dtype=object), array([82.0, 84.0], dtype=object), array([85.0, 68.0], dtype=object), array([95.0, 82.0], dtype=object), array([70.0, 89.0], dtype=object), array([80.0, 77.0], dtype=object), array([86.0, 72.0], dtype=object), array([71.0, 82.0], dtype=object), array([86.0, 83.0], dtype=object), array([86.0, 81.0], dtype=object), array([82.0, 79.0], dtype=object), array([83.0, 83.0], dtype=object), array([76.0, 82.0], dtype=object), array([76.0, 88.0], dtype=object), array([79.0, 85.0], dtype=object), array([87.0, 77.0], dtype=object)]\n",
      "i :  2  points :  [array([43.0, 18.0], dtype=object), array([41.0, 12.0], dtype=object), array([43.0, 30.0], dtype=object), array([38.0, 13.0], dtype=object), array([35.0, 17.0], dtype=object), array([39.0, 26.0], dtype=object), array([41.0, 12.0], dtype=object), array([41.0, 10.0], dtype=object), array([39.0, 16.0], dtype=object), array([41.0, 23.0], dtype=object), array([45.0, 11.0], dtype=object), array([32.0, 27.0], dtype=object), array([41.0, 15.0], dtype=object), array([37.0, 12.0], dtype=object), array([34.0, 12.0], dtype=object), array([34.0, 10.0], dtype=object), array([43.0, 16.0], dtype=object), array([30.0, 19.0], dtype=object), array([36.0, 15.0], dtype=object), array([32.0, 11.0], dtype=object), array([39.0, 19.0], dtype=object), array([39.0, 19.0], dtype=object), array([31.0, 15.0], dtype=object), array([34.0, 10.0], dtype=object), array([31.0, 11.0], dtype=object), array([32.0, 15.0], dtype=object), array([45.0, 15.0], dtype=object), array([45.0, 20.0], dtype=object), array([32.0, 12.0], dtype=object), array([31.0, 20.0], dtype=object)]\n",
      "3단계 끝 : 각 군집의 중심(C)을 새롭게 계산하기+++++++++++++++++++++++++++++++++++++++++++++++\n",
      "clusters :  [1. 1. 1. 2. 1. 1. 1. 1. 0. 0. 1. 2. 1. 1. 1. 0. 1. 2. 1. 1. 2. 2. 1. 1.\n",
      " 1. 0. 2. 2. 0. 1. 2. 1. 1. 1. 1. 1. 1. 1. 1. 1. 1. 1. 1. 0. 1. 1. 0. 1.\n",
      " 1. 1. 2. 1. 0. 1. 0. 1. 0. 1. 1. 0. 1. 0. 0. 1. 1. 1. 2. 1. 1. 0. 1. 1.\n",
      " 0. 1. 1. 1. 1. 1. 1. 1. 1. 1. 0. 1. 0. 1. 0. 1. 1. 0. 1. 0. 0. 1. 1. 1.\n",
      " 0. 1. 1. 2. 2. 1. 1. 1. 1. 1. 0. 0. 1. 1. 1. 1. 2. 1. 1. 1. 1. 1. 1. 1.\n",
      " 1. 1. 0. 2. 0. 2. 0. 1. 0. 1. 1. 2. 1. 2. 1. 1. 0. 1. 1. 0. 1. 1. 1. 0.\n",
      " 0. 1. 0. 1. 1. 0. 2. 2. 1. 1. 1. 0. 1. 1. 1. 1. 2. 1. 1. 1. 2. 2. 1. 1.\n",
      " 1. 1. 1. 2. 0. 1. 2. 0. 2. 0. 1. 0. 1. 2. 1. 0. 2. 2. 2. 1. 0. 0. 2. 1.\n",
      " 1. 1. 1. 1. 0. 1. 1. 1.]\n",
      " 2단계 끝 : 각 표본에 가까운 중심에 할당하기==================================\n",
      "i :  0  points :  [array([84.0, 63.0], dtype=object), array([66.0, 53.0], dtype=object), array([65.0, 58.0], dtype=object), array([66.0, 68.0], dtype=object), array([74.0, 62.0], dtype=object), array([65.0, 59.0], dtype=object), array([75.0, 71.0], dtype=object), array([71.0, 66.0], dtype=object), array([78.0, 69.0], dtype=object), array([55.0, 90.0], dtype=object), array([69.0, 64.0], dtype=object), array([74.0, 62.0], dtype=object), array([71.0, 69.0], dtype=object), array([73.0, 57.0], dtype=object), array([71.0, 70.0], dtype=object), array([61.0, 60.0], dtype=object), array([60.0, 58.0], dtype=object), array([65.0, 67.0], dtype=object), array([66.0, 63.0], dtype=object), array([61.0, 79.0], dtype=object), array([69.0, 64.0], dtype=object), array([77.0, 59.0], dtype=object), array([76.0, 54.0], dtype=object), array([67.0, 51.0], dtype=object), array([69.0, 58.0], dtype=object), array([68.0, 75.0], dtype=object), array([55.0, 59.0], dtype=object), array([53.0, 64.0], dtype=object), array([67.0, 47.0], dtype=object), array([65.0, 42.0], dtype=object), array([75.0, 59.0], dtype=object), array([67.0, 59.0], dtype=object), array([66.0, 63.0], dtype=object), array([76.0, 63.0], dtype=object), array([66.0, 81.0], dtype=object), array([66.0, 66.0], dtype=object), array([74.0, 64.0], dtype=object), array([58.0, 84.0], dtype=object), array([56.0, 79.0], dtype=object), array([74.0, 60.0], dtype=object), array([81.0, 65.0], dtype=object), array([67.0, 51.0], dtype=object), array([63.0, 55.0], dtype=object)]\n",
      "i :  1  points :  [array([72.0, 97.0], dtype=object), array([88.0, 88.0], dtype=object), array([81.0, 96.0], dtype=object), array([90.0, 86.0], dtype=object), array([83.0, 95.0], dtype=object), array([89.0, 90.0], dtype=object), array([90.0, 87.0], dtype=object), array([78.0, 89.0], dtype=object), array([75.0, 81.0], dtype=object), array([78.0, 85.0], dtype=object), array([86.0, 80.0], dtype=object), array([76.0, 89.0], dtype=object), array([92.0, 80.0], dtype=object), array([89.0, 80.0], dtype=object), array([83.0, 88.0], dtype=object), array([80.0, 92.0], dtype=object), array([96.0, 79.0], dtype=object), array([70.0, 84.0], dtype=object), array([75.0, 87.0], dtype=object), array([91.0, 90.0], dtype=object), array([79.0, 91.0], dtype=object), array([76.0, 79.0], dtype=object), array([92.0, 84.0], dtype=object), array([70.0, 94.0], dtype=object), array([75.0, 90.0], dtype=object), array([70.0, 85.0], dtype=object), array([87.0, 69.0], dtype=object), array([84.0, 89.0], dtype=object), array([83.0, 90.0], dtype=object), array([80.0, 83.0], dtype=object), array([84.0, 84.0], dtype=object), array([84.0, 86.0], dtype=object), array([75.0, 91.0], dtype=object), array([91.0, 80.0], dtype=object), array([84.0, 80.0], dtype=object), array([88.0, 87.0], dtype=object), array([72.0, 77.0], dtype=object), array([75.0, 90.0], dtype=object), array([79.0, 77.0], dtype=object), array([69.0, 84.0], dtype=object), array([78.0, 86.0], dtype=object), array([87.0, 69.0], dtype=object), array([73.0, 87.0], dtype=object), array([87.0, 75.0], dtype=object), array([92.0, 80.0], dtype=object), array([77.0, 90.0], dtype=object), array([90.0, 87.0], dtype=object), array([78.0, 88.0], dtype=object), array([84.0, 87.0], dtype=object), array([78.0, 92.0], dtype=object), array([79.0, 88.0], dtype=object), array([78.0, 92.0], dtype=object), array([76.0, 76.0], dtype=object), array([76.0, 77.0], dtype=object), array([78.0, 81.0], dtype=object), array([89.0, 84.0], dtype=object), array([83.0, 76.0], dtype=object), array([93.0, 80.0], dtype=object), array([94.0, 78.0], dtype=object), array([75.0, 83.0], dtype=object), array([89.0, 77.0], dtype=object), array([85.0, 93.0], dtype=object), array([83.0, 87.0], dtype=object), array([80.0, 90.0], dtype=object), array([76.0, 91.0], dtype=object), array([85.0, 86.0], dtype=object), array([76.0, 86.0], dtype=object), array([85.0, 80.0], dtype=object), array([86.0, 83.0], dtype=object), array([87.0, 79.0], dtype=object), array([90.0, 82.0], dtype=object), array([79.0, 85.0], dtype=object), array([78.0, 78.0], dtype=object), array([92.0, 82.0], dtype=object), array([83.0, 76.0], dtype=object), array([74.0, 84.0], dtype=object), array([85.0, 88.0], dtype=object), array([73.0, 86.0], dtype=object), array([73.0, 86.0], dtype=object), array([91.0, 82.0], dtype=object), array([89.0, 79.0], dtype=object), array([77.0, 78.0], dtype=object), array([86.0, 78.0], dtype=object), array([84.0, 80.0], dtype=object), array([66.0, 84.0], dtype=object), array([75.0, 89.0], dtype=object), array([65.0, 89.0], dtype=object), array([64.0, 89.0], dtype=object), array([69.0, 85.0], dtype=object), array([84.0, 80.0], dtype=object), array([75.0, 86.0], dtype=object), array([92.0, 82.0], dtype=object), array([89.0, 83.0], dtype=object), array([75.0, 87.0], dtype=object), array([90.0, 83.0], dtype=object), array([92.0, 76.0], dtype=object), array([79.0, 82.0], dtype=object), array([78.0, 90.0], dtype=object), array([83.0, 85.0], dtype=object), array([85.0, 88.0], dtype=object), array([79.0, 85.0], dtype=object), array([84.0, 76.0], dtype=object), array([83.0, 84.0], dtype=object), array([76.0, 78.0], dtype=object), array([82.0, 68.0], dtype=object), array([79.0, 75.0], dtype=object), array([90.0, 79.0], dtype=object), array([88.0, 86.0], dtype=object), array([89.0, 75.0], dtype=object), array([86.0, 80.0], dtype=object), array([78.0, 82.0], dtype=object), array([85.0, 78.0], dtype=object), array([82.0, 84.0], dtype=object), array([85.0, 68.0], dtype=object), array([95.0, 82.0], dtype=object), array([70.0, 89.0], dtype=object), array([80.0, 77.0], dtype=object), array([86.0, 72.0], dtype=object), array([71.0, 82.0], dtype=object), array([86.0, 83.0], dtype=object), array([86.0, 81.0], dtype=object), array([82.0, 79.0], dtype=object), array([83.0, 83.0], dtype=object), array([76.0, 82.0], dtype=object), array([76.0, 88.0], dtype=object), array([79.0, 85.0], dtype=object), array([87.0, 77.0], dtype=object)]\n",
      "i :  2  points :  [array([43.0, 18.0], dtype=object), array([41.0, 12.0], dtype=object), array([43.0, 30.0], dtype=object), array([38.0, 13.0], dtype=object), array([35.0, 17.0], dtype=object), array([39.0, 26.0], dtype=object), array([41.0, 12.0], dtype=object), array([41.0, 10.0], dtype=object), array([39.0, 16.0], dtype=object), array([41.0, 23.0], dtype=object), array([45.0, 11.0], dtype=object), array([32.0, 27.0], dtype=object), array([41.0, 15.0], dtype=object), array([37.0, 12.0], dtype=object), array([34.0, 12.0], dtype=object), array([34.0, 10.0], dtype=object), array([43.0, 16.0], dtype=object), array([30.0, 19.0], dtype=object), array([36.0, 15.0], dtype=object), array([32.0, 11.0], dtype=object), array([39.0, 19.0], dtype=object), array([39.0, 19.0], dtype=object), array([31.0, 15.0], dtype=object), array([34.0, 10.0], dtype=object), array([31.0, 11.0], dtype=object), array([32.0, 15.0], dtype=object), array([45.0, 15.0], dtype=object), array([45.0, 20.0], dtype=object), array([32.0, 12.0], dtype=object), array([31.0, 20.0], dtype=object)]\n",
      "3단계 끝 : 각 군집의 중심(C)을 새롭게 계산하기+++++++++++++++++++++++++++++++++++++++++++++++\n"
     ]
    }
   ],
   "source": [
    "# (실습)from 모듈 import 변수/함수 : copy 모듈로부터 deepcopy 함수를 불러온다.\n",
    "from copy import deepcopy\n",
    "\n",
    "# distances 리스트 : 군집중심과 데이터간의 거리계산 결과 저장 \n",
    "distances = []\n",
    "\n",
    "# while 문 : 군집중심의 좌표가 변화가 없을때까지 while 문안의 명령어를 반복 실행함 \n",
    "while flag != 0 :\n",
    "  # for 문 : 선수들의 수만큼 계산을 반복하면서 선수들 각각의 체력, 드리블 값과 임의의 군집중심의 값의 거리를 계산 \n",
    "  for i in range(len(X)):   # i = 선수 데이터(X)\n",
    "    for j in range(3):      # j = 중심 위치(C) - 3개\n",
    "    # (실습) 선수 한명(X[i])과 3개 각각의 군집 중심값(C[j])의 거리 계산해 temp 저장\n",
    "      temp = Distance(X[i], C[j])\n",
    "      distances.append(temp)       # 계산한 값(temp)을 리스트에 추가함\n",
    "    # (실습) distances의 최솟값을 가진 값의 인덱스 번호(np.argmin(distances)를 cluster에 저장함\n",
    "    cluster = np.argmin(distances)\n",
    "    # (실습) cluster 변수값을 리스트 clusters[i]에 저장함\n",
    "    clusters[i] = cluster          \n",
    "    distances = []                 # distances 값 초기화(다음 i번째 선수와 군집의 중심간의 거리 계산해서 새롭게 저장해야 함)\n",
    "  print(\"clusters : \",clusters)    # 200명의 선수가 순서대로 어떤 군집에 해당되는지 0, 1, 2 숫자로 매칭되어 나열됨\n",
    "\n",
    "  print(\" 2단계 끝 : 각 표본에 가까운 중심에 할당하기==================================\")\n",
    "  C_old = deepcopy(C)              # 지금까지 사용된 중심을 C_old에 복사함 \n",
    "  # 같은 군집끼리 데이터를 모아서 새로운 군집의 중심을 계산함\n",
    "  for i in range(k):            \n",
    "    # 군집의 중심값별로 데이터를 모아서 points 리스트에 저장함   \n",
    "    points = [X[j] for j in range(len(X)) if clusters[j] == i]        \n",
    "    print(\"i : \", i, \" points : \", points)\n",
    "    # (실습) 리스트 points 값의 평균(np.mean)을 계산해 C[i]에 저장함.\n",
    "    C[i] = np.mean(points)                                            \n",
    "  # (실습) 새롭게 계산된 군집의 중심(C)과 이전의 중심(C_old)간의 거리차 계산 \n",
    "  flag = Distance(C, C_old)\n",
    "  print(\"3단계 끝 : 각 군집의 중심(C)을 새롭게 계산하기+++++++++++++++++++++++++++++++++++++++++++++++\")\n"
   ]
  },
  {
   "cell_type": "markdown",
   "metadata": {
    "colab_type": "text",
    "id": "utbuUs5C-rKH"
   },
   "source": [
    "### 5.4 문제 해결하기 \n"
   ]
  },
  {
   "cell_type": "markdown",
   "metadata": {
    "colab_type": "text",
    "id": "atN9cfSzAfzW"
   },
   "source": [
    "- 1번 군집\n",
    "  - 200명의 선수(X)중에서 군집화 결과가 0번에 해당하는 선수(1번 군집)만을 찾아서 <br>\n",
    "  그 선수의 체력(X[clusters == 0,0])을 산점도의 x 좌표로, <br>\n",
    "  드리블(X[clusters == 0,1])을 y 좌표로 지정해서 붉은색으로 나타냄 \n",
    "\n",
    "- 군집의 중심(C)을 x축 값(C[:, 0))과 y축 값(C[:, 1])을 검은색으로 나타냄 "
   ]
  },
  {
   "cell_type": "code",
   "execution_count": 16,
   "metadata": {
    "colab": {},
    "colab_type": "code",
    "id": "VsnhAuBM-2UA"
   },
   "outputs": [
    {
     "data": {
      "image/png": "[encoded data removed]",
      "text/plain": [
       "<Figure size 432x288 with 1 Axes>"
      ]
     },
     "metadata": {
      "needs_background": "light"
     },
     "output_type": "display_data"
    }
   ],
   "source": [
    "# 군집화 결과 시각화하기\n",
    "import matplotlib.pyplot as plt\n",
    "\n",
    "# 그래프 그리기 \n",
    "plt.title('Stamina & Dribbling')\n",
    "plt.xlabel('Stamina')\n",
    "plt.ylabel('Dribbling')\n",
    "# 1번 군집\n",
    "plt.scatter(X[clusters == 0,0], X[clusters == 0,1], s=50, c='red', marker='o', edgecolor='black', label='A')\n",
    "\n",
    "# 2번 군집\n",
    "plt.scatter(X[clusters == 1,0], X[clusters == 1,1], s=50, c='yellow', marker='x', edgecolor='black', label='B')\n",
    "\n",
    "# 3번 군집\n",
    "plt.scatter(X[clusters == 2,0], X[clusters == 2,1], s=50, c='blue', marker='^', edgecolor='black', label='C')\n",
    "\n",
    "# 군집의 중심 좌표들\n",
    "plt.scatter(C[:, 0], C[:, 1], s=250, marker='*', c='black', edgecolor='black', label='Centroids')\n",
    "\n",
    "plt.legend()\n",
    "plt.grid()\n",
    "plt.show()"
   ]
  },
  {
   "cell_type": "code",
   "execution_count": null,
   "metadata": {
    "colab": {},
    "colab_type": "code",
    "id": "O0D6pKLjp9Cd"
   },
   "outputs": [],
   "source": [
    "# K-평균 군집화 알고리즘 적용하기 - 각 군집의 중심을 새롭게 계산하기\n",
    "\n",
    "import pandas as pd\n",
    "\n",
    "\n",
    "fifa2019 = pd.read_csv('fifa2019.csv')\n",
    "df = pd.DataFrame.copy(fifa2019.sort_values(by = 'Overall', ascending = False ).head(200))\n",
    "test_features=['Name','Stamina','Dribbling','ShortPassing','Penalties']\n",
    "test_df= pd.DataFrame(df , columns = test_features)\n",
    "\n",
    "\n",
    "# 학습 데이터 준비하기\n",
    "import numpy as np \n",
    "XY = np.array(test_df)\n",
    "X = XY[:,1:3]\n",
    "\n",
    "\n",
    "# 표본공간에 k개의 중심을 무작위로 생성하기\n",
    "k = 3                               #분류하려는 군집의 개수가 3개이므로 k=3\n",
    "C_x = np.random.choice(X[:,0],k)\n",
    "C_y = np.random.choice(X[:,1],k)\n",
    "C = np.array(list(zip(C_x, C_y)))\n",
    "\n",
    "\n",
    "# 거리를 측정하는 함수 만들기 \n",
    "# 유클리디안 거리 계산 함수 만들기\n",
    "def Distance(A, B):\n",
    "    return np.sqrt(np.sum(np.power((A-B),2)))\n",
    "\n",
    "# 각 군집의 중심을 새롭게 계산하기 \n",
    "\n",
    "C_old = np.zeros(C.shape)           # 중심의 좌표를 업데이트하기 위해 동일한 크기의 행렬을 선언 \n",
    "clusters = np.zeros(len(X))         # 모든 데이터의 클러스터 라벨을 저장하기 위해 행렬을 선언, 초깃값은 0으로 할당\n",
    "flag = Distance(C, C_old)           # 반복문의 종료 기준이 될 변수 선언, 중심 C의 좌표가 더이상 변화가 없을 때까지 반복하는 기준이 됨.\n",
    "\n",
    "# ---------------------------------------------------------------------------------\n",
    "\n",
    "# 클러스터 할당이 변경되지 않을 때까지 반복하기\n",
    "from copy import deepcopy\n",
    "\n",
    "distances = []\n",
    "while flag !=0:                     \n",
    "    for i in range(len(X)):\n",
    "      for j in range(3):\n",
    "        temp = Distance(X[i], C[j])\n",
    "        distances.append(temp)\n",
    "      cluster = np.argmin(distances)\n",
    "      clusters[i] = cluster\n",
    "      distances = []\n",
    "    C_old = deepcopy(C)\n",
    "    for i in range(k):\n",
    "        points = [X[j] for j in range(len(X)) if clusters[j] == i]\n",
    "        C[i] = np.mean(points)\n",
    "    flag = Distance(C, C_old)\n",
    "    \n",
    "# 군집화 결과 시각화하기\n",
    "import matplotlib.pyplot as plt\n",
    "\n",
    "# 1번 군집\n",
    "plt.scatter(X[clusters == 0,0], X[clusters == 0,1], s=50, c='red', marker='o', edgecolor='black', label='A')\n",
    "\n",
    "# 2번 군집\n",
    "plt.scatter(X[clusters == 1,0], X[clusters == 1,1], s=50, c='yellow', marker='x', edgecolor='black', label='B')\n",
    "\n",
    "# 3번 군집\n",
    "plt.scatter(X[clusters == 2,0], X[clusters == 2,1], s=50, c='blue', marker='^', edgecolor='black', label='C')\n",
    "\n",
    "# 군집의 중심 좌표들\n",
    "plt.scatter(C[:, 0], C[:, 1], s=250, marker='*', c='black', edgecolor='black', label='Centroids')\n",
    "plt.legend()\n",
    "plt.grid()\n",
    "plt.show()"
   ]
  },
  {
   "cell_type": "markdown",
   "metadata": {
    "colab_type": "text",
    "id": "9wsq96HuWrdt"
   },
   "source": [
    "#### [팁] 객체 복사 (copy, deepcopy)\n",
    "- 리스트에서 복사(b = a)\n",
    "  - 참조형태로 전달됨 \n",
    "  - 실제로 같은 물리공간에 위치한 데이터를 가리키게 됨\n",
    "  - a 리스트의 값이 변경되면 b 리스트의 값도 변경됨\n",
    "- 깊은 복사(deepcopy)\n",
    "  - from copy import deepcopy \n",
    "  - 값을 모두 복사하는 형태"
   ]
  },
  {
   "cell_type": "code",
   "execution_count": null,
   "metadata": {
    "colab": {},
    "colab_type": "code",
    "id": "YPZbWfHIYPTP"
   },
   "outputs": [],
   "source": [
    "# (팁) 일반 복사(copy)\n",
    "a = ['A', 'B']\n",
    "b = a\n",
    "print(\"before a : \", a)\n",
    "print(\"before b : \", b)\n",
    "a[0] = 'C'\n",
    "print(\"after a : \", a)\n",
    "print(\"after b : \", b)\n"
   ]
  },
  {
   "cell_type": "code",
   "execution_count": null,
   "metadata": {
    "colab": {},
    "colab_type": "code",
    "id": "VWsq5kZmZM9M"
   },
   "outputs": [],
   "source": [
    "# (팁) 깊은 복사(deepcopy)\n",
    "from copy import deepcopy\n",
    "a = ['A', 'B']\n",
    "b = deepcopy(a)\n",
    "print(\"before a : \", a)\n",
    "print(\"before b : \", b)\n",
    "a[0] = 'C'\n",
    "print(\"after a : \", a)\n",
    "print(\"after b : \", b)"
   ]
  }
 ],
 "metadata": {
  "colab": {
   "name": "[실습]16-내가 만약 축구팀 감독이라면 .ipynb",
   "provenance": []
  },
  "kernelspec": {
   "display_name": "Python 3",
   "language": "python",
   "name": "python3"
  },
  "language_info": {
   "codemirror_mode": {
    "name": "ipython",
    "version": 3
   },
   "file_extension": ".py",
   "mimetype": "text/x-python",
   "name": "python",
   "nbconvert_exporter": "python",
   "pygments_lexer": "ipython3",
   "version": "3.8.5"
  }
 },
 "nbformat": 4,
 "nbformat_minor": 1
}
