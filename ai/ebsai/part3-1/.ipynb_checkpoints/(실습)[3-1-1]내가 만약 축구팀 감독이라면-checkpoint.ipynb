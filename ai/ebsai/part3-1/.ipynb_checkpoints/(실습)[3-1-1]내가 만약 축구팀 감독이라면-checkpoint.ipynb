{
 "cells": [
  {
   "cell_type": "markdown",
   "metadata": {
    "colab_type": "text",
    "id": "WjEtz6fzvz6v"
   },
   "source": [
    "# 내가 만약 축구팀 감독이라면 "
   ]
  },
  {
   "cell_type": "markdown",
   "metadata": {
    "colab_type": "text",
    "id": "khY_qz_Uv8k9"
   },
   "source": [
    "## 01. 데이터 수집하기 \n",
    "- kaggle에서 fifa2019 데이터 파일 찾기 : fifa2019.csv 로 변경\n",
    "> https://www.kaggle.com/karangadiya/fifa19\n",
    "\n",
    "## 02. 데이터 불러오기 \n",
    "- fifa2019.csv 파일 업로드하기"
   ]
  },
  {
   "cell_type": "code",
   "execution_count": null,
   "metadata": {
    "colab": {},
    "colab_type": "code",
    "id": "qN7sWCIJPvnb"
   },
   "outputs": [],
   "source": [
    "from google.colab import files\n",
    "\n",
    "uploaded = files.upload()"
   ]
  },
  {
   "cell_type": "markdown",
   "metadata": {
    "colab_type": "text",
    "id": "tbpH3Co9wm7n"
   },
   "source": [
    "### [Step 1] 파일에 저장된 데이터를 불러와 출력하기"
   ]
  },
  {
   "cell_type": "code",
   "execution_count": null,
   "metadata": {
    "colab": {},
    "colab_type": "code",
    "id": "pkNkuhL7v8Lz"
   },
   "outputs": [],
   "source": [
    "# (실습) pandas 라이브러리 불러오기 \n",
    "\n",
    "\n",
    "# (실습)fifa2019.csv 파일의 데이터 불러오기 \n",
    "fifa2019 = pd.\n",
    "\n",
    "## (실습) fifa2019 데이터프레임의 행, 열 갯수 출력하기\n",
    "print(  )"
   ]
  },
  {
   "cell_type": "markdown",
   "metadata": {
    "colab_type": "text",
    "id": "nGDtQVRRxpja"
   },
   "source": [
    "### [Step 2] fifa2019에 저장된 개별값들을 열별로 확인하기"
   ]
  },
  {
   "cell_type": "code",
   "execution_count": null,
   "metadata": {
    "colab": {},
    "colab_type": "code",
    "id": "2VZro_nNvzKe"
   },
   "outputs": [],
   "source": [
    "## (실습) 데이터의 요약 정보 출력하기 \n",
    "print(    )"
   ]
  },
  {
   "cell_type": "markdown",
   "metadata": {
    "colab_type": "text",
    "id": "nNQWAMFVyNqI"
   },
   "source": [
    "## 03. 데이터 다루기 "
   ]
  },
  {
   "cell_type": "markdown",
   "metadata": {
    "colab_type": "text",
    "id": "WiQvVRUcyTSk"
   },
   "source": [
    "### [Step 1] 궁금한 선수의 데이터 검색하기 \n"
   ]
  },
  {
   "cell_type": "code",
   "execution_count": null,
   "metadata": {
    "colab": {},
    "colab_type": "code",
    "id": "UnfimVXTyWeK"
   },
   "outputs": [],
   "source": [
    "#(실습) fifa2019 인덱스 레이블 14인 행값을 sub1에 저장하기\n",
    "sub1 = fifa2019.\n",
    "print(sub1)"
   ]
  },
  {
   "cell_type": "markdown",
   "metadata": {
    "colab_type": "text",
    "id": "UyivAnIzyk9p"
   },
   "source": [
    "### [Step 2] 원하는 범위의 데이터 검색하기\n"
   ]
  },
  {
   "cell_type": "code",
   "execution_count": null,
   "metadata": {
    "colab": {},
    "colab_type": "code",
    "id": "ZE2x2VSXynKz"
   },
   "outputs": [],
   "source": [
    "# (실습) 인덱스 레이블 2~16까지 모든 데이터를 sub2에 저장하기 \n",
    "sub2 = fifa2019.\n",
    "print(sub2)"
   ]
  },
  {
   "cell_type": "markdown",
   "metadata": {
    "colab_type": "text",
    "id": "8ucAMeBmyyL_"
   },
   "source": [
    "### [Step 3] 전체 선수들의 이름과 선호하는 발 정보 출력하기\n"
   ]
  },
  {
   "cell_type": "code",
   "execution_count": null,
   "metadata": {
    "colab": {},
    "colab_type": "code",
    "id": "Xtt7ctoGy0IL"
   },
   "outputs": [],
   "source": [
    "# (실습)'Name', 'Preferred Foot' 열의 모든 선수 정보를 다 출력하기 \n",
    "sub3 = fifa2019.\n",
    "print(sub3)"
   ]
  },
  {
   "cell_type": "markdown",
   "metadata": {
    "colab_type": "text",
    "id": "HZ0ESPMazLBG"
   },
   "source": [
    "### [Step 4] 여러 행의 데이터 중 원하는 열 값만 골라 출력하기\n"
   ]
  },
  {
   "cell_type": "code",
   "execution_count": null,
   "metadata": {
    "colab": {},
    "colab_type": "code",
    "id": "J07kSYSpzQfM"
   },
   "outputs": [],
   "source": [
    "# (실습)0~9행, 1,2열 값을 sub4에 저장하기 \n",
    "sub4 = fifa2019.\n",
    "print(sub4)"
   ]
  },
  {
   "cell_type": "markdown",
   "metadata": {
    "colab_type": "text",
    "id": "1z7oCTGizc7-"
   },
   "source": [
    "### [Step 5] 우리나라 선수들 출력하기\n"
   ]
  },
  {
   "cell_type": "code",
   "execution_count": null,
   "metadata": {
    "colab": {},
    "colab_type": "code",
    "id": "fIIj3qgNzg-u"
   },
   "outputs": [],
   "source": [
    "# 국적이 한국(Korea Republic)이면 True, 그렇지 않으면 False를 korea_player(시리즈)에 저장함.\n",
    "korea_player = fifa2019['Nationality'] == 'Korea Republic'\n",
    "print(korea_player)\n",
    "print(type(korea_player))\n",
    "\n",
    "# (실습)korea_player가 True 인 한국 국적의 선수 데이터수 출력 \n",
    "sub5 = fifa2019.\n",
    "print(sub5)"
   ]
  },
  {
   "cell_type": "markdown",
   "metadata": {
    "colab_type": "text",
    "id": "2_NAJRWl5f_O"
   },
   "source": [
    "### [Step 6] 우리나라 선수들의 이름 출력하기\n"
   ]
  },
  {
   "cell_type": "code",
   "execution_count": null,
   "metadata": {
    "colab": {},
    "colab_type": "code",
    "id": "YdPCmsSc5h8M"
   },
   "outputs": [],
   "source": [
    "# 국적이 한국인 선수들의 이름값을 sub6에 저장하기 \n",
    "sub6 = sub5[\"Name\"]\n",
    "print(sub6)"
   ]
  },
  {
   "cell_type": "markdown",
   "metadata": {
    "colab_type": "text",
    "id": "Z_rs7M505ybE"
   },
   "source": [
    "## 04. 데이터 시각화하기 "
   ]
  },
  {
   "cell_type": "markdown",
   "metadata": {
    "colab_type": "text",
    "id": "XCRWEmKI6Ag9"
   },
   "source": [
    "### [Step 1] 선수들이 선호하는 발의 종류 데이터를 막대그래프로 나타내기\n"
   ]
  },
  {
   "cell_type": "code",
   "execution_count": null,
   "metadata": {
    "colab": {},
    "colab_type": "code",
    "id": "01tjsaCw6DOO"
   },
   "outputs": [],
   "source": [
    "# matplotlib.pyplot 불러오기\n",
    "import matplotlib.pyplot as plt\n",
    "\n",
    "#(실습) 선호하는 발의 종류 세기\n",
    "res = \n",
    "print(res)\n",
    "\n",
    "res.plot(kind='bar')\n",
    "\n",
    "# 범례 표시하기\n",
    "plt.legend()\n",
    "\n",
    "# 그래프 출력하기 \n",
    "plt.show()"
   ]
  },
  {
   "cell_type": "markdown",
   "metadata": {
    "colab_type": "text",
    "id": "5r_Yh25E7eXN"
   },
   "source": [
    "### [Step 2] 선수들이 선호하는 발의 종류를 원 그래프로 나타내기\n"
   ]
  },
  {
   "cell_type": "code",
   "execution_count": null,
   "metadata": {
    "colab": {},
    "colab_type": "code",
    "id": "M6srRbpR7hDe"
   },
   "outputs": [],
   "source": [
    "\n",
    "## 선호하는 발의 종류 세기\n",
    "res = fifa2019['Preferred Foot'].value_counts()\n",
    "print(res)\n",
    "\n",
    "# (실습) 판다스의 원 그래프(pie) 그리기\n",
    "res.\n",
    "\n",
    "# 범례 표시하기\n",
    "plt.legend()\n",
    "\n",
    "# 그래프 출력하기 \n",
    "plt.show()"
   ]
  }
 ],
 "metadata": {
  "colab": {
   "authorship_tag": "ABX9TyMahYC1w2hnTt7G3WZ+BTBr",
   "collapsed_sections": [],
   "name": "[실습]15-내가 만약 축구팀 감독이라면 .ipynb",
   "provenance": []
  },
  "kernelspec": {
   "display_name": "Python 3",
   "language": "python",
   "name": "python3"
  },
  "language_info": {
   "codemirror_mode": {
    "name": "ipython",
    "version": 3
   },
   "file_extension": ".py",
   "mimetype": "text/x-python",
   "name": "python",
   "nbconvert_exporter": "python",
   "pygments_lexer": "ipython3",
   "version": "3.8.5"
  }
 },
 "nbformat": 4,
 "nbformat_minor": 1
}
