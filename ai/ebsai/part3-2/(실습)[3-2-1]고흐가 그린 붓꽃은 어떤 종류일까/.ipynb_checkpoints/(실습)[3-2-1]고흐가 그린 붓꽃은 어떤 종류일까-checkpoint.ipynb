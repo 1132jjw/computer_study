{
 "cells": [
  {
   "cell_type": "markdown",
   "metadata": {
    "colab_type": "text",
    "id": "LbtqlyyUCsY2"
   },
   "source": [
    "# 고흐가 그린 붓꽃은 어떤 종류일까?\n",
    "- 제목: Irises\n",
    "- 제작자: Vincent van Gogh\n",
    "- 제작연도: 1889\n",
    "\n",
    "  [Irises - Vincent van Gogh ](https://artsandculture.google.com/asset/irises/DgFVFAJo_30MeQ?hl=ko)\n",
    "\n",
    "- Iris 종류 : Iris-setosa, Iris-versicolor, Iris-virginica"
   ]
  },
  {
   "cell_type": "markdown",
   "metadata": {
    "colab_type": "text",
    "id": "dbZ4v5v4Cznq"
   },
   "source": [
    "## 01 데이터 수집하기 \n",
    "\n",
    "- https://www.kaggle.com/uciml/iris\n",
    "\n",
    "- 붓꽃 특성 이름 \n",
    "  - 꽃받침 길이 : SepalLengthCm\n",
    "  - 꽃받침 너비 : SepalWidthCm\n",
    "  - 꽃잎 길이 : PetalLengthCm\n",
    "  - 꽃잎 너비 : PetalWidthCm\n",
    "  - 꽃 종류 : Species \n",
    "    - Iris 종류 : Iris-setosa, Iris-versicolor, Iris-virginica"
   ]
  },
  {
   "cell_type": "markdown",
   "metadata": {
    "colab_type": "text",
    "id": "JmgR5xPoDW1j"
   },
   "source": [
    "## 02 데이터 불러오기 "
   ]
  },
  {
   "cell_type": "markdown",
   "metadata": {
    "colab_type": "text",
    "id": "sCF6jOL1N3-5"
   },
   "source": [
    "### [Step 1] 붓꽃 데이터를 불러와 출력하기\n",
    "\n",
    "<table align =\"left\">\n",
    "<tr><td>id</td><td>SepalLengthCm</td><td>SepalWidthCm</td><td>PetalLengthCm</td><td>PetalWidthCm</td><td>Species</td></tr>\n",
    "</table><br>\n",
    "\n",
    "##### - CSV 파일을 읽기\n",
    "  1. 먼저 파이썬에 기본 내장된 csv 모듈을 import 함\n",
    "  2. csv 파일 OPEN (파일객체)\n",
    "  3. 파일객체를 csv.reader(파일객체) 에 넣기  \n",
    "     - csv.reader() 함수 : Iterator 타입인 reader 객체를 리턴하므로 for 루프를 돌며 한 라인씩 가져올 수 있음 "
   ]
  },
  {
   "cell_type": "code",
   "execution_count": null,
   "metadata": {
    "colab": {},
    "colab_type": "code",
    "id": "qN7sWCIJPvnb"
   },
   "outputs": [],
   "source": [
    "# Iris.csv 파일 업로드하기 \n",
    "from google.colab import files\n",
    "\n",
    "uploaded = files.upload()"
   ]
  },
  {
   "cell_type": "code",
   "execution_count": null,
   "metadata": {
    "colab": {},
    "colab_type": "code",
    "id": "nEKDQ8quD8VV"
   },
   "outputs": [],
   "source": [
    "# (실습) csv 파일 데이터 불러오기 위한 csv 모듈 선언\n",
    "\n",
    "\n",
    "# (실습) Iris.csv 파일 열기\n",
    "f= open('')\n",
    "\n",
    "# (실습) Iris.csv 파일속 데이터를 읽어서(csv.reader)data 객체에 저장하기 \n",
    "data = \n",
    "\n",
    "# 전체 데이터를 행별로 result 리스트에 추가 및 출력하기 \n",
    "# (실습) 빈 리스트 result 만들기\n",
    "result = []\n",
    "\n",
    "# (실습) 전체 데이터를 행별로 result 리스트에 추가 및 출력하기 \n",
    "for row in data :\n",
    "               # 행별로 데이터 추가하기\n",
    "  print(row)           # 행별로 데이터 출력하기 "
   ]
  },
  {
   "cell_type": "markdown",
   "metadata": {
    "colab_type": "text",
    "id": "J7qg9nzaE2th"
   },
   "source": [
    "### [Step 2] 여러개의 자료형 변환하기 \n",
    "- 제목을 따로 저장하고, 실제 데이터만을 이용해 result 리스트에 저장하기\n",
    "- result에 저장된 값 중 꽃받침과 꽃잎의 길이, 너비값(1~4)을 실수형으로 변환하기 \n",
    "  - 숫자형으로 변환해야 함 : 정수형(int), 실수형(float)"
   ]
  },
  {
   "cell_type": "code",
   "execution_count": null,
   "metadata": {
    "colab": {},
    "colab_type": "code",
    "id": "E4H-CRLjFGS6"
   },
   "outputs": [],
   "source": [
    "# csv 파일 데이터 불러오기 위한 모듈 선언\n",
    "import csv\n",
    "\n",
    "# Iris.csv 파일 열기\n",
    "f= open('Iris.csv')\n",
    "\n",
    "# Iris.csv 파일속 데이터를 data에 저장하기 \n",
    "data = csv.reader(f)\n",
    "\n",
    "## (실습) 제목을 따로 저장하기 위한 명령 : next(data) - 다음 행 \n",
    "header = \n",
    "print(header, type(header))\n",
    "\n",
    "# 전체 데이터를 행별로 result 리스트에 저장 및 출력하기 \n",
    "# 빈 리스트 result 만들기\n",
    "result = []\n",
    "\n",
    "# 전체 데이터를 행별로 result 리스트에 저장 및 출력하기 \n",
    "for row in data :\n",
    "  result.append(row)   # 행별로 데이터 저장하기\n",
    "  print(row)           # 행별로 데이터 출력하기 \n",
    "\n",
    "# (실습) result에 저장된 값 중 꽃받침과 꽃잎의 길이, 너비값(1~4)을 실수로 변환한 후 출력하기 \n",
    "# 행(i), 열(j)\n",
    "\n",
    "\n",
    "\n",
    "\n"
   ]
  },
  {
   "cell_type": "markdown",
   "metadata": {
    "colab_type": "text",
    "id": "1vhJoBKhJZRu"
   },
   "source": [
    "## 03 데이터 다루기"
   ]
  },
  {
   "cell_type": "markdown",
   "metadata": {
    "colab_type": "text",
    "id": "0YO1NDgvJcAB"
   },
   "source": [
    "###[Step 1] 붓꽃 데이터를 종류별로 따로 저장하기 \n",
    "- ['Id', SepalLengthCm, SepalWidthCm, PetalLengthCm, PetalWidthCm, 'Species'] 에서 5번 인덱스에 있는 꽃을 종류별로 구분해 저장하기 "
   ]
  },
  {
   "cell_type": "code",
   "execution_count": null,
   "metadata": {
    "colab": {},
    "colab_type": "code",
    "id": "m6nqwcGMJgWx"
   },
   "outputs": [],
   "source": [
    "# 꽃 종류별 데이터 저장하기 \n",
    "a = []   # Iris-setosa 정보를 저장할 리스트 만들기 \n",
    "b = []   # Iris-versicolor 정보를 저장할 리스트 만들기\n",
    "c = []   # Iris-virginica 정보를 저장할 리스트 만들기 \n",
    "\n",
    "# (실습) 각 행별로 5번 인덱스에 있는 꽃을 종류별로 구분해 데이터 저장하기 (인덱스 : 0~4) \n",
    "\n",
    "for i in result: \n",
    "  \n",
    "\n",
    "\n",
    "\n",
    "\n",
    "\n",
    "print(a)\n",
    "print(b)\n",
    "print(c)"
   ]
  },
  {
   "cell_type": "markdown",
   "metadata": {
    "colab_type": "text",
    "id": "3Rfv28ffKwcK"
   },
   "source": [
    "### [Step 2] Iris-setosa의 꽃잎과 꽃받침 길이, 너비에 따른 평균 구하기\n",
    "- 붓꽃 특성\n",
    "  - 꽃받침 길이 : SepalLengthCm -> SL\n",
    "  - 꽃받침 너비 : SepalWidthCm -> SW\n",
    "  - 꽃잎 길이 : PetalLengthCm -> PL\n",
    "  - 꽃잎 너비 : PetalWidthCm -> PW\n",
    "\n",
    "- a 리스트 : Iris-setosa 정보 저장한 리스트 \n",
    "- b 리스트 : Iris-versicolor 정보 저장할 리스트\n",
    "- c 리스트 : Iris-virginica 정보 저장할 리스트\n",
    "  - ['Id', 'SepalLengthCm', 'SepalWidthCm', 'PetalLengthCm', 'PetalWidthCm']"
   ]
  },
  {
   "cell_type": "code",
   "execution_count": null,
   "metadata": {
    "colab": {},
    "colab_type": "code",
    "id": "xoG1zwekLG-F"
   },
   "outputs": [],
   "source": [
    "SL = []   # 꽃받침 길이 : SepalLengthCm 리스트 만들기 \n",
    "SW = []   # 꽃받침 너비 : SepalWidthCm 리스트 만들기\n",
    "PL = []   # 꽃잎 길이 : PetalLengthCm 리스트 만들기 \n",
    "PW = []   # 꽃잎 너비 : PetalWidthCm 리스트 만들기 \n",
    "\n",
    "# Iris-setosa의 전체 데이터 수만큼 반복하기\n",
    "for i in a : \n",
    "  SL.append(i[1])  # 꽃받침 길이 추가하기\n",
    "  SW.append(i[2])  # 꽃받침 너비 추가하기 \n",
    "  PL.append(i[3])  # 꽃잎 길이 추가하기\n",
    "  PW.append(i[4])  # 꽃잎 너비 추가하기 \n",
    "\n",
    "# 제목 출력\n",
    "print(\"< Iris-setosa의 특성별 평균 >\")\n",
    "\n",
    "# (실습) 평균 구해서 반올림해서 3자리까지 출력하기 \n",
    "print(\"꽃받침 길이(SL) 평균 : \",   )\n",
    "print(\"꽃받침 너비(SW) 평균 : \",   )\n",
    "print(\"꽃잎 길이(PL) 평균 : \", round(sum(PL)/len(PL), 3))\n",
    "print(\"꽃잎 너비(PW) 평균 : \", round(sum(PW)/len(PW), 3))"
   ]
  },
  {
   "cell_type": "markdown",
   "metadata": {
    "colab_type": "text",
    "id": "uD-2Pqx_NLnq"
   },
   "source": [
    "###[Step 3] Iris-setosa의 꽃잎과 꽃받침 길이, 너비의 중앙값 구하기 \n",
    "- 중앙값 : 여러개의 값을 오름차순으로 정렬한 후, 중앙에 위치한 값을 찾기\n",
    "\n",
    "- len(리스트명) : 리스트 요소갯수 \n",
    "- 리스트명.sort() : 리스트의 값을 오름차순으로 나열하는 내장함수 \n",
    "- 붓꽃 특성\n",
    "  - 꽃받침 길이 : SepalLengthCm -> SL\n",
    "  - 꽃받침 너비 : SepalWidthCm -> SW\n",
    "  - 꽃잎 길이 : PetalLengthCm -> PL\n",
    "  - 꽃잎 너비 : PetalWidthCm -> PW"
   ]
  },
  {
   "cell_type": "code",
   "execution_count": null,
   "metadata": {
    "colab": {},
    "colab_type": "code",
    "id": "QHkKIP_6NudC"
   },
   "outputs": [],
   "source": [
    "# (실습) Iris-setosa의 꽃받침 길이(SL), 꽃받침 너비(SW) 꽃잎 길이(PL), 꽃잎 너비(PW) 오름차순 구하기 \n",
    "\n",
    "\n",
    "\n",
    "\n",
    "# (실습) Iris-setosa의 전체 개수를 2로 나누어 중앙에 해당되는 위치(인덱스, m) 구하기 \n",
    "m = \n",
    "\n",
    "# 제목 출력하기 \n",
    "print(\"< Iris-setosa의 특성별 중앙값 >\")\n",
    "\n",
    "# 중앙값 구하기 \n",
    "print(\"꽃받침 길이 중앙값 : \", SL[m])\n",
    "print(\"꽃받침 너비 중앙값 : \", SW[m])\n",
    "print(\"꽃잎 길이 중앙값 : \", PL[m])\n",
    "print(\"꽃잎 너비 중앙값 : \", PW[m])"
   ]
  },
  {
   "cell_type": "markdown",
   "metadata": {
    "colab_type": "text",
    "id": "0yZSJwsQPbOZ"
   },
   "source": [
    "## 04 데이터 시각화하기 "
   ]
  },
  {
   "cell_type": "markdown",
   "metadata": {
    "colab_type": "text",
    "id": "PT6-eY5nPsRY"
   },
   "source": [
    "###[Step 1] Iris.csv 파일에 있는 전체 데이터 요약하기 \n",
    "- pandas 를 이용하여 데이터프레임(iris)을 만들어서 \n",
    "  1. 처음 2개 행 데이터 출력하기\n",
    "  2. 데이터프레임 요약 출력하기\n",
    "  3. 데이터프레임 통계값 요약 출력하기  : 갯수, 평균, 표준편차, 최솟값, 최댓값 등등 "
   ]
  },
  {
   "cell_type": "code",
   "execution_count": null,
   "metadata": {
    "colab": {},
    "colab_type": "code",
    "id": "DWKnlk2FPx0z"
   },
   "outputs": [],
   "source": [
    "import pandas as pd\n",
    "\n",
    "# (실습)iris 데이터프레임 생성하기(Iris.csv)\n",
    "iris = \n",
    "\n",
    "# (실습) iris의 처음 2개 행의 데이터 출력하기\n",
    "print(     )\n",
    "\n",
    "# (실습) iris 데이터프레임 요약한 것 출력하기\n",
    "print(     )\n",
    "\n",
    "# (실습) iris 데이터프레임의 통계값 요약 출력하기 \n",
    "# 갯수, 평균, 표준편차, 최솟값, 최댓값 등 출력 \n",
    "print(     )"
   ]
  },
  {
   "cell_type": "markdown",
   "metadata": {
    "colab_type": "text",
    "id": "fCxAtIbAQmZ2"
   },
   "source": [
    "### [Step 2] 꽃받침 길이와 너비를 분산형 그래프로 나타내기 \n",
    "- x축 : 꽃받침 길이(SepalLengthCm)\n",
    "- y축 : 꽃받침 너비(SepalWidthCm)\n",
    "- 그래프 종류 : 분산형(scatter)\n",
    "- 종류별 색깔(iris.Species)\n",
    "  -  'Iris-setosa' : 오렌지색('orange')\n",
    "  -  'Iris-versicolor' : 파란색('blue')\n",
    "  - 'Iris-virginica' : 녹색('green')\n",
    "\n",
    "#### pandas의 plot() 메소드\n",
    "- 시리즈나 데이터프레임에 plot() 이라는 시각화 메소드를 내장함\n",
    "- plot() : matplotlib을 내부에서 임포트하여 사용함\n",
    "\n",
    "#### matplotlib \n",
    "- fig(figure)\n",
    "  - 그림이 그려지나 캔버스나 종이\n",
    "- axis(축)\n",
    "  - 가로축이나 세로축 등의 축 \n",
    "- ax(axes) \n",
    "  - figure 내에서 축(axis)을 가지는 하나의 좌표평면과 같은 개념, 실제로 데이터가 그려지는 곳"
   ]
  },
  {
   "cell_type": "code",
   "execution_count": null,
   "metadata": {
    "colab": {},
    "colab_type": "code",
    "id": "MbNC0pWk4JaG"
   },
   "outputs": [],
   "source": [
    "# (실습) iris 데이터프레임에서 아이리스 종류가 [iris.Species == 'Iris-setosa']인 값만 출력\n",
    "print(     )"
   ]
  },
  {
   "cell_type": "code",
   "execution_count": null,
   "metadata": {
    "colab": {},
    "colab_type": "code",
    "id": "DLtAgKxLQqel"
   },
   "outputs": [],
   "source": [
    "import matplotlib.pyplot as plt\n",
    "\n",
    "# 꽃받침 길이(SepalLength)와 너비(SepalWidth)에 따른 분산형(scatter) 그래프\n",
    "# Iris의 종류(Species)에 따라 색깔별로 분산형 그래프 그리기 (ax = fig 같은 좌표평면에 fig 넣기)\n",
    "# Iris-setosa('orange'), Iris-versicolor('blue'), Iris-virginica('green')\n",
    "fig = iris[ iris.Species == 'Iris-setosa'].\n",
    "iris[ iris.Species == 'Iris-versicolor'].plot(kind='scatter',x = 'SepalLengthCm', y = 'SepalWidthCm', color='blue', label = 'versicolor')\n",
    "iris[ iris.Species == 'Iris-virginica'].plot(kind='scatter',x = 'SepalLengthCm', y = 'SepalWidthCm', color='green', label = 'virginica')\n",
    "\n",
    "fig.set_xlabel('Sepal Length')\n",
    "fig.set_ylabel('Sepal Width')\n",
    "fig.set_title('Sepal Length vs Width')\n",
    "\n",
    "# plt.gcf() : Get the current figure (figure의 설정정보 확인 가능 )\n",
    "#fig = \n",
    "\n",
    "# fig.set_size_inches(10, 6) : 그래프의 크기를 인치로 지정함 \n",
    "fig.set_size_inches(10, 6)\n",
    "plt.show()"
   ]
  },
  {
   "cell_type": "markdown",
   "metadata": {
    "colab_type": "text",
    "id": "j2csyDiq-Swo"
   },
   "source": [
    "###[Step 3] 꽃잎의 길이와 너비를 분산형 그래프로 나타내기"
   ]
  },
  {
   "cell_type": "code",
   "execution_count": null,
   "metadata": {
    "colab": {},
    "colab_type": "code",
    "id": "tmyFMCp5_m06"
   },
   "outputs": [],
   "source": [
    "# 꽃잎(Petal)의 길이(PetalLengthCm)와 너비(PetalWidthCm)에 따른 분산형(scatter) 그래프\n",
    "fig = iris[ iris.Species == 'Iris-setosa'].plot(kind = 'scatter', x = 'PetalLengthCm', y = 'PetalWidthCm', color = 'orange', label = 'setosa')\n",
    "iris[iris.Species == 'Iris-versicolor'].plot(kind = 'scatter', x = 'PetalLengthCm', y = 'PetalWidthCm', color = 'blue', label = 'versicolor', ax = fig)\n",
    "iris[iris.Species == 'Iris-virginica'].plot(kind = 'scatter', x = 'PetalLengthCm', y = 'PetalWidthCm', color = 'green', label = 'virginica', ax = fig)\n",
    "\n",
    "# 제목, x, y 축 제목\n",
    "fig.set_title('Petal Length vs Width')\n",
    "fig.set_xlabel('Petal Length')\n",
    "fig.set_ylabel('Petal Width')\n",
    "\n",
    "# plt.gcf() : Get the current figure (figure의 설정정보 확인 가능)\n",
    "fig = plt.gcf()\n",
    "fig.set_size_inches(10, 6)\n",
    "plt.show()"
   ]
  }
 ],
 "metadata": {
  "colab": {
   "collapsed_sections": [],
   "name": "[실습]18-고흐가 그린 붓꽃은 어떤 종류일까.ipynb",
   "provenance": []
  },
  "kernelspec": {
   "display_name": "Python 3",
   "language": "python",
   "name": "python3"
  },
  "language_info": {
   "codemirror_mode": {
    "name": "ipython",
    "version": 3
   },
   "file_extension": ".py",
   "mimetype": "text/x-python",
   "name": "python",
   "nbconvert_exporter": "python",
   "pygments_lexer": "ipython3",
   "version": "3.8.5"
  }
 },
 "nbformat": 4,
 "nbformat_minor": 1
}
