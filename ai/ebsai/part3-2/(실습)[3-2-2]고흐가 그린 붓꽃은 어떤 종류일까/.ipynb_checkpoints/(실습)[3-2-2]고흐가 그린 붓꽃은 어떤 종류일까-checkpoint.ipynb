{
 "cells": [
  {
   "cell_type": "markdown",
   "metadata": {
    "colab_type": "text",
    "id": "EZ7a9Vx3T7Sa"
   },
   "source": [
    "# 고흐가 그린 붓꽃은 어떤 종류일까?"
   ]
  },
  {
   "cell_type": "markdown",
   "metadata": {
    "colab_type": "text",
    "id": "EMdTS3vpT_F5"
   },
   "source": [
    "## 05 학습하기 \n",
    "\n"
   ]
  },
  {
   "cell_type": "markdown",
   "metadata": {
    "colab_type": "text",
    "id": "dKi4lghpUHM1"
   },
   "source": [
    "## 5-1. K-최근접 이웃(K-Nearest Neighbor, K-NN) 알고리즘이란?\n",
    "- 새로운 데이터가 들어왔을 때 특성공간내에 데이터간의 거리가 가까운 데이터를 찾아서 그것의 레이블의 값으로 분류하는 알고리즘 \n",
    "- K : 새로 입력된 데이터를 기준으로 가장 거리가 가까운 데이터의 개수 "
   ]
  },
  {
   "cell_type": "markdown",
   "metadata": {
    "colab_type": "text",
    "id": "KAlm6YSGUrzD"
   },
   "source": [
    "## 5-2. K-NN 알고리즘을 이용한 붓꽃 분류기 \n",
    "```python\n",
    "def 붓꽃분류기(분류하고 싶은 데이터, 분류된 데이터, K):\n",
    "  1) 분류하고 싶은 데이터와 분류된 데이터 사이의 거리 계산하기\n",
    "  2) 분류하고 싶은 데이터와 가까운 순서대로 나열하기\n",
    "  3) 가장 가까운 K개 데이터 중에서 레이블별 빈도 세기 \n",
    "  4) return K개 데이터 중 최다 빈도의 붓꽃 레이블값 반환하기\n",
    "```\n"
   ]
  },
  {
   "cell_type": "markdown",
   "metadata": {
    "colab_type": "text",
    "id": "M1FcxM1RVJZQ"
   },
   "source": [
    "## 5-3. 프로그램 작성하기 \n"
   ]
  },
  {
   "cell_type": "markdown",
   "metadata": {
    "colab_type": "text",
    "id": "sCF6jOL1N3-5"
   },
   "source": [
    "### [Step 1] 붓꽃 데이터를 불러와 출력하기\n",
    "- https://www.kaggle.com/uciml/iris"
   ]
  },
  {
   "cell_type": "code",
   "execution_count": null,
   "metadata": {
    "colab": {},
    "colab_type": "code",
    "id": "qN7sWCIJPvnb"
   },
   "outputs": [],
   "source": [
    "# Iris.csv 파일 업로드하기 \n",
    "from google.colab import files\n",
    "\n",
    "uploaded = files.upload()"
   ]
  },
  {
   "cell_type": "code",
   "execution_count": null,
   "metadata": {
    "colab": {},
    "colab_type": "code",
    "id": "qerWRaigVvRm"
   },
   "outputs": [],
   "source": [
    "# 데이터 불러오기\n",
    "import pandas as pd\n",
    "\n",
    "# (실습) 붖꽃 파일 불러와 iris 데이터프레임 만들기\n",
    "iris = pd.read_csv('Iris.csv')    \n",
    "\n",
    "# (실습) 처음부터 5개까지 데이터 출력하기\n",
    "print(    )"
   ]
  },
  {
   "cell_type": "markdown",
   "metadata": {
    "colab_type": "text",
    "id": "-nEecsfrV53s"
   },
   "source": [
    "### [Step 2] 150개 데이터의 특성 데이터와 종류 데이터를 나누어 저장하기 \n",
    "- 붓꽃 특성 :features 저장\n",
    "  - 꽃받침 길이 : SepalLengthCm (1번 인덱스)\n",
    "  - 꽃받침 너비 : SepalWidthCm (2번 인덱스)\n",
    "  - 꽃잎 길이 : PetalLengthCm (3번 인덱스)\n",
    "  - 꽃잎 너비 : PetalWidthCm (4번 인덱스)\n",
    "\n",
    "- 붓꽃 종류 : target_value 저장\n",
    "  - 꽃 종류 : Species (5번 인덱스)\n",
    "    - Iris 종류 : Iris-setosa, Iris-versicolor, Iris-virginica"
   ]
  },
  {
   "cell_type": "code",
   "execution_count": null,
   "metadata": {
    "colab": {},
    "colab_type": "code",
    "id": "9n3cWJyNWCFk"
   },
   "outputs": [],
   "source": [
    "# 150개 데이터의 특성 데이터(features)와 종류 데이터(target_value)를 나누어 저장하기\n",
    "# (실습) numpy 불러오기\n",
    "import numpy as np\n",
    "\n",
    "# 계산의 편의를 위해 데이터셋의 형식을 numpy로 변환\n",
    "# (실습) iris 데이터프레임을 넘파이 배열로 변경하기 \n",
    "xy = \n",
    "\n",
    "# (실습) 배열의 1~4번 인덱스 데이터를 features 배열에 저장\n",
    "features =\n",
    "print(features)\n",
    "\n",
    "# (실습) 배열의 마지막 인덱스의 데이터 target_value 배열에 저장\n",
    "target_value = \n",
    "print(target_value)"
   ]
  },
  {
   "cell_type": "markdown",
   "metadata": {
    "colab_type": "text",
    "id": "PHR-bT-XWUEB"
   },
   "source": [
    "###[Step 3] 유클리드 거리법을 이용하여 두 데이터간의 거리를 구하는 함수 선언하기\n",
    "- 유클리디안 거리 계산함수 만들기 \n",
    "\n",
    "   $ Distance(A, B) = \\sqrt{(A - B)^2} $\n",
    "\n",
    "   $ ex) A(x_1, y_1), B(x_2, y_2)$ <br>\n",
    "   - $ Distance(A,B) = \\sqrt{{(x_2 - x_1)^2} + {(y_2 - y_1)^2}}$"
   ]
  },
  {
   "cell_type": "code",
   "execution_count": null,
   "metadata": {
    "colab": {},
    "colab_type": "code",
    "id": "3DlPHBABWYkc"
   },
   "outputs": [],
   "source": [
    "# (실습) Distance 함수 만들기\n",
    "def Distance(A, B):\n",
    "    return "
   ]
  },
  {
   "cell_type": "markdown",
   "metadata": {
    "colab_type": "text",
    "id": "IZz--FcUwpVN"
   },
   "source": [
    "- [Tip] 유클리디안 거리 계산함수 예"
   ]
  },
  {
   "cell_type": "code",
   "execution_count": null,
   "metadata": {
    "colab": {},
    "colab_type": "code",
    "id": "RD506lCDW2Y4"
   },
   "outputs": [],
   "source": [
    "import numpy as np\n",
    "\n",
    "# 두 점 A(1, 2)와 B(5, 7) 선언\n",
    "A = np.array([1, 2])\n",
    "B = np.array([5, 7])\n",
    "\n",
    "# 두 점 사이의 거리를 계산하여 변수 distance에 저장하기 \n",
    "#distance = np.sqrt(np.sum(np.power((A-B), 2)))\n",
    "distance = Distance(A, B)\n",
    "print(distance)\n",
    "\n",
    "# 변수 distance에 저장된 값을 소수점 셋째자리에서 반올림하기 \n",
    "distance = round(distance, 2)\n",
    "\n",
    "# 계산결과 출력하기 \n",
    "print(\"두 점 A(1, 2)와 B(5, 7) 사이의 거리는 {0} 입니다.\".format(distance))"
   ]
  },
  {
   "cell_type": "markdown",
   "metadata": {
    "colab_type": "text",
    "id": "NSny0tuzX4WJ"
   },
   "source": [
    "[Step 4] 붓꽃 분류 작성하기 "
   ]
  },
  {
   "cell_type": "markdown",
   "metadata": {
    "colab_type": "text",
    "id": "1IqnXWJLF1qi"
   },
   "source": [
    "\n",
    "\n",
    "```python\n",
    "def 붓꽃분류기(분류하고 싶은 데이터, 분류된 데이터, K):\n",
    "  1) 분류하고 싶은 데이터와 분류된 데이터 사이의 거리 계산하기\n",
    "  2) 분류하고 싶은 데이터와 가까운 순서대로 나열하기\n",
    "  3) 가장 가까운 K개 데이터 중에서 레이블별 빈도 세기 \n",
    "  4) return K개 데이터 중 최다 빈도의 붓꽃 레이블값 반환하기\n",
    "```\n",
    "\n",
    "  - Unknown : 분류하고 싶은 데이터\n",
    "  - features : 분류된 데이터(붓꽃 특성 데이터)\n",
    "  - target_value : 붓꽃 종류\n",
    "\n",
    "#### **< 아이리스 붓꽃 분류기 만들기 >**   \n",
    "**① 거리 구하기**\n",
    "```\n",
    " distance = [4.16, ….0.27, ….0.3, …. 0.26]\n",
    " ```\n",
    "**② 거리가 작은 순으로 인덱스 저장하기(index)**\n",
    "```\n",
    "  index = [149, 127, 139 … …. ]\n",
    "```\n",
    "**③ 거리가 가장 가까운 곳의 붓꽃 종류 추가**\n",
    "  - target_value : 붓꽃 종류가 들어있는 배열 \n",
    "  - result : target_result에 붓꽃 종류가 들어오면 각 인덱스 위치값을 하나씩 증가하기 (0번 : Iris-setosa, 1번 : Iris-versicolor, 2번 : Iris-virginica)\n",
    "```\n",
    "target_value[index[0]]  > Iris-virginica > result[2] +=1\n",
    "target_value[index[1]] > Iris-virginica > result[2] +=1\n",
    "target_value[index[2]] > Iris-virginica > result[2] +=1\n",
    "```\n"
   ]
  },
  {
   "cell_type": "code",
   "execution_count": null,
   "metadata": {
    "colab": {},
    "colab_type": "code",
    "id": "AF6U7JXvF1qk"
   },
   "outputs": [],
   "source": [
    "# 붓꽃 분류기 함수 K_NN(기준이 될 데이터, 붓꽃 특성 데이터, K) 작성하기\n",
    "# Unknown(분류하고 싶은 데이터), features(분류된 데이터, 붓꽃 특성 데이터), K(가장 가까운 데이터 갯수)\n",
    "\n",
    "def K_NN(Unknown,features,K):\n",
    "    # ①_데이터간의 거리 계산\n",
    "    # distance_result(유클리디안 거리 계산 결과 저장할 데이터)\n",
    "    distance_result = np.zeros(150) \n",
    "    for i in  range(150):\n",
    "      # (실습) 유클리디안 거리 구해서 저장하기\n",
    "        distance_result[i]= \n",
    "    print(\"distance_result : \",distance_result)\n",
    "\n",
    "    # ②_분류하려는 데이터와 가까운 순서대로 나열 : 작은값부터 순서대로 데이터의 인덱스 반환해줌(0 : 가장 작은 값) \n",
    "    # (실습) 계산된 거리값이 증가하는 순으로 인덱스가 정렬됨 : index(거리가 가장 작은 값 순으로 인덱스를 저장한 배열)\n",
    "    index = \n",
    "    print(\"index = \", index)   # 가장 작은 값의 인덱스가 149임 \n",
    "    \n",
    "    # ③_K개 데이터의 레이블(붓꽃)을 저장할 target_result 선언 \n",
    "    # target_result : 거리가 가장 가까운 곳의 붓꽃 종류를 추가하는 배열 \n",
    "    # result(target_result에 붓꽃 종류가 들어오면 각 인덱스위치값을 하나씩 증가하기) - (예) setosa이면 0번 인덱스 1씩 증가\n",
    "    target_result = []\n",
    "    result=[0,0,0]   # 0번 : Iris-setosa, 1번 : Iris-versicolor, 2번 : Iris-virginica\n",
    "    # K = 3이면 i : 0~2\n",
    "    for i in range(K):\n",
    "      # index[0] : 거리가 가장 가까운 곳의 인덱스 반환 / target_result(거리가 가장 가까운 곳의 붓꽃 종류 추가)\n",
    "      # (실습)거리가 가장 가까운 곳의 붓꽃 종류 추가\n",
    "        target_result.append(          )\n",
    "        if target_result[i]=='Iris-setosa':\n",
    "           result[0]+=1\n",
    "        elif target_result[i]=='Iris-versicolor':\n",
    "             result[1]+=1\n",
    "        else:\n",
    "             result[2]+=1\n",
    "    print(\"target_result\", target_result)\n",
    "    # ④_레이블의 빈도가 가장 높은 값 반환\n",
    "    # (실습) result에 있는 값중 가장 큰 값의 인덱스를 max_result에 저장함 \n",
    "    max_label=result.index(max(result))\n",
    "    species = {0:\"setosa\", 1:\"versicolor\", 2:\"virginica\"}\n",
    "    species_result = species[max_label]\n",
    "    return species_result"
   ]
  },
  {
   "cell_type": "markdown",
   "metadata": {
    "colab_type": "text",
    "id": "Oy47W72MaD-b"
   },
   "source": [
    "###[Step 5] 붓꽃 분류 함수를 사용하여 가상의 데이터 분류하기 \n",
    "- Iris.csv 파일의 150개 붓꽃 데이터 중 마지막 150번째 데이터와 150번째 데이터와 유사한 가상의 데이터를 만들어서 분류결과 확인하기 \n",
    "```\n",
    "<test_1>\n",
    "Id\tSepalLengthCm\tSepalWidthCm\tPetalLengthCm\tPetalWidthCm\tSpecies\n",
    "149\t     6.2\t         3.4\t         5.4\t         2.3\t    Iris-virginica\n",
    "<test_2>\n",
    "SepalLengthCm    SepalWidthCm    PetalLengthCm    PetalWidthCm\n",
    "6                     2.9             5                2\n",
    "```\n",
    "\n"
   ]
  },
  {
   "cell_type": "code",
   "execution_count": null,
   "metadata": {
    "colab": {},
    "colab_type": "code",
    "id": "RJIbbfsnaJ5D"
   },
   "outputs": [],
   "source": [
    "# (실습) 마지막 150번째 데이터(features 인덱스 번호 : 149)\n",
    "test_1 = \n",
    "\n",
    "# (실습) 150번째와 유사한 가상의 데이터 \n",
    "test_2 = np.array([6, 2.9, 5, 2])\n",
    "\n",
    "# (실습) K_NN 분류 함수를 이용하여 분류하기(K=5)\n",
    "result_1 = \n",
    "result_2 = \n",
    "\n",
    "# 결과 출력\n",
    "print(\"실제 데이터를 분류한 결과 : {}\".format(result_1))\n",
    "print(\"가상 데이터를 분류한 결과 : {}\".format(result_2))"
   ]
  },
  {
   "cell_type": "markdown",
   "metadata": {
    "colab_type": "text",
    "id": "CQcGFNW0cSmr"
   },
   "source": [
    "###[Step 6] 고흐가 그린 붓꽃 그림의 데이터 분류하기 \n",
    "- 고흐 붓꽃 그림의 실제 크기 : 가로 93cm, 세로 71cm\n",
    "\n",
    "\\begin{array}{c|c|c|c}\n",
    "\\text{Id}&\\text{SepalLength}&\\text{SepalWidth}&\\text{PetalLength}&\\text{PetalWidth}\\\\\\hline\n",
    "1&2.7&2.4&1.65&0.67\\\\\n",
    "2&5.84&5.48&3&2.16\\\\\n",
    "3&3.97&4.01&1.7&0.67\n",
    "\\end{array}\n"
   ]
  },
  {
   "cell_type": "code",
   "execution_count": null,
   "metadata": {
    "colab": {},
    "colab_type": "code",
    "id": "vrQGvz4ad-Rd"
   },
   "outputs": [],
   "source": [
    "# 그림에서 수집한 데이터\n",
    "ID_1 = np.array([2.7, 2.4, 1.65, 0.67])\n",
    "ID_2 = np.array([5.84, 5.48, 3, 2.16])\n",
    "ID_3 = np.array([3.97, 4.01, 1.7, 0.67])\n",
    "\n",
    "\n",
    "# (실습) K_NN 분류기 함수를 이용하여 분류하기\n",
    "result_1=\n",
    "result_2=\n",
    "result_3=\n",
    "\n",
    "# 분류 결과 출력하기\n",
    "print(result_1,result_2,result_3)"
   ]
  }
 ],
 "metadata": {
  "colab": {
   "name": "[실습]19-고흐가 그린 붓꽃은 어떤 종류일까?.ipynb",
   "provenance": []
  },
  "kernelspec": {
   "display_name": "Python 3",
   "language": "python",
   "name": "python3"
  },
  "language_info": {
   "codemirror_mode": {
    "name": "ipython",
    "version": 3
   },
   "file_extension": ".py",
   "mimetype": "text/x-python",
   "name": "python",
   "nbconvert_exporter": "python",
   "pygments_lexer": "ipython3",
   "version": "3.8.5"
  }
 },
 "nbformat": 4,
 "nbformat_minor": 1
}
