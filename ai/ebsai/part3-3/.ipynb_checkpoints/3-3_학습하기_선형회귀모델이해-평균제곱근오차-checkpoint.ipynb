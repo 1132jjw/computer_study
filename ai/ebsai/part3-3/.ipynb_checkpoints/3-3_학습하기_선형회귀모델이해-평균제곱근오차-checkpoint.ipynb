{
 "cells": [
  {
   "cell_type": "markdown",
   "metadata": {
    "colab_type": "text",
    "id": "ozIankkPwTUD"
   },
   "source": [
    "###5-1 선형 회귀 모델 이해\n",
    "Linear Regression"
   ]
  },
  {
   "cell_type": "markdown",
   "metadata": {
    "colab_type": "text",
    "id": "0x-_q4zMKTYL"
   },
   "source": [
    "평균기온 | 아이스크림 쇼핑 클릭량\n",
    "--- | ---\n",
    "5   |   15\n",
    "10  |   25\n",
    "15  |   35\n",
    "20  |   ?\n"
   ]
  },
  {
   "cell_type": "code",
   "execution_count": 2,
   "metadata": {
    "colab": {
     "base_uri": "https://localhost:8080/",
     "height": 265
    },
    "colab_type": "code",
    "executionInfo": {
     "elapsed": 1103,
     "status": "ok",
     "timestamp": 1597711210436,
     "user": {
      "displayName": "Jonghwa Park",
      "photoUrl": "https://lh3.googleusercontent.com/a-/AOh14Giy-l9x19U9ycnezZAxcaspNGjWH_bQM_-lIsEW1Q=s64",
      "userId": "13982318291827751519"
     },
     "user_tz": -540
    },
    "id": "lsMXsejowZ1i",
    "outputId": "843728c9-1081-4ef3-aeff-aed784acdc35"
   },
   "outputs": [
    {
     "data": {
      "image/png": "[encoded data removed]",
      "text/plain": [
       "<Figure size 432x288 with 1 Axes>"
      ]
     },
     "metadata": {
      "needs_background": "light",
      "tags": []
     },
     "output_type": "display_data"
    }
   ],
   "source": [
    "import numpy as np\n",
    "import matplotlib.pyplot as plt\n",
    "\n",
    "temp =  np.array([5,10,15])\n",
    "ice =  np.array([15,25,35])\n",
    "\n",
    "plt.plot(temp,ice)\n",
    "plt.scatter(temp,ice)\n",
    "plt.grid()\n",
    "plt.show()"
   ]
  },
  {
   "cell_type": "markdown",
   "metadata": {
    "colab_type": "text",
    "id": "r2yY4Eo5w9Q1"
   },
   "source": [
    "###5-2 좋은 직선을 찾는 기준, 평균 제곱근 오차(RMSE)\n",
    "평균기온($X$) | 아이스크림 쇼핑 클릭량($Y$)\n",
    "--- | ---\n",
    "5   |   16\n",
    "10  |   23\n",
    "15  |   31\n",
    "20  |   50\n",
    "\n",
    "\n",
    "직선의 방정식을 $f_1(X) = 2X + 5$ 라고 생각하고 오차를 구해보자."
   ]
  },
  {
   "cell_type": "code",
   "execution_count": 8,
   "metadata": {
    "colab": {},
    "colab_type": "code",
    "executionInfo": {
     "elapsed": 1044,
     "status": "ok",
     "timestamp": 1597711801788,
     "user": {
      "displayName": "Jonghwa Park",
      "photoUrl": "https://lh3.googleusercontent.com/a-/AOh14Giy-l9x19U9ycnezZAxcaspNGjWH_bQM_-lIsEW1Q=s64",
      "userId": "13982318291827751519"
     },
     "user_tz": -540
    },
    "id": "vO-1gfb1wlIa"
   },
   "outputs": [],
   "source": [
    "#실습 \n",
    "X = np.array([5,10,15, 20]) #평균 기온 X \n",
    "Y = np.array([16,23,31,50]) # 실제 쇼핑 클릭량 Y\n",
    "f1_x = 2*X + 5\n"
   ]
  },
  {
   "cell_type": "markdown",
   "metadata": {
    "colab_type": "text",
    "id": "Iv3Z7UAJNR8f"
   },
   "source": [
    "오차 = 실제값($Y$) - 예측값($f_1(X)$)"
   ]
  },
  {
   "cell_type": "code",
   "execution_count": 9,
   "metadata": {
    "colab": {},
    "colab_type": "code",
    "executionInfo": {
     "elapsed": 951,
     "status": "ok",
     "timestamp": 1597711821799,
     "user": {
      "displayName": "Jonghwa Park",
      "photoUrl": "https://lh3.googleusercontent.com/a-/AOh14Giy-l9x19U9ycnezZAxcaspNGjWH_bQM_-lIsEW1Q=s64",
      "userId": "13982318291827751519"
     },
     "user_tz": -540
    },
    "id": "gsILAmrdxX41"
   },
   "outputs": [],
   "source": [
    "f1_error =  Y - f1_x"
   ]
  },
  {
   "cell_type": "code",
   "execution_count": 10,
   "metadata": {
    "colab": {
     "base_uri": "https://localhost:8080/",
     "height": 53
    },
    "colab_type": "code",
    "executionInfo": {
     "elapsed": 1018,
     "status": "ok",
     "timestamp": 1597711850618,
     "user": {
      "displayName": "Jonghwa Park",
      "photoUrl": "https://lh3.googleusercontent.com/a-/AOh14Giy-l9x19U9ycnezZAxcaspNGjWH_bQM_-lIsEW1Q=s64",
      "userId": "13982318291827751519"
     },
     "user_tz": -540
    },
    "id": "EmCOw2PIxe8x",
    "outputId": "90638645-5106-452e-c276-32751c3417b4"
   },
   "outputs": [
    {
     "name": "stdout",
     "output_type": "stream",
     "text": [
      "[ 1 -2 -4  5]\n",
      "0\n"
     ]
    }
   ],
   "source": [
    "print(f1_error)\n",
    "print(np.sum(f1_error))"
   ]
  },
  {
   "cell_type": "markdown",
   "metadata": {
    "colab_type": "text",
    "id": "LB3B4cWtOBxm"
   },
   "source": [
    "입력변수 | 실제값 | 예측값 | 오차\n",
    "--- | ---| ---| ---\n",
    "5   |   16|   15|   1\n",
    "10  |   23|   25|   -2\n",
    "15  |   31|   35|   -4\n",
    "20  |   50|   45|   5"
   ]
  },
  {
   "cell_type": "code",
   "execution_count": 11,
   "metadata": {
    "colab": {
     "base_uri": "https://localhost:8080/",
     "height": 265
    },
    "colab_type": "code",
    "executionInfo": {
     "elapsed": 1097,
     "status": "ok",
     "timestamp": 1597711965911,
     "user": {
      "displayName": "Jonghwa Park",
      "photoUrl": "https://lh3.googleusercontent.com/a-/AOh14Giy-l9x19U9ycnezZAxcaspNGjWH_bQM_-lIsEW1Q=s64",
      "userId": "13982318291827751519"
     },
     "user_tz": -540
    },
    "id": "LSV79aNTxf9h",
    "outputId": "c3d79900-dd34-4950-bda0-262f4c64e603"
   },
   "outputs": [
    {
     "data": {
      "image/png": "[encoded data removed]",
      "text/plain": [
       "<Figure size 432x288 with 1 Axes>"
      ]
     },
     "metadata": {
      "needs_background": "light",
      "tags": []
     },
     "output_type": "display_data"
    }
   ],
   "source": [
    "#그래프 그리기 - 예측치의 직선의 방정식\n",
    "#f_1(X) = 2X + 5\n",
    "plt.plot(X, f1_x)\n",
    "\n",
    "#오차를 그려보기\n",
    "for i in range(len(X)):\n",
    "    x = np.array([X[i], X[i]]) #현재 온도\n",
    "    y = np.array([f1_x[i], Y[i]]) #실제값과 예측값\n",
    "    plt.plot(x, y, marker= 'o')\n",
    "    \n",
    "plt.grid()\n",
    "plt.show()"
   ]
  },
  {
   "cell_type": "markdown",
   "metadata": {
    "colab_type": "text",
    "id": "af4N2sXpP6Mk"
   },
   "source": [
    "직선의 방정식을 $f_2(X) = 30$ 라고 생각하고 오차를 구해보자."
   ]
  },
  {
   "cell_type": "code",
   "execution_count": 15,
   "metadata": {
    "colab": {},
    "colab_type": "code",
    "executionInfo": {
     "elapsed": 1069,
     "status": "ok",
     "timestamp": 1597712330211,
     "user": {
      "displayName": "Jonghwa Park",
      "photoUrl": "https://lh3.googleusercontent.com/a-/AOh14Giy-l9x19U9ycnezZAxcaspNGjWH_bQM_-lIsEW1Q=s64",
      "userId": "13982318291827751519"
     },
     "user_tz": -540
    },
    "id": "wxlDxaZU7Qnl"
   },
   "outputs": [],
   "source": [
    "#새로운 직선의 방정식을 y = 30 로 하고 직선을 그려보자.\n",
    "#오차의 합은 0이지만 수평 직선은 데이터를 잘 표현하지 못하고 있다.\n",
    "\n",
    "f2_x = np.full((X.shape),30)\n",
    "f2_error = Y - f2_x\n"
   ]
  },
  {
   "cell_type": "code",
   "execution_count": 16,
   "metadata": {
    "colab": {
     "base_uri": "https://localhost:8080/",
     "height": 53
    },
    "colab_type": "code",
    "executionInfo": {
     "elapsed": 1039,
     "status": "ok",
     "timestamp": 1597712339271,
     "user": {
      "displayName": "Jonghwa Park",
      "photoUrl": "https://lh3.googleusercontent.com/a-/AOh14Giy-l9x19U9ycnezZAxcaspNGjWH_bQM_-lIsEW1Q=s64",
      "userId": "13982318291827751519"
     },
     "user_tz": -540
    },
    "id": "P8LB78FT7ZFK",
    "outputId": "565b2fe7-97d9-4ec2-b49c-b6635481cb7a"
   },
   "outputs": [
    {
     "name": "stdout",
     "output_type": "stream",
     "text": [
      "[-14  -7   1  20]\n",
      "0\n"
     ]
    }
   ],
   "source": [
    "print(f2_error)\n",
    "print(np.sum(f2_error))"
   ]
  },
  {
   "cell_type": "code",
   "execution_count": 19,
   "metadata": {
    "colab": {
     "base_uri": "https://localhost:8080/",
     "height": 265
    },
    "colab_type": "code",
    "executionInfo": {
     "elapsed": 1064,
     "status": "ok",
     "timestamp": 1597712537563,
     "user": {
      "displayName": "Jonghwa Park",
      "photoUrl": "https://lh3.googleusercontent.com/a-/AOh14Giy-l9x19U9ycnezZAxcaspNGjWH_bQM_-lIsEW1Q=s64",
      "userId": "13982318291827751519"
     },
     "user_tz": -540
    },
    "id": "k9QIZ7Tw7eAa",
    "outputId": "665601b7-9c88-4cb2-9703-31e2f2ecc998"
   },
   "outputs": [
    {
     "data": {
      "image/png": "[encoded data removed]",
      "text/plain": [
       "<Figure size 432x288 with 1 Axes>"
      ]
     },
     "metadata": {
      "needs_background": "light",
      "tags": []
     },
     "output_type": "display_data"
    }
   ],
   "source": [
    "#새로운 예측 방정식 y= 30  오차의 합은 여전히 0\n",
    "plt.plot(X, f2_x)\n",
    "\n",
    "#오차를 그려보기\n",
    "for i in range(len(X)):\n",
    "    x = np.array([X[i], X[i]])\n",
    "    y = np.array([f2_x[i], Y[i]])\n",
    "    plt.plot(x, y, marker= 'o')\n",
    "    \n",
    "plt.grid()\n",
    "plt.show()"
   ]
  },
  {
   "cell_type": "markdown",
   "metadata": {
    "colab_type": "text",
    "id": "AAZpkxON7fD3"
   },
   "source": [
    "직선의 방정식을 $f_3(X) = -2X + 55$ 라고 생각하고 오차를 구해보자."
   ]
  },
  {
   "cell_type": "code",
   "execution_count": 20,
   "metadata": {
    "colab": {},
    "colab_type": "code",
    "executionInfo": {
     "elapsed": 1079,
     "status": "ok",
     "timestamp": 1597712607384,
     "user": {
      "displayName": "Jonghwa Park",
      "photoUrl": "https://lh3.googleusercontent.com/a-/AOh14Giy-l9x19U9ycnezZAxcaspNGjWH_bQM_-lIsEW1Q=s64",
      "userId": "13982318291827751519"
     },
     "user_tz": -540
    },
    "id": "yRqYX1Fa52mC"
   },
   "outputs": [],
   "source": [
    "#새로운 직선의 방정식을 -2*x + 55 로 하고 직선을 그려보자.\n",
    "#오차의 합은 0이지만 직선은 데이터를 잘 표현하지 못하고 있다.\n",
    "\n",
    "f3_x = -2*X + 55\n",
    "f3_error = Y - f3_x"
   ]
  },
  {
   "cell_type": "code",
   "execution_count": 21,
   "metadata": {
    "colab": {
     "base_uri": "https://localhost:8080/",
     "height": 53
    },
    "colab_type": "code",
    "executionInfo": {
     "elapsed": 1118,
     "status": "ok",
     "timestamp": 1597712615922,
     "user": {
      "displayName": "Jonghwa Park",
      "photoUrl": "https://lh3.googleusercontent.com/a-/AOh14Giy-l9x19U9ycnezZAxcaspNGjWH_bQM_-lIsEW1Q=s64",
      "userId": "13982318291827751519"
     },
     "user_tz": -540
    },
    "id": "SYRVq1fNxsDQ",
    "outputId": "25d283c0-5b75-4372-c276-3850ae19e9f1"
   },
   "outputs": [
    {
     "name": "stdout",
     "output_type": "stream",
     "text": [
      "[-29 -12   6  35]\n",
      "0\n"
     ]
    }
   ],
   "source": [
    "print(f3_error)\n",
    "print(np.sum(f3_error))"
   ]
  },
  {
   "cell_type": "code",
   "execution_count": 22,
   "metadata": {
    "colab": {
     "base_uri": "https://localhost:8080/",
     "height": 265
    },
    "colab_type": "code",
    "executionInfo": {
     "elapsed": 1180,
     "status": "ok",
     "timestamp": 1597712657362,
     "user": {
      "displayName": "Jonghwa Park",
      "photoUrl": "https://lh3.googleusercontent.com/a-/AOh14Giy-l9x19U9ycnezZAxcaspNGjWH_bQM_-lIsEW1Q=s64",
      "userId": "13982318291827751519"
     },
     "user_tz": -540
    },
    "id": "keIvi2Fq6BNp",
    "outputId": "6bd27928-aa42-48e3-dab8-0724d3227d0d"
   },
   "outputs": [
    {
     "data": {
      "image/png": "[encoded data removed]",
      "text/plain": [
       "<Figure size 432x288 with 1 Axes>"
      ]
     },
     "metadata": {
      "needs_background": "light",
      "tags": []
     },
     "output_type": "display_data"
    }
   ],
   "source": [
    "#새로운 예측 방정식 -2*x + 55  오차의 합은 여전히 0\n",
    "plt.plot(X, f3_x)\n",
    "\n",
    "#오차를 그려보기\n",
    "for i in range(len(X)):\n",
    "    x = np.array([X[i], X[i]])\n",
    "    y = np.array([f3_x[i], Y[i]])\n",
    "    plt.plot(x, y, marker= 'o')\n",
    "    \n",
    "plt.grid()\n",
    "plt.show()"
   ]
  },
  {
   "cell_type": "markdown",
   "metadata": {
    "colab_type": "text",
    "id": "A7UdWjFY9Glj"
   },
   "source": [
    "3개의 직선을 모두 한꺼번에 그려보겠습니다.\n",
    "어떤 직선이 데이터의 특성을 가장 잘 표현하는 그래프라고 생각하세요?"
   ]
  },
  {
   "cell_type": "code",
   "execution_count": 23,
   "metadata": {
    "colab": {
     "base_uri": "https://localhost:8080/",
     "height": 265
    },
    "colab_type": "code",
    "executionInfo": {
     "elapsed": 1437,
     "status": "ok",
     "timestamp": 1597712704289,
     "user": {
      "displayName": "Jonghwa Park",
      "photoUrl": "https://lh3.googleusercontent.com/a-/AOh14Giy-l9x19U9ycnezZAxcaspNGjWH_bQM_-lIsEW1Q=s64",
      "userId": "13982318291827751519"
     },
     "user_tz": -540
    },
    "id": "WF24JjlC61lC",
    "outputId": "767aeb25-54ec-4c69-9f9d-806182a80372"
   },
   "outputs": [
    {
     "data": {
      "image/png": "[encoded data removed]",
      "text/plain": [
       "<Figure size 432x288 with 1 Axes>"
      ]
     },
     "metadata": {
      "needs_background": "light",
      "tags": []
     },
     "output_type": "display_data"
    }
   ],
   "source": [
    "plt.scatter(X, Y)\n",
    "plt.plot(X, f1_x)\n",
    "plt.plot(X, f2_x)\n",
    "plt.plot(X, f3_x)\n",
    "plt.grid()\n",
    "plt.show()"
   ]
  },
  {
   "cell_type": "markdown",
   "metadata": {
    "colab_type": "text",
    "id": "XI1z1xIP-LtQ"
   },
   "source": [
    "정답과 예측치와의 오차의 단순 합을 하면 모두 0이 되며 어떤 것이 더 좋은지 판단을 할 수 없습니다. 이 현상은 음수의 값으로 인한 결과이기 때문에 오차의결과를 양수로 만들어주는 작업을 해보고 새롭게 **오차들의 제곱들의 평균을 구한 후 이 값의 제곱근으로 오차를 정의해보겠습니다.**\n",
    "\n",
    "RMSE = Root Mean Square Error\n",
    "$$\n",
    "RMSE = \\sqrt{\\frac{1}{n}\\sum_{i=1}^{n}{(Y_i - f(X_i))^2}}\n",
    "$$"
   ]
  },
  {
   "cell_type": "code",
   "execution_count": 24,
   "metadata": {
    "colab": {
     "base_uri": "https://localhost:8080/",
     "height": 71
    },
    "colab_type": "code",
    "executionInfo": {
     "elapsed": 1069,
     "status": "ok",
     "timestamp": 1597712950210,
     "user": {
      "displayName": "Jonghwa Park",
      "photoUrl": "https://lh3.googleusercontent.com/a-/AOh14Giy-l9x19U9ycnezZAxcaspNGjWH_bQM_-lIsEW1Q=s64",
      "userId": "13982318291827751519"
     },
     "user_tz": -540
    },
    "id": "Y1NW2CYW9fwZ",
    "outputId": "b047bf13-996d-4787-aabc-0cfdf03c7974"
   },
   "outputs": [
    {
     "name": "stdout",
     "output_type": "stream",
     "text": [
      "3.391164991562634\n",
      "12.708265027138834\n",
      "23.695991222145572\n"
     ]
    }
   ],
   "source": [
    "def RMSE(a, b, X, y):\n",
    "    RMSE = np.sqrt(((y-(a*X+b))**2).mean())\n",
    "    return RMSE\n",
    "\n",
    "#첫 번째 직선 f(x)  = 2x+ 5\n",
    "print(RMSE(2, 5, X, Y))\n",
    "\n",
    "#두 번째 직선 f(x)  = 30\n",
    "print(RMSE(0, 30, X, Y))\n",
    "\n",
    "#세 번째 직선 f(x)  = -2x+ 55\n",
    "print(RMSE(-2, 55, X, Y))\n"
   ]
  },
  {
   "cell_type": "markdown",
   "metadata": {
    "colab_type": "text",
    "id": "3wE8EgRIAZz3"
   },
   "source": [
    "따라서 에러가 가장 작은 첫 번째 방정식 $f(x) = 2x + 5$가 3가지 직선 중에서는 데이터의 특성을 가장 잘 설명할 수 있는 식이라고 말할 수 있다."
   ]
  },
  {
   "cell_type": "markdown",
   "metadata": {
    "colab_type": "text",
    "id": "S1pAcKoIVXP0"
   },
   "source": [
    "평균제곱근오차와 같이 좋은 직선을 찾기 위해 크기를 최소화해야 하는 값에 대한 함수를 선형회귀 모델의 비용함수(Cost Function)라고 한다.\n",
    "$$\n",
    "f(X) = \\beta_1X + \\beta_0\n",
    "$$\n",
    "$$\n",
    "Cost(\\beta_0, \\beta_1) = \\sqrt{\\frac{1}{n}\\sum_{i=1}^{n}{(Y_i - f(X_i))^2}}\n",
    "$$"
   ]
  }
 ],
 "metadata": {
  "colab": {
   "authorship_tag": "ABX9TyMck9nuUDoZGIwl0ol1DBcf",
   "collapsed_sections": [],
   "name": "3-3-2_데이터 시각화하기(학습하기5-1,5-2까지).ipynb",
   "provenance": []
  },
  "kernelspec": {
   "display_name": "Python 3",
   "language": "python",
   "name": "python3"
  },
  "language_info": {
   "codemirror_mode": {
    "name": "ipython",
    "version": 3
   },
   "file_extension": ".py",
   "mimetype": "text/x-python",
   "name": "python",
   "nbconvert_exporter": "python",
   "pygments_lexer": "ipython3",
   "version": "3.8.5"
  }
 },
 "nbformat": 4,
 "nbformat_minor": 1
}
